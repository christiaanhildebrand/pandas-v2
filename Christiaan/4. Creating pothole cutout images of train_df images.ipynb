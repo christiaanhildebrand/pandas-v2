{
 "cells": [
  {
   "cell_type": "code",
   "execution_count": 2,
   "id": "d1365ddd",
   "metadata": {},
   "outputs": [],
   "source": [
    "import pandas as pd\n",
    "import numpy as np\n",
    "\n",
    "from sklearn.model_selection import train_test_split\n",
    "\n",
    "import tensorflow as tf\n",
    "from tensorflow.keras.models import Sequential\n",
    "from tensorflow.keras.layers import Conv2D, MaxPooling2D, Flatten, Dense, Dropout, BatchNormalization\n",
    "from tensorflow.keras.preprocessing.image import ImageDataGenerator\n",
    "from ultralytics import YOLO\n",
    "import albumentations as A\n",
    "from albumentations.pytorch import ToTensorV2\n",
    "\n",
    "import os\n",
    "\n",
    "import cv2\n",
    "\n",
    "import matplotlib.pyplot as plt\n",
    "\n",
    "import plotly.graph_objects as go\n",
    "import plotly.express as px\n",
    "\n",
    "from ipywidgets import widgets, VBox, HBox\n",
    "\n",
    "from IPython.display import display, clear_output\n",
    "\n",
    "from PIL import Image, ImageDraw, ImageFont\n",
    "\n",
    "import base64\n",
    "from io import BytesIO"
   ]
  },
  {
   "cell_type": "code",
   "execution_count": 2,
   "id": "1c1d7f02",
   "metadata": {},
   "outputs": [],
   "source": [
    "train_df = pd.read_csv('data/train_df.csv')"
   ]
  },
  {
   "cell_type": "code",
   "execution_count": 3,
   "id": "b5dbbfd4",
   "metadata": {},
   "outputs": [
    {
     "data": {
      "text/html": [
       "<div>\n",
       "<style scoped>\n",
       "    .dataframe tbody tr th:only-of-type {\n",
       "        vertical-align: middle;\n",
       "    }\n",
       "\n",
       "    .dataframe tbody tr th {\n",
       "        vertical-align: top;\n",
       "    }\n",
       "\n",
       "    .dataframe thead th {\n",
       "        text-align: right;\n",
       "    }\n",
       "</style>\n",
       "<table border=\"1\" class=\"dataframe\">\n",
       "  <thead>\n",
       "    <tr style=\"text-align: right;\">\n",
       "      <th></th>\n",
       "      <th>pothole_id</th>\n",
       "      <th>red_point_1_x</th>\n",
       "      <th>red_point_1_y</th>\n",
       "      <th>red_point_2_x</th>\n",
       "      <th>red_point_2_y</th>\n",
       "    </tr>\n",
       "  </thead>\n",
       "  <tbody>\n",
       "    <tr>\n",
       "      <th>0</th>\n",
       "      <td>p101</td>\n",
       "      <td>21.0</td>\n",
       "      <td>233.0</td>\n",
       "      <td>286.0</td>\n",
       "      <td>214.0</td>\n",
       "    </tr>\n",
       "    <tr>\n",
       "      <th>1</th>\n",
       "      <td>p102</td>\n",
       "      <td>297.0</td>\n",
       "      <td>176.0</td>\n",
       "      <td>297.0</td>\n",
       "      <td>352.0</td>\n",
       "    </tr>\n",
       "    <tr>\n",
       "      <th>2</th>\n",
       "      <td>p106</td>\n",
       "      <td>341.0</td>\n",
       "      <td>89.0</td>\n",
       "      <td>228.0</td>\n",
       "      <td>312.0</td>\n",
       "    </tr>\n",
       "  </tbody>\n",
       "</table>\n",
       "</div>"
      ],
      "text/plain": [
       "  pothole_id  red_point_1_x  red_point_1_y  red_point_2_x  red_point_2_y\n",
       "0       p101           21.0          233.0          286.0          214.0\n",
       "1       p102          297.0          176.0          297.0          352.0\n",
       "2       p106          341.0           89.0          228.0          312.0"
      ]
     },
     "execution_count": 3,
     "metadata": {},
     "output_type": "execute_result"
    }
   ],
   "source": [
    "train_df.head(3)"
   ]
  },
  {
   "cell_type": "markdown",
   "id": "a7efbfef",
   "metadata": {},
   "source": [
    "## Loading Model"
   ]
  },
  {
   "cell_type": "code",
   "execution_count": 3,
   "id": "904f3318",
   "metadata": {},
   "outputs": [],
   "source": [
    "pothole_model = YOLO('YOLO/Pothole ID/best_model.pt')"
   ]
  },
  {
   "cell_type": "code",
   "execution_count": null,
   "id": "19119770",
   "metadata": {},
   "outputs": [],
   "source": [
    "input_dir = '../../../data/Patch Perfect Data/train_images'\n",
    "output_dir = 'data/pothole_images'\n",
    "\n",
    "# Create the output directory if it doesn't exist\n",
    "os.makedirs(output_dir, exist_ok=True)"
   ]
  },
  {
   "cell_type": "code",
   "execution_count": null,
   "id": "b21530a6",
   "metadata": {},
   "outputs": [],
   "source": [
    "for index, row in train_df.iterrows():\n",
    "    pothole_id = row['pothole_id']\n",
    "    image_path = os.path.join(input_dir, f'{pothole_id}.jpg')\n",
    "    \n",
    "    # Load the image\n",
    "    image = cv2.imread(image_path)\n",
    "    \n",
    "    # Detect pothole bounding boxes using the model\n",
    "    results = pothole_model.predict(source=image, save=False, verbose=False)\n",
    "    \n",
    "    if len(results[0].boxes) > 0:\n",
    "        # Get the bounding box with the highest confidence\n",
    "        pothole_boxes = results[0].boxes.xyxy.cpu().numpy()\n",
    "        pothole_confidences = results[0].boxes.conf.cpu().numpy()\n",
    "        max_conf_idx = np.argmax(pothole_confidences)\n",
    "        pothole_bbox = pothole_boxes[max_conf_idx].astype(int)\n",
    "        \n",
    "        # Extract the pothole region\n",
    "        x1, y1, x2, y2 = pothole_bbox\n",
    "        pothole_image = image[y1:y2, x1:x2]\n",
    "    else:\n",
    "        # If no pothole is detected, use the whole image\n",
    "        pothole_image = image\n",
    "    \n",
    "    # Save the extracted pothole image\n",
    "    output_path = os.path.join(output_dir, f'{pothole_id}.jpg')\n",
    "    cv2.imwrite(output_path, pothole_image)\n",
    "\n",
    "print(\"Pothole images extracted and saved successfully.\")"
   ]
  },
  {
   "cell_type": "code",
   "execution_count": null,
   "id": "3452b632",
   "metadata": {},
   "outputs": [],
   "source": []
  },
  {
   "cell_type": "code",
   "execution_count": null,
   "id": "b922195a",
   "metadata": {},
   "outputs": [],
   "source": []
  },
  {
   "cell_type": "code",
   "execution_count": null,
   "id": "69847c25",
   "metadata": {},
   "outputs": [],
   "source": []
  },
  {
   "cell_type": "markdown",
   "id": "571a47f9",
   "metadata": {},
   "source": [
    "## Storing Original Images"
   ]
  },
  {
   "cell_type": "code",
   "execution_count": 5,
   "id": "ab1cc910",
   "metadata": {},
   "outputs": [
    {
     "name": "stdout",
     "output_type": "stream",
     "text": [
      "Full images saved successfully in 'train_images' directory.\n"
     ]
    }
   ],
   "source": [
    "import os\n",
    "import cv2\n",
    "\n",
    "# Directories\n",
    "input_dir = '../../../data/Patch Perfect Data/train_images'  # Directory containing the original images\n",
    "output_dir = 'data/train_images'  # Directory to save the full images\n",
    "\n",
    "# Create the output directory if it doesn't exist\n",
    "os.makedirs(output_dir, exist_ok=True)\n",
    "\n",
    "# Iterate through the DataFrame and save the full images\n",
    "for index, row in train_df.iterrows():\n",
    "    pothole_id = row['pothole_id']\n",
    "    image_path = os.path.join(input_dir, f'{pothole_id}.jpg')\n",
    "    \n",
    "    # Load the image\n",
    "    image = cv2.imread(image_path)\n",
    "    \n",
    "    # Save the full image to the output directory\n",
    "    output_path = os.path.join(output_dir, f'{pothole_id}.jpg')\n",
    "    cv2.imwrite(output_path, image)\n",
    "\n",
    "print(\"Full images saved successfully in 'train_images' directory.\")"
   ]
  },
  {
   "cell_type": "code",
   "execution_count": null,
   "id": "59bd1584",
   "metadata": {},
   "outputs": [],
   "source": []
  },
  {
   "cell_type": "code",
   "execution_count": null,
   "id": "1d585822",
   "metadata": {},
   "outputs": [],
   "source": []
  },
  {
   "cell_type": "code",
   "execution_count": null,
   "id": "084742e3",
   "metadata": {},
   "outputs": [],
   "source": []
  },
  {
   "cell_type": "code",
   "execution_count": null,
   "id": "442f88f3",
   "metadata": {},
   "outputs": [],
   "source": []
  },
  {
   "cell_type": "code",
   "execution_count": null,
   "id": "7e831116",
   "metadata": {},
   "outputs": [],
   "source": []
  },
  {
   "cell_type": "code",
   "execution_count": null,
   "id": "d4dd3e2c",
   "metadata": {},
   "outputs": [],
   "source": []
  },
  {
   "cell_type": "markdown",
   "id": "b8c11b31",
   "metadata": {},
   "source": [
    "## Creating Cutout images of Segmentation/images"
   ]
  },
  {
   "cell_type": "code",
   "execution_count": 7,
   "id": "4abe1e19",
   "metadata": {},
   "outputs": [],
   "source": [
    "input_dir = '../../../data/Patch Perfect Data/train_images'\n",
    "output_dir = 'YOLO/Segmentation/pothole_cutouts/images'"
   ]
  },
  {
   "cell_type": "code",
   "execution_count": 8,
   "id": "2d8d2b69",
   "metadata": {},
   "outputs": [],
   "source": [
    "os.makedirs(output_dir, exist_ok=True)"
   ]
  },
  {
   "cell_type": "code",
   "execution_count": 9,
   "id": "0c48326b",
   "metadata": {},
   "outputs": [
    {
     "name": "stdout",
     "output_type": "stream",
     "text": [
      "No pothole detected for image p1153.jpg\n",
      "No pothole detected for image p1334.jpg\n",
      "No pothole detected for image p1333.jpg\n",
      "No pothole detected for image p1177.jpg\n",
      "No pothole detected for image p409.jpg\n",
      "No pothole detected for image p1148.jpg\n",
      "No pothole detected for image p1159.jpg\n",
      "No pothole detected for image p1165.jpg\n",
      "Pothole cutouts processing complete.\n"
     ]
    }
   ],
   "source": [
    "for image_name in os.listdir(input_dir):\n",
    "    if image_name.endswith(('.jpg', '.jpeg', '.png')):\n",
    "        image_path = os.path.join(input_dir, image_name)\n",
    "        image = cv2.imread(image_path)\n",
    "\n",
    "        # Detect pothole bounding boxes using the model\n",
    "        results = pothole_model.predict(source=image, save=False, verbose=False)\n",
    "\n",
    "        if len(results[0].boxes) > 0:\n",
    "            # Get the bounding box with the highest confidence\n",
    "            pothole_boxes = results[0].boxes.xyxy.cpu().numpy()\n",
    "            pothole_confidences = results[0].boxes.conf.cpu().numpy()\n",
    "            max_conf_idx = np.argmax(pothole_confidences)\n",
    "            pothole_bbox = pothole_boxes[max_conf_idx].astype(int)\n",
    "            \n",
    "            # Extract the pothole region\n",
    "            x1, y1, x2, y2 = pothole_bbox\n",
    "            pothole_image = image[y1:y2, x1:x2]\n",
    "            \n",
    "            # Save the extracted pothole image\n",
    "            output_path = os.path.join(output_dir, image_name)\n",
    "            cv2.imwrite(output_path, pothole_image)\n",
    "        else:\n",
    "            # If no pothole is detected, print a message and skip saving\n",
    "            print(f\"No pothole detected for image {image_name}\")\n",
    "\n",
    "print(\"Pothole cutouts processing complete.\")"
   ]
  },
  {
   "cell_type": "code",
   "execution_count": null,
   "id": "d5a0563d",
   "metadata": {},
   "outputs": [],
   "source": []
  }
 ],
 "metadata": {
  "kernelspec": {
   "display_name": "Main",
   "language": "python",
   "name": "main"
  },
  "language_info": {
   "codemirror_mode": {
    "name": "ipython",
    "version": 3
   },
   "file_extension": ".py",
   "mimetype": "text/x-python",
   "name": "python",
   "nbconvert_exporter": "python",
   "pygments_lexer": "ipython3",
   "version": "3.11.4"
  }
 },
 "nbformat": 4,
 "nbformat_minor": 5
}
