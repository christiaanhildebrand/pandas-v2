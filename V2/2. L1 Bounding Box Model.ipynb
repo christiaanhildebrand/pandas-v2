{
 "cells": [
  {
   "cell_type": "code",
   "execution_count": 1,
   "id": "3c62d099",
   "metadata": {},
   "outputs": [],
   "source": [
    "import pandas as pd\n",
    "import numpy as np\n",
    "\n",
    "from sklearn.model_selection import train_test_split\n",
    "\n",
    "import tensorflow as tf\n",
    "from tensorflow.keras.models import Sequential\n",
    "from tensorflow.keras.layers import Conv2D, MaxPooling2D, Flatten, Dense, Dropout, BatchNormalization\n",
    "from tensorflow.keras.preprocessing.image import ImageDataGenerator\n",
    "from ultralytics import YOLO\n",
    "import albumentations as A\n",
    "from albumentations.pytorch import ToTensorV2\n",
    "\n",
    "import os\n",
    "\n",
    "import cv2\n",
    "\n",
    "import matplotlib.pyplot as plt\n",
    "\n",
    "import plotly.graph_objects as go\n",
    "import plotly.express as px\n",
    "\n",
    "from ipywidgets import widgets, VBox, HBox\n",
    "\n",
    "from IPython.display import display, clear_output\n",
    "\n",
    "from PIL import Image, ImageDraw, ImageFont\n",
    "\n",
    "import base64\n",
    "from io import BytesIO\n",
    "import shutil"
   ]
  },
  {
   "cell_type": "markdown",
   "id": "d7ff5cf2",
   "metadata": {},
   "source": [
    "# Finding images containing L1 bounding box and saving to folder"
   ]
  },
  {
   "cell_type": "code",
   "execution_count": 2,
   "id": "3e9ba7cf",
   "metadata": {},
   "outputs": [
    {
     "name": "stdout",
     "output_type": "stream",
     "text": [
      "Filtering completed, and only label 1 (converted to label 0) annotations were kept.\n"
     ]
    }
   ],
   "source": [
    "image_dir = 'Combined Data/train_images'\n",
    "annotation_dir = 'Combined Data/train_annotations'\n",
    "output_image_dir = 'data/2 L1 ID model/images'\n",
    "output_annotation_dir = 'data/2 L1 ID model/labels'\n",
    "\n",
    "os.makedirs(output_image_dir, exist_ok=True)\n",
    "os.makedirs(output_annotation_dir, exist_ok=True)\n",
    "\n",
    "# Get lists of image and annotation files\n",
    "image_files = {os.path.splitext(f)[0] for f in os.listdir(image_dir) if f.endswith('.jpg')}\n",
    "annotation_files = {os.path.splitext(f)[0] for f in os.listdir(annotation_dir) if f.endswith('.txt')}\n",
    "\n",
    "# Find the intersection of images and annotations (i.e., pairs that exist in both directories)\n",
    "matching_files = image_files.intersection(annotation_files)\n",
    "\n",
    "for file_name in matching_files:\n",
    "    # Read the annotation file\n",
    "    annotation_path = os.path.join(annotation_dir, f'{file_name}.txt')\n",
    "    with open(annotation_path, 'r') as file:\n",
    "        lines = file.readlines()\n",
    "    \n",
    "    # Filter for label 1 and change it to label 0\n",
    "    new_lines = []\n",
    "    for line in lines:\n",
    "        parts = line.strip().split()\n",
    "        if parts[0] == '1':\n",
    "            parts[0] = '0'\n",
    "            new_lines.append(' '.join(parts))\n",
    "    \n",
    "    # If the new_lines list is not empty, save the image and the new annotation\n",
    "    if new_lines:\n",
    "        # Copy the image\n",
    "        image_path = os.path.join(image_dir, f'{file_name}.jpg')\n",
    "        output_image_path = os.path.join(output_image_dir, f'{file_name}.jpg')\n",
    "        shutil.copy(image_path, output_image_path)\n",
    "        \n",
    "        # Save the new annotation\n",
    "        output_annotation_path = os.path.join(output_annotation_dir, f'{file_name}.txt')\n",
    "        with open(output_annotation_path, 'w') as file:\n",
    "            file.write('\\n'.join(new_lines) + '\\n')\n",
    "\n",
    "print(\"Filtering completed, and only label 1 (converted to label 0) annotations were kept.\")"
   ]
  },
  {
   "cell_type": "code",
   "execution_count": null,
   "id": "77b304ca",
   "metadata": {},
   "outputs": [],
   "source": []
  }
 ],
 "metadata": {
  "kernelspec": {
   "display_name": "Main",
   "language": "python",
   "name": "main"
  },
  "language_info": {
   "codemirror_mode": {
    "name": "ipython",
    "version": 3
   },
   "file_extension": ".py",
   "mimetype": "text/x-python",
   "name": "python",
   "nbconvert_exporter": "python",
   "pygments_lexer": "ipython3",
   "version": "3.11.4"
  }
 },
 "nbformat": 4,
 "nbformat_minor": 5
}
