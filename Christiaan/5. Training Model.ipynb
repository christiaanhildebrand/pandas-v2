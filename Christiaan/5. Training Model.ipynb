{
 "cells": [
  {
   "cell_type": "code",
   "execution_count": 1,
   "id": "d1b9e21e",
   "metadata": {},
   "outputs": [],
   "source": [
    "import pandas as pd\n",
    "import numpy as np\n",
    "import random\n",
    "\n",
    "from sklearn.model_selection import train_test_split\n",
    "\n",
    "import tensorflow as tf\n",
    "from tensorflow.keras.models import Sequential\n",
    "from tensorflow.keras.layers import Conv2D, MaxPooling2D, Flatten, Dense, Dropout, BatchNormalization\n",
    "from tensorflow.keras.preprocessing.image import ImageDataGenerator\n",
    "from ultralytics import YOLO\n",
    "import albumentations as A\n",
    "from albumentations.pytorch import ToTensorV2\n",
    "import torch\n",
    "import torch.nn as nn\n",
    "import torch.optim as optim\n",
    "from torchvision import models\n",
    "from torch.utils.data import DataLoader, Dataset\n",
    "import torchvision.transforms as transforms\n",
    "\n",
    "import os\n",
    "\n",
    "import cv2\n",
    "\n",
    "import matplotlib.pyplot as plt\n",
    "\n",
    "import plotly.graph_objects as go\n",
    "import plotly.express as px\n",
    "\n",
    "from ipywidgets import widgets, VBox, HBox\n",
    "\n",
    "from IPython.display import display, clear_output\n",
    "\n",
    "from PIL import Image, ImageDraw, ImageFont\n",
    "\n",
    "import base64\n",
    "from io import BytesIO"
   ]
  },
  {
   "cell_type": "markdown",
   "id": "a2e7648c",
   "metadata": {},
   "source": [
    "### Loading Data"
   ]
  },
  {
   "cell_type": "code",
   "execution_count": 2,
   "id": "e50388d6",
   "metadata": {},
   "outputs": [],
   "source": [
    "train_df = pd.read_csv('data/train_df.csv')\n",
    "train_labels = pd.read_csv('../../../data/Patch Perfect Data/train_labels.csv')\n",
    "\n",
    "train_labels.columns = ['pothole_id', 'bags_used']\n",
    "train_labels['pothole_id'] = 'p'+train_labels['pothole_id'].astype(str)"
   ]
  },
  {
   "cell_type": "code",
   "execution_count": 3,
   "id": "3a620fc4",
   "metadata": {},
   "outputs": [],
   "source": [
    "df = pd.merge(train_df, train_labels, on='pothole_id', how='inner')"
   ]
  },
  {
   "cell_type": "code",
   "execution_count": 4,
   "id": "9b2e0c33",
   "metadata": {},
   "outputs": [
    {
     "name": "stdout",
     "output_type": "stream",
     "text": [
      "(387, 5)\n",
      "(644, 2)\n",
      "(387, 6)\n"
     ]
    }
   ],
   "source": [
    "print(train_df.shape)\n",
    "print(train_labels.shape)\n",
    "print(df.shape)"
   ]
  },
  {
   "cell_type": "code",
   "execution_count": 5,
   "id": "d8ba7455",
   "metadata": {},
   "outputs": [
    {
     "data": {
      "text/html": [
       "<div>\n",
       "<style scoped>\n",
       "    .dataframe tbody tr th:only-of-type {\n",
       "        vertical-align: middle;\n",
       "    }\n",
       "\n",
       "    .dataframe tbody tr th {\n",
       "        vertical-align: top;\n",
       "    }\n",
       "\n",
       "    .dataframe thead th {\n",
       "        text-align: right;\n",
       "    }\n",
       "</style>\n",
       "<table border=\"1\" class=\"dataframe\">\n",
       "  <thead>\n",
       "    <tr style=\"text-align: right;\">\n",
       "      <th></th>\n",
       "      <th>pothole_id</th>\n",
       "      <th>red_point_1_x</th>\n",
       "      <th>red_point_1_y</th>\n",
       "      <th>red_point_2_x</th>\n",
       "      <th>red_point_2_y</th>\n",
       "      <th>bags_used</th>\n",
       "    </tr>\n",
       "  </thead>\n",
       "  <tbody>\n",
       "    <tr>\n",
       "      <th>0</th>\n",
       "      <td>p101</td>\n",
       "      <td>21.0</td>\n",
       "      <td>233.0</td>\n",
       "      <td>286.0</td>\n",
       "      <td>214.0</td>\n",
       "      <td>0.5</td>\n",
       "    </tr>\n",
       "    <tr>\n",
       "      <th>1</th>\n",
       "      <td>p102</td>\n",
       "      <td>297.0</td>\n",
       "      <td>176.0</td>\n",
       "      <td>297.0</td>\n",
       "      <td>352.0</td>\n",
       "      <td>1.0</td>\n",
       "    </tr>\n",
       "    <tr>\n",
       "      <th>2</th>\n",
       "      <td>p106</td>\n",
       "      <td>341.0</td>\n",
       "      <td>89.0</td>\n",
       "      <td>228.0</td>\n",
       "      <td>312.0</td>\n",
       "      <td>0.5</td>\n",
       "    </tr>\n",
       "  </tbody>\n",
       "</table>\n",
       "</div>"
      ],
      "text/plain": [
       "  pothole_id  red_point_1_x  red_point_1_y  red_point_2_x  red_point_2_y  \\\n",
       "0       p101           21.0          233.0          286.0          214.0   \n",
       "1       p102          297.0          176.0          297.0          352.0   \n",
       "2       p106          341.0           89.0          228.0          312.0   \n",
       "\n",
       "   bags_used  \n",
       "0        0.5  \n",
       "1        1.0  \n",
       "2        0.5  "
      ]
     },
     "execution_count": 5,
     "metadata": {},
     "output_type": "execute_result"
    }
   ],
   "source": [
    "df.head(3)"
   ]
  },
  {
   "cell_type": "markdown",
   "id": "c3c51694",
   "metadata": {},
   "source": [
    "## Adding mm to pixel ratio to dataset"
   ]
  },
  {
   "cell_type": "code",
   "execution_count": 6,
   "id": "9d0596da",
   "metadata": {},
   "outputs": [],
   "source": [
    "def calculate_distance(point1, point2):\n",
    "    return np.sqrt((point1[0] - point2[0]) ** 2 + (point1[1] - point2[1]) ** 2)"
   ]
  },
  {
   "cell_type": "code",
   "execution_count": 7,
   "id": "22f79e91",
   "metadata": {},
   "outputs": [],
   "source": [
    "mm_to_pixel_ratios = []\n",
    "\n",
    "for index, row in df.iterrows():\n",
    "    pothole_id = row['pothole_id']\n",
    "    point1 = (row['red_point_1_x'], row['red_point_1_y'])\n",
    "    point2 = (row['red_point_2_x'], row['red_point_2_y'])\n",
    "\n",
    "    # Calculate the distance in pixels between the red points\n",
    "    pixel_distance = calculate_distance(point1, point2)\n",
    "    \n",
    "    if pixel_distance > 0:\n",
    "        # Calculate the mm-to-pixel ratio (500mm is the known distance)\n",
    "        mm_to_pixel_ratio = 500 / pixel_distance\n",
    "    else:\n",
    "        mm_to_pixel_ratio = None\n",
    "\n",
    "    # Append the result to the list\n",
    "    mm_to_pixel_ratios.append(mm_to_pixel_ratio)\n",
    "\n",
    "# Add the mm-to-pixel ratios to the DataFrame\n",
    "df['mm_to_pixel_ratio'] = mm_to_pixel_ratios"
   ]
  },
  {
   "cell_type": "code",
   "execution_count": 8,
   "id": "8a2830c9",
   "metadata": {},
   "outputs": [],
   "source": [
    "df.to_csv('data/train_df_final.csv', index=False)"
   ]
  },
  {
   "cell_type": "code",
   "execution_count": 9,
   "id": "252116a4",
   "metadata": {},
   "outputs": [
    {
     "data": {
      "text/html": [
       "<div>\n",
       "<style scoped>\n",
       "    .dataframe tbody tr th:only-of-type {\n",
       "        vertical-align: middle;\n",
       "    }\n",
       "\n",
       "    .dataframe tbody tr th {\n",
       "        vertical-align: top;\n",
       "    }\n",
       "\n",
       "    .dataframe thead th {\n",
       "        text-align: right;\n",
       "    }\n",
       "</style>\n",
       "<table border=\"1\" class=\"dataframe\">\n",
       "  <thead>\n",
       "    <tr style=\"text-align: right;\">\n",
       "      <th></th>\n",
       "      <th>pothole_id</th>\n",
       "      <th>red_point_1_x</th>\n",
       "      <th>red_point_1_y</th>\n",
       "      <th>red_point_2_x</th>\n",
       "      <th>red_point_2_y</th>\n",
       "      <th>bags_used</th>\n",
       "      <th>mm_to_pixel_ratio</th>\n",
       "    </tr>\n",
       "  </thead>\n",
       "  <tbody>\n",
       "    <tr>\n",
       "      <th>0</th>\n",
       "      <td>p101</td>\n",
       "      <td>21.0</td>\n",
       "      <td>233.0</td>\n",
       "      <td>286.0</td>\n",
       "      <td>214.0</td>\n",
       "      <td>0.5</td>\n",
       "      <td>1.881961</td>\n",
       "    </tr>\n",
       "    <tr>\n",
       "      <th>1</th>\n",
       "      <td>p102</td>\n",
       "      <td>297.0</td>\n",
       "      <td>176.0</td>\n",
       "      <td>297.0</td>\n",
       "      <td>352.0</td>\n",
       "      <td>1.0</td>\n",
       "      <td>2.840909</td>\n",
       "    </tr>\n",
       "    <tr>\n",
       "      <th>2</th>\n",
       "      <td>p106</td>\n",
       "      <td>341.0</td>\n",
       "      <td>89.0</td>\n",
       "      <td>228.0</td>\n",
       "      <td>312.0</td>\n",
       "      <td>0.5</td>\n",
       "      <td>2.000032</td>\n",
       "    </tr>\n",
       "  </tbody>\n",
       "</table>\n",
       "</div>"
      ],
      "text/plain": [
       "  pothole_id  red_point_1_x  red_point_1_y  red_point_2_x  red_point_2_y  \\\n",
       "0       p101           21.0          233.0          286.0          214.0   \n",
       "1       p102          297.0          176.0          297.0          352.0   \n",
       "2       p106          341.0           89.0          228.0          312.0   \n",
       "\n",
       "   bags_used  mm_to_pixel_ratio  \n",
       "0        0.5           1.881961  \n",
       "1        1.0           2.840909  \n",
       "2        0.5           2.000032  "
      ]
     },
     "execution_count": 9,
     "metadata": {},
     "output_type": "execute_result"
    }
   ],
   "source": [
    "df.head(3)"
   ]
  },
  {
   "cell_type": "markdown",
   "id": "7eb581f9",
   "metadata": {},
   "source": [
    "## Fine tuning model"
   ]
  },
  {
   "cell_type": "markdown",
   "id": "18ee342c",
   "metadata": {},
   "source": [
    "### ResNet"
   ]
  },
  {
   "cell_type": "code",
   "execution_count": null,
   "id": "c9115088",
   "metadata": {},
   "outputs": [],
   "source": [
    "class PotholeDataset(Dataset):\n",
    "    def __init__(self, dataframe, image_dir, transform=None):\n",
    "        self.dataframe = dataframe\n",
    "        self.image_dir = image_dir\n",
    "        self.transform = transform\n",
    "\n",
    "    def __len__(self):\n",
    "        return len(self.dataframe)\n",
    "\n",
    "    def __getitem__(self, idx):\n",
    "        img_name = f\"{self.image_dir}/{self.dataframe.iloc[idx]['pothole_id']}.jpg\"\n",
    "        image = Image.open(img_name).convert(\"RGB\")\n",
    "        pixel_ratio = self.dataframe.iloc[idx]['mm_to_pixel_ratio']\n",
    "        bags_used = self.dataframe.iloc[idx]['bags_used']\n",
    "\n",
    "        if self.transform:\n",
    "            seed = np.random.randint(2147483647)  # make a seed with numpy generator \n",
    "            random.seed(seed)  # apply this seed to transform's random function\n",
    "            torch.manual_seed(seed)  # needed for torchvision 0.7\n",
    "            image = self.transform(image)\n",
    "\n",
    "        return image, torch.tensor(pixel_ratio, dtype=torch.float32), torch.tensor(bags_used, dtype=torch.float32)"
   ]
  },
  {
   "cell_type": "code",
   "execution_count": null,
   "id": "6037ae7b",
   "metadata": {},
   "outputs": [],
   "source": [
    "train_transforms = transforms.Compose([\n",
    "    transforms.Resize((224, 224)),  # Resize to 224x224 for ResNet\n",
    "    transforms.RandomHorizontalFlip(p=0.5),  # 50% chance of horizontal flip\n",
    "    transforms.RandomRotation(degrees=15),  # Random rotation within 15 degrees\n",
    "    transforms.ColorJitter(brightness=0.2, contrast=0.2, saturation=0.2, hue=0.2),  # Randomly change the brightness, contrast, saturation and hue\n",
    "    transforms.ToTensor(),  # Convert PIL image to Tensor\n",
    "    transforms.Normalize(mean=[0.485, 0.456, 0.406], std=[0.229, 0.224, 0.225])  # Normalize using ImageNet mean and std\n",
    "])"
   ]
  },
  {
   "cell_type": "code",
   "execution_count": null,
   "id": "91f4b735",
   "metadata": {},
   "outputs": [],
   "source": [
    "train_dataset = PotholeDataset(df, 'data/pothole_images', transform=train_transforms)\n",
    "train_loader = DataLoader(train_dataset, batch_size=32, shuffle=True)"
   ]
  },
  {
   "cell_type": "code",
   "execution_count": null,
   "id": "08a700ee",
   "metadata": {},
   "outputs": [],
   "source": [
    "class ResNetRegressionModel(nn.Module):\n",
    "    def __init__(self):\n",
    "        super(ResNetRegressionModel, self).__init__()\n",
    "        self.resnet = models.resnet18(pretrained=True)\n",
    "        self.resnet.fc = nn.Identity()  # Remove the final classification layer\n",
    "        \n",
    "        # Combine resnet features with pixel-to-mm ratio\n",
    "        self.fc1 = nn.Linear(512 + 1, 256)\n",
    "        self.fc2 = nn.Linear(256, 128)\n",
    "        self.fc3 = nn.Linear(128, 1)  # Output layer for regression\n",
    "    \n",
    "    def forward(self, images, pixel_ratios):\n",
    "        x = self.resnet(images)\n",
    "        pixel_ratios = pixel_ratios.view(-1, 1)  # Ensure pixel_ratios is a 2D tensor\n",
    "        x = torch.cat((x, pixel_ratios), dim=1)  # Concatenate pixel ratios\n",
    "        x = nn.ReLU()(self.fc1(x))\n",
    "        x = nn.ReLU()(self.fc2(x))\n",
    "        x = self.fc3(x)\n",
    "        return x"
   ]
  },
  {
   "cell_type": "code",
   "execution_count": null,
   "id": "c3c7e990",
   "metadata": {},
   "outputs": [],
   "source": [
    "model = ResNetRegressionModel()\n",
    "optimizer = optim.Adam(model.parameters(), lr=0.001)\n",
    "criterion = nn.MSELoss()"
   ]
  },
  {
   "cell_type": "code",
   "execution_count": null,
   "id": "fc03e9e3",
   "metadata": {},
   "outputs": [],
   "source": [
    "for epoch in range(1):  # For simplicity, let's say we train for 10 epochs\n",
    "    model.train()\n",
    "    running_loss = 0.0\n",
    "    \n",
    "    for images, pixel_ratios, bags_used in train_loader:\n",
    "        optimizer.zero_grad()\n",
    "        outputs = model(images, pixel_ratios)\n",
    "        loss = criterion(outputs.squeeze(), bags_used)\n",
    "        loss.backward()\n",
    "        optimizer.step()\n",
    "        running_loss += loss.item()\n",
    "    \n",
    "    print(f\"Epoch {epoch+1}, Loss: {running_loss/len(train_loader)}\")"
   ]
  },
  {
   "cell_type": "code",
   "execution_count": null,
   "id": "ca382fc4",
   "metadata": {},
   "outputs": [],
   "source": [
    "torch.save(model.state_dict(), 'Prediction Model/resnet_regression_model.pth')"
   ]
  },
  {
   "cell_type": "markdown",
   "id": "b6c0b0bc",
   "metadata": {},
   "source": [
    "### Prediction"
   ]
  },
  {
   "cell_type": "code",
   "execution_count": null,
   "id": "391e3f56",
   "metadata": {},
   "outputs": [],
   "source": [
    "random_index = np.random.randint(0, len(train_dataset))\n",
    "sample_image, sample_pixel_ratio, true_bags_used = train_dataset[random_index]\n",
    "\n",
    "sample_image = sample_image.unsqueeze(0)  # Add batch dimension: [1, 3, H, W]\n",
    "\n",
    "# The pixel ratio is already a scalar, so we convert it to a tensor and add a batch dimension.\n",
    "sample_pixel_ratio = torch.tensor([sample_pixel_ratio]).unsqueeze(0)  # Shape: [1, 1]\n",
    "\n",
    "# Make a prediction\n",
    "with torch.no_grad():  # Disable gradient computation for inference\n",
    "    predicted_bags_used = model(sample_image, sample_pixel_ratio)\n",
    "\n",
    "print(f\"Predicted number of bags used: {predicted_bags_used.item()}\")\n",
    "print(f\"True number of bags used: {true_bags_used}\")"
   ]
  },
  {
   "cell_type": "code",
   "execution_count": null,
   "id": "dd18e02e",
   "metadata": {},
   "outputs": [],
   "source": []
  },
  {
   "cell_type": "code",
   "execution_count": null,
   "id": "dca2eba1",
   "metadata": {},
   "outputs": [],
   "source": []
  },
  {
   "cell_type": "code",
   "execution_count": null,
   "id": "c1983950",
   "metadata": {},
   "outputs": [],
   "source": []
  },
  {
   "cell_type": "code",
   "execution_count": null,
   "id": "2818483d",
   "metadata": {},
   "outputs": [],
   "source": []
  },
  {
   "cell_type": "markdown",
   "id": "49e7f3d8",
   "metadata": {},
   "source": [
    "# Transforming problem to classification"
   ]
  },
  {
   "cell_type": "code",
   "execution_count": 10,
   "id": "bd08f22d",
   "metadata": {},
   "outputs": [],
   "source": [
    "df = pd.read_csv('data/train_df_final.csv')"
   ]
  },
  {
   "cell_type": "code",
   "execution_count": 11,
   "id": "3ecfb928",
   "metadata": {},
   "outputs": [],
   "source": [
    "bins = [0, 0.25, 0.5, 1, 2, np.inf]\n",
    "labels = [0, 1, 2, 3, 4]\n",
    "df['class'] = pd.cut(df['bags_used'], bins=bins, labels=labels, include_lowest=True)"
   ]
  },
  {
   "cell_type": "code",
   "execution_count": 12,
   "id": "79b85718",
   "metadata": {},
   "outputs": [
    {
     "data": {
      "text/html": [
       "<div>\n",
       "<style scoped>\n",
       "    .dataframe tbody tr th:only-of-type {\n",
       "        vertical-align: middle;\n",
       "    }\n",
       "\n",
       "    .dataframe tbody tr th {\n",
       "        vertical-align: top;\n",
       "    }\n",
       "\n",
       "    .dataframe thead th {\n",
       "        text-align: right;\n",
       "    }\n",
       "</style>\n",
       "<table border=\"1\" class=\"dataframe\">\n",
       "  <thead>\n",
       "    <tr style=\"text-align: right;\">\n",
       "      <th></th>\n",
       "      <th>pothole_id</th>\n",
       "      <th>red_point_1_x</th>\n",
       "      <th>red_point_1_y</th>\n",
       "      <th>red_point_2_x</th>\n",
       "      <th>red_point_2_y</th>\n",
       "      <th>bags_used</th>\n",
       "      <th>mm_to_pixel_ratio</th>\n",
       "      <th>class</th>\n",
       "    </tr>\n",
       "  </thead>\n",
       "  <tbody>\n",
       "    <tr>\n",
       "      <th>0</th>\n",
       "      <td>p101</td>\n",
       "      <td>21.0</td>\n",
       "      <td>233.0</td>\n",
       "      <td>286.0</td>\n",
       "      <td>214.0</td>\n",
       "      <td>0.5</td>\n",
       "      <td>1.881961</td>\n",
       "      <td>1</td>\n",
       "    </tr>\n",
       "    <tr>\n",
       "      <th>1</th>\n",
       "      <td>p102</td>\n",
       "      <td>297.0</td>\n",
       "      <td>176.0</td>\n",
       "      <td>297.0</td>\n",
       "      <td>352.0</td>\n",
       "      <td>1.0</td>\n",
       "      <td>2.840909</td>\n",
       "      <td>2</td>\n",
       "    </tr>\n",
       "    <tr>\n",
       "      <th>2</th>\n",
       "      <td>p106</td>\n",
       "      <td>341.0</td>\n",
       "      <td>89.0</td>\n",
       "      <td>228.0</td>\n",
       "      <td>312.0</td>\n",
       "      <td>0.5</td>\n",
       "      <td>2.000032</td>\n",
       "      <td>1</td>\n",
       "    </tr>\n",
       "    <tr>\n",
       "      <th>3</th>\n",
       "      <td>p107</td>\n",
       "      <td>311.0</td>\n",
       "      <td>99.0</td>\n",
       "      <td>212.0</td>\n",
       "      <td>258.0</td>\n",
       "      <td>0.5</td>\n",
       "      <td>2.669487</td>\n",
       "      <td>1</td>\n",
       "    </tr>\n",
       "    <tr>\n",
       "      <th>4</th>\n",
       "      <td>p109</td>\n",
       "      <td>238.0</td>\n",
       "      <td>237.0</td>\n",
       "      <td>247.0</td>\n",
       "      <td>359.0</td>\n",
       "      <td>0.5</td>\n",
       "      <td>4.087254</td>\n",
       "      <td>1</td>\n",
       "    </tr>\n",
       "  </tbody>\n",
       "</table>\n",
       "</div>"
      ],
      "text/plain": [
       "  pothole_id  red_point_1_x  red_point_1_y  red_point_2_x  red_point_2_y  \\\n",
       "0       p101           21.0          233.0          286.0          214.0   \n",
       "1       p102          297.0          176.0          297.0          352.0   \n",
       "2       p106          341.0           89.0          228.0          312.0   \n",
       "3       p107          311.0           99.0          212.0          258.0   \n",
       "4       p109          238.0          237.0          247.0          359.0   \n",
       "\n",
       "   bags_used  mm_to_pixel_ratio class  \n",
       "0        0.5           1.881961     1  \n",
       "1        1.0           2.840909     2  \n",
       "2        0.5           2.000032     1  \n",
       "3        0.5           2.669487     1  \n",
       "4        0.5           4.087254     1  "
      ]
     },
     "execution_count": 12,
     "metadata": {},
     "output_type": "execute_result"
    }
   ],
   "source": [
    "df.head()"
   ]
  },
  {
   "cell_type": "code",
   "execution_count": 13,
   "id": "73740889",
   "metadata": {},
   "outputs": [],
   "source": [
    "df.to_csv('data/train_df_final_w_classes.csv')"
   ]
  },
  {
   "cell_type": "code",
   "execution_count": 14,
   "id": "5581cd45",
   "metadata": {},
   "outputs": [],
   "source": [
    "df = pd.read_csv('data/train_df_final_w_classes.csv')"
   ]
  },
  {
   "cell_type": "code",
   "execution_count": 15,
   "id": "66d56a87",
   "metadata": {},
   "outputs": [
    {
     "data": {
      "text/plain": [
       "class\n",
       "1    167\n",
       "0    114\n",
       "2     61\n",
       "3     26\n",
       "4     19\n",
       "Name: count, dtype: int64"
      ]
     },
     "execution_count": 15,
     "metadata": {},
     "output_type": "execute_result"
    }
   ],
   "source": [
    "df['class'].value_counts()"
   ]
  },
  {
   "cell_type": "markdown",
   "id": "daed0275",
   "metadata": {},
   "source": [
    "### CLASS MEANS"
   ]
  },
  {
   "cell_type": "code",
   "execution_count": 16,
   "id": "4e061676",
   "metadata": {},
   "outputs": [
    {
     "name": "stdout",
     "output_type": "stream",
     "text": [
      "Mean of bags used for each class:\n",
      "class\n",
      "0    0.250000\n",
      "1    0.500000\n",
      "2    0.977869\n",
      "3    1.759615\n",
      "4    4.063158\n",
      "Name: bags_used, dtype: float64\n"
     ]
    }
   ],
   "source": [
    "class_means = df.groupby('class')['bags_used'].mean()\n",
    "print(\"Mean of bags used for each class:\")\n",
    "print(class_means)"
   ]
  },
  {
   "cell_type": "code",
   "execution_count": 17,
   "id": "6d5b0601",
   "metadata": {},
   "outputs": [
    {
     "data": {
      "application/vnd.jupyter.widget-view+json": {
       "model_id": "46f90f12027748e4b215228dc92e1547",
       "version_major": 2,
       "version_minor": 0
      },
      "text/plain": [
       "Dropdown(description='Select Class:', index=1, options=(('Class 1', 1), ('Class 2', 2), ('Class 3', 3), ('Clas…"
      ]
     },
     "metadata": {},
     "output_type": "display_data"
    },
    {
     "data": {
      "application/vnd.jupyter.widget-view+json": {
       "model_id": "1c1e9e8bdd764d688de572fe110cc99a",
       "version_major": 2,
       "version_minor": 0
      },
      "text/plain": [
       "Button(description='Sample Image', style=ButtonStyle())"
      ]
     },
     "metadata": {},
     "output_type": "display_data"
    },
    {
     "data": {
      "application/vnd.plotly.v1+json": {
       "config": {
        "plotlyServerURL": "https://plot.ly"
       },
       "data": [
        {
         "source": "data:image/jpeg;base64,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",
         "type": "image"
        }
       ],
       "layout": {
        "template": {
         "data": {
          "bar": [
           {
            "error_x": {
             "color": "#2a3f5f"
            },
            "error_y": {
             "color": "#2a3f5f"
            },
            "marker": {
             "line": {
              "color": "#E5ECF6",
              "width": 0.5
             },
             "pattern": {
              "fillmode": "overlay",
              "size": 10,
              "solidity": 0.2
             }
            },
            "type": "bar"
           }
          ],
          "barpolar": [
           {
            "marker": {
             "line": {
              "color": "#E5ECF6",
              "width": 0.5
             },
             "pattern": {
              "fillmode": "overlay",
              "size": 10,
              "solidity": 0.2
             }
            },
            "type": "barpolar"
           }
          ],
          "carpet": [
           {
            "aaxis": {
             "endlinecolor": "#2a3f5f",
             "gridcolor": "white",
             "linecolor": "white",
             "minorgridcolor": "white",
             "startlinecolor": "#2a3f5f"
            },
            "baxis": {
             "endlinecolor": "#2a3f5f",
             "gridcolor": "white",
             "linecolor": "white",
             "minorgridcolor": "white",
             "startlinecolor": "#2a3f5f"
            },
            "type": "carpet"
           }
          ],
          "choropleth": [
           {
            "colorbar": {
             "outlinewidth": 0,
             "ticks": ""
            },
            "type": "choropleth"
           }
          ],
          "contour": [
           {
            "colorbar": {
             "outlinewidth": 0,
             "ticks": ""
            },
            "colorscale": [
             [
              0,
              "#0d0887"
             ],
             [
              0.1111111111111111,
              "#46039f"
             ],
             [
              0.2222222222222222,
              "#7201a8"
             ],
             [
              0.3333333333333333,
              "#9c179e"
             ],
             [
              0.4444444444444444,
              "#bd3786"
             ],
             [
              0.5555555555555556,
              "#d8576b"
             ],
             [
              0.6666666666666666,
              "#ed7953"
             ],
             [
              0.7777777777777778,
              "#fb9f3a"
             ],
             [
              0.8888888888888888,
              "#fdca26"
             ],
             [
              1,
              "#f0f921"
             ]
            ],
            "type": "contour"
           }
          ],
          "contourcarpet": [
           {
            "colorbar": {
             "outlinewidth": 0,
             "ticks": ""
            },
            "type": "contourcarpet"
           }
          ],
          "heatmap": [
           {
            "colorbar": {
             "outlinewidth": 0,
             "ticks": ""
            },
            "colorscale": [
             [
              0,
              "#0d0887"
             ],
             [
              0.1111111111111111,
              "#46039f"
             ],
             [
              0.2222222222222222,
              "#7201a8"
             ],
             [
              0.3333333333333333,
              "#9c179e"
             ],
             [
              0.4444444444444444,
              "#bd3786"
             ],
             [
              0.5555555555555556,
              "#d8576b"
             ],
             [
              0.6666666666666666,
              "#ed7953"
             ],
             [
              0.7777777777777778,
              "#fb9f3a"
             ],
             [
              0.8888888888888888,
              "#fdca26"
             ],
             [
              1,
              "#f0f921"
             ]
            ],
            "type": "heatmap"
           }
          ],
          "heatmapgl": [
           {
            "colorbar": {
             "outlinewidth": 0,
             "ticks": ""
            },
            "colorscale": [
             [
              0,
              "#0d0887"
             ],
             [
              0.1111111111111111,
              "#46039f"
             ],
             [
              0.2222222222222222,
              "#7201a8"
             ],
             [
              0.3333333333333333,
              "#9c179e"
             ],
             [
              0.4444444444444444,
              "#bd3786"
             ],
             [
              0.5555555555555556,
              "#d8576b"
             ],
             [
              0.6666666666666666,
              "#ed7953"
             ],
             [
              0.7777777777777778,
              "#fb9f3a"
             ],
             [
              0.8888888888888888,
              "#fdca26"
             ],
             [
              1,
              "#f0f921"
             ]
            ],
            "type": "heatmapgl"
           }
          ],
          "histogram": [
           {
            "marker": {
             "pattern": {
              "fillmode": "overlay",
              "size": 10,
              "solidity": 0.2
             }
            },
            "type": "histogram"
           }
          ],
          "histogram2d": [
           {
            "colorbar": {
             "outlinewidth": 0,
             "ticks": ""
            },
            "colorscale": [
             [
              0,
              "#0d0887"
             ],
             [
              0.1111111111111111,
              "#46039f"
             ],
             [
              0.2222222222222222,
              "#7201a8"
             ],
             [
              0.3333333333333333,
              "#9c179e"
             ],
             [
              0.4444444444444444,
              "#bd3786"
             ],
             [
              0.5555555555555556,
              "#d8576b"
             ],
             [
              0.6666666666666666,
              "#ed7953"
             ],
             [
              0.7777777777777778,
              "#fb9f3a"
             ],
             [
              0.8888888888888888,
              "#fdca26"
             ],
             [
              1,
              "#f0f921"
             ]
            ],
            "type": "histogram2d"
           }
          ],
          "histogram2dcontour": [
           {
            "colorbar": {
             "outlinewidth": 0,
             "ticks": ""
            },
            "colorscale": [
             [
              0,
              "#0d0887"
             ],
             [
              0.1111111111111111,
              "#46039f"
             ],
             [
              0.2222222222222222,
              "#7201a8"
             ],
             [
              0.3333333333333333,
              "#9c179e"
             ],
             [
              0.4444444444444444,
              "#bd3786"
             ],
             [
              0.5555555555555556,
              "#d8576b"
             ],
             [
              0.6666666666666666,
              "#ed7953"
             ],
             [
              0.7777777777777778,
              "#fb9f3a"
             ],
             [
              0.8888888888888888,
              "#fdca26"
             ],
             [
              1,
              "#f0f921"
             ]
            ],
            "type": "histogram2dcontour"
           }
          ],
          "mesh3d": [
           {
            "colorbar": {
             "outlinewidth": 0,
             "ticks": ""
            },
            "type": "mesh3d"
           }
          ],
          "parcoords": [
           {
            "line": {
             "colorbar": {
              "outlinewidth": 0,
              "ticks": ""
             }
            },
            "type": "parcoords"
           }
          ],
          "pie": [
           {
            "automargin": true,
            "type": "pie"
           }
          ],
          "scatter": [
           {
            "fillpattern": {
             "fillmode": "overlay",
             "size": 10,
             "solidity": 0.2
            },
            "type": "scatter"
           }
          ],
          "scatter3d": [
           {
            "line": {
             "colorbar": {
              "outlinewidth": 0,
              "ticks": ""
             }
            },
            "marker": {
             "colorbar": {
              "outlinewidth": 0,
              "ticks": ""
             }
            },
            "type": "scatter3d"
           }
          ],
          "scattercarpet": [
           {
            "marker": {
             "colorbar": {
              "outlinewidth": 0,
              "ticks": ""
             }
            },
            "type": "scattercarpet"
           }
          ],
          "scattergeo": [
           {
            "marker": {
             "colorbar": {
              "outlinewidth": 0,
              "ticks": ""
             }
            },
            "type": "scattergeo"
           }
          ],
          "scattergl": [
           {
            "marker": {
             "colorbar": {
              "outlinewidth": 0,
              "ticks": ""
             }
            },
            "type": "scattergl"
           }
          ],
          "scattermapbox": [
           {
            "marker": {
             "colorbar": {
              "outlinewidth": 0,
              "ticks": ""
             }
            },
            "type": "scattermapbox"
           }
          ],
          "scatterpolar": [
           {
            "marker": {
             "colorbar": {
              "outlinewidth": 0,
              "ticks": ""
             }
            },
            "type": "scatterpolar"
           }
          ],
          "scatterpolargl": [
           {
            "marker": {
             "colorbar": {
              "outlinewidth": 0,
              "ticks": ""
             }
            },
            "type": "scatterpolargl"
           }
          ],
          "scatterternary": [
           {
            "marker": {
             "colorbar": {
              "outlinewidth": 0,
              "ticks": ""
             }
            },
            "type": "scatterternary"
           }
          ],
          "surface": [
           {
            "colorbar": {
             "outlinewidth": 0,
             "ticks": ""
            },
            "colorscale": [
             [
              0,
              "#0d0887"
             ],
             [
              0.1111111111111111,
              "#46039f"
             ],
             [
              0.2222222222222222,
              "#7201a8"
             ],
             [
              0.3333333333333333,
              "#9c179e"
             ],
             [
              0.4444444444444444,
              "#bd3786"
             ],
             [
              0.5555555555555556,
              "#d8576b"
             ],
             [
              0.6666666666666666,
              "#ed7953"
             ],
             [
              0.7777777777777778,
              "#fb9f3a"
             ],
             [
              0.8888888888888888,
              "#fdca26"
             ],
             [
              1,
              "#f0f921"
             ]
            ],
            "type": "surface"
           }
          ],
          "table": [
           {
            "cells": {
             "fill": {
              "color": "#EBF0F8"
             },
             "line": {
              "color": "white"
             }
            },
            "header": {
             "fill": {
              "color": "#C8D4E3"
             },
             "line": {
              "color": "white"
             }
            },
            "type": "table"
           }
          ]
         },
         "layout": {
          "annotationdefaults": {
           "arrowcolor": "#2a3f5f",
           "arrowhead": 0,
           "arrowwidth": 1
          },
          "autotypenumbers": "strict",
          "coloraxis": {
           "colorbar": {
            "outlinewidth": 0,
            "ticks": ""
           }
          },
          "colorscale": {
           "diverging": [
            [
             0,
             "#8e0152"
            ],
            [
             0.1,
             "#c51b7d"
            ],
            [
             0.2,
             "#de77ae"
            ],
            [
             0.3,
             "#f1b6da"
            ],
            [
             0.4,
             "#fde0ef"
            ],
            [
             0.5,
             "#f7f7f7"
            ],
            [
             0.6,
             "#e6f5d0"
            ],
            [
             0.7,
             "#b8e186"
            ],
            [
             0.8,
             "#7fbc41"
            ],
            [
             0.9,
             "#4d9221"
            ],
            [
             1,
             "#276419"
            ]
           ],
           "sequential": [
            [
             0,
             "#0d0887"
            ],
            [
             0.1111111111111111,
             "#46039f"
            ],
            [
             0.2222222222222222,
             "#7201a8"
            ],
            [
             0.3333333333333333,
             "#9c179e"
            ],
            [
             0.4444444444444444,
             "#bd3786"
            ],
            [
             0.5555555555555556,
             "#d8576b"
            ],
            [
             0.6666666666666666,
             "#ed7953"
            ],
            [
             0.7777777777777778,
             "#fb9f3a"
            ],
            [
             0.8888888888888888,
             "#fdca26"
            ],
            [
             1,
             "#f0f921"
            ]
           ],
           "sequentialminus": [
            [
             0,
             "#0d0887"
            ],
            [
             0.1111111111111111,
             "#46039f"
            ],
            [
             0.2222222222222222,
             "#7201a8"
            ],
            [
             0.3333333333333333,
             "#9c179e"
            ],
            [
             0.4444444444444444,
             "#bd3786"
            ],
            [
             0.5555555555555556,
             "#d8576b"
            ],
            [
             0.6666666666666666,
             "#ed7953"
            ],
            [
             0.7777777777777778,
             "#fb9f3a"
            ],
            [
             0.8888888888888888,
             "#fdca26"
            ],
            [
             1,
             "#f0f921"
            ]
           ]
          },
          "colorway": [
           "#636efa",
           "#EF553B",
           "#00cc96",
           "#ab63fa",
           "#FFA15A",
           "#19d3f3",
           "#FF6692",
           "#B6E880",
           "#FF97FF",
           "#FECB52"
          ],
          "font": {
           "color": "#2a3f5f"
          },
          "geo": {
           "bgcolor": "white",
           "lakecolor": "white",
           "landcolor": "#E5ECF6",
           "showlakes": true,
           "showland": true,
           "subunitcolor": "white"
          },
          "hoverlabel": {
           "align": "left"
          },
          "hovermode": "closest",
          "mapbox": {
           "style": "light"
          },
          "paper_bgcolor": "white",
          "plot_bgcolor": "#E5ECF6",
          "polar": {
           "angularaxis": {
            "gridcolor": "white",
            "linecolor": "white",
            "ticks": ""
           },
           "bgcolor": "#E5ECF6",
           "radialaxis": {
            "gridcolor": "white",
            "linecolor": "white",
            "ticks": ""
           }
          },
          "scene": {
           "xaxis": {
            "backgroundcolor": "#E5ECF6",
            "gridcolor": "white",
            "gridwidth": 2,
            "linecolor": "white",
            "showbackground": true,
            "ticks": "",
            "zerolinecolor": "white"
           },
           "yaxis": {
            "backgroundcolor": "#E5ECF6",
            "gridcolor": "white",
            "gridwidth": 2,
            "linecolor": "white",
            "showbackground": true,
            "ticks": "",
            "zerolinecolor": "white"
           },
           "zaxis": {
            "backgroundcolor": "#E5ECF6",
            "gridcolor": "white",
            "gridwidth": 2,
            "linecolor": "white",
            "showbackground": true,
            "ticks": "",
            "zerolinecolor": "white"
           }
          },
          "shapedefaults": {
           "line": {
            "color": "#2a3f5f"
           }
          },
          "ternary": {
           "aaxis": {
            "gridcolor": "white",
            "linecolor": "white",
            "ticks": ""
           },
           "baxis": {
            "gridcolor": "white",
            "linecolor": "white",
            "ticks": ""
           },
           "bgcolor": "#E5ECF6",
           "caxis": {
            "gridcolor": "white",
            "linecolor": "white",
            "ticks": ""
           }
          },
          "title": {
           "x": 0.05
          },
          "xaxis": {
           "automargin": true,
           "gridcolor": "white",
           "linecolor": "white",
           "ticks": "",
           "title": {
            "standoff": 15
           },
           "zerolinecolor": "white",
           "zerolinewidth": 2
          },
          "yaxis": {
           "automargin": true,
           "gridcolor": "white",
           "linecolor": "white",
           "ticks": "",
           "title": {
            "standoff": 15
           },
           "zerolinecolor": "white",
           "zerolinewidth": 2
          }
         }
        },
        "title": {
         "text": "Pothole ID: p1268 | Class: 2 | Bags Used: 1.0"
        },
        "xaxis": {
         "showticklabels": false
        },
        "yaxis": {
         "showticklabels": false
        }
       }
      },
      "text/html": [
       "<div>                            <div id=\"b4a54f53-6a25-4bdd-acba-8037eb25f1aa\" class=\"plotly-graph-div\" style=\"height:525px; width:100%;\"></div>            <script type=\"text/javascript\">                require([\"plotly\"], function(Plotly) {                    window.PLOTLYENV=window.PLOTLYENV || {};                                    if (document.getElementById(\"b4a54f53-6a25-4bdd-acba-8037eb25f1aa\")) {                    Plotly.newPlot(                        \"b4a54f53-6a25-4bdd-acba-8037eb25f1aa\",                        [{\"source\":\"data:image\\u002fjpeg;base64,\\u002f9j\\u002f4AAQSkZJRgABAQAAAQABAAD\\u002f2wBDAAIBAQEBAQIBAQECAgICAgQDAgICAgUEBAMEBgUGBgYFBgYGBwkIBgcJBwYGCAsICQoKCgoKBggLDAsKDAkKCgr\\u002f2wBDAQICAgICAgUDAwUKBwYHCgoKCgoKCgoKCgoKCgoKCgoKCgoKCgoKCgoKCgoKCgoKCgoKCgoKCgoKCgoKCgoKCgr\\u002fwAARCAFNATYDASIAAhEBAxEB\\u002f8QAHwAAAQUBAQEBAQEAAAAAAAAAAAECAwQFBgcICQoL\\u002f8QAtRAAAgEDAwIEAwUFBAQAAAF9AQIDAAQRBRIhMUEGE1FhByJxFDKBkaEII0KxwRVS0fAkM2JyggkKFhcYGRolJicoKSo0NTY3ODk6Q0RFRkdISUpTVFVWV1hZWmNkZWZnaGlqc3R1dnd4eXqDhIWGh4iJipKTlJWWl5iZmqKjpKWmp6ipqrKztLW2t7i5usLDxMXGx8jJytLT1NXW19jZ2uHi4+Tl5ufo6erx8vP09fb3+Pn6\\u002f8QAHwEAAwEBAQEBAQEBAQAAAAAAAAECAwQFBgcICQoL\\u002f8QAtREAAgECBAQDBAcFBAQAAQJ3AAECAxEEBSExBhJBUQdhcRMiMoEIFEKRobHBCSMzUvAVYnLRChYkNOEl8RcYGRomJygpKjU2Nzg5OkNERUZHSElKU1RVVldYWVpjZGVmZ2hpanN0dXZ3eHl6goOEhYaHiImKkpOUlZaXmJmaoqOkpaanqKmqsrO0tba3uLm6wsPExcbHyMnK0tPU1dbX2Nna4uPk5ebn6Onq8vP09fb3+Pn6\\u002f9oADAMBAAIRAxEAPwDzzxN4T8Rj4T6P44g1dl1bT7nzJ9Kk6AKFxj2xmuH+M98fHviDRL7UtRXSzqdwYpXiGfLDAc\\u002foa9Z+IWqxQ\\u002fCyyi1hobm+k16W5u7qBMlbd02pHjvgsK8U8V2HiPS\\u002fGVguuaNLPaR2AGWXhc7tj+2M9Pevkaa91s+ouudD\\u002fhZ8RtY+C3ir\\u002fhHtOsPsyX8rm+Qry0SthG\\u002f4GB\\u002f47Wx+2L8cPC3iDw\\u002faH4baTm90\\u002fVbdtR1O2TmdQCq59z8q\\u002fhXDfD\\u002fVY\\u002fEHxDZPF0ZulgspojGoI3MOI2THZSRmqvwT8L+L3vtW8C67YxL5WoM9pM6lv3fmHD4P8WRn8KqEEncdRtqx7prHgKL4x+GNNaB4rLSbbTRZ3cMXEX22NiFkPud5U1mfGnRYvA\\u002fwqtPDl7qrfZtNlzZW4kzGsqjLgfUYP4VU+A3xB8EaP4c12\\u002f8AiPrV5Hpmg6ZfQnTfu\\u002fa7jzdylvcZI+gNfO37QXx98Q\\u002fF\\u002fwACTXttqIdTqDC3t7dvmbcSo2p\\u002fEQBjPqRXRh6dWVRJ\\u002fCjjr1IKlpued+BPi\\u002f8AEHTvHGsXvgjWJrS3ub\\u002fe0MJ+bechCPxr1vXfC2v+J\\u002fi1peq+NbSS58RNa29y17ckgKSi7Ccd9or1f9gf9nnwz8FP2fr\\u002fAPaC+NngCG+vvErNF4Ptrv70IjyGuX\\u002f2t2No9FB7Vyy6L4l8W\\u002fHsaHpcTSwf2hC807fN\\u002fo+QXI6bxwRjI+VfwrLE4hSqNQW3U6cLRfs1zbsufFL9k34heMvEulfFnxj4Vne2mZft0k0zK7OQWXB9gBj\\u002fAHa+gP2NPH2g+N\\u002fg43wk8WWV3qFxo11Klpf4YG306d90yp\\u002f003qMN9fWvpbUtJ0Hxz8G3u\\u002fG+hh7bSJdlm5iKC\\u002fVFDLIMdCQ2MYGWUjnrXzDoHhzxB8D\\u002fHx8Y6BYi9sJZ0E1lGT\\u002fAKUt3IFVcnpgZZh2IA714ssVUrKSk7tbHrxw8YJI8p1Xw5rK+I\\u002f+EA1Hxl\\u002fZcOr66tjq8huDIttYklWklB6fKWGexYntX0Xpv7UHiLxB\\u002fwAFBfBP7H+qaTFDa3LXGn3Mscm5IohYP9mKt\\u002fFhIkbd331uftDfB3QfEsdl4S0HQbGyubuwMl1ciPdJIGdm2AfxFgSM1n\\u002fse\\u002fs4a7H+2N4D+JfiDwzJPNp9\\u002fLbx308oaRlEEyIzNg8BGxgdjiuerjoVadp7pP7ylgnTtOL13+44D9pjQ9V+D3xuubyWWbUJdLlEF1YId0LK6EBFbsc7W9+R3r5+\\u002fwCCjHw68f8A\\u002fCin8ceLI2t11SKzltYGkyIIn3ssbf8ATTADEdgw9a\\u002fTj9qb9nHwXb+MtS8I+HNTm0zVNYvpdYluiBNK08pKMGZjlY+BtXHBAr4y\\u002fwCCivwo03wx+xlqPhrVTeXviDSER5EcMQhkIIkCjj5kZQPZBWOXY\\u002f8Af00tzfF4WVbCTqLZq5+QaiWO6MWN6hiCA3XmrxuLVLyJ7u22qRwnsO9Zus6Rf6NeMlxBLCx4XchUkA8cGo9Os77V5yULEr1ZumMV+m0ajtofnc6dpWOp0rxte6Pex3Xh2\\u002fkiLXCuhjcqFKnIPHoQD+Fe9\\u002fADxpD8cPEFl4A8ceIbiDWFvlu9H1m4vmjKOCWbDZGJWYLs9xXz7aRC5nQzQeUIIcNtGQvFbPg25gPiC1v9N1Aq9hcxTI4BBUqwORj\\u002fAD9KxxFN16bZthqjpVUfr3\\u002fwTl0vR\\u002fhH8ZrPWtY0lbC40mJVmlaPL7JC6ybmYnkrhnPbYR2rsP8Agp9Lr9z8adP0VYGltrmNtRsop18y1Zxs2MAeHYhGX\\u002fvmo\\u002f2YJJ9a+FXgq91vTfsevwWqzzGWEhLqR0SSGQMcB9yyLnOBjIJAJA6+Tx9pHjeS6g\\u002faNRE03\\u002fhIpINDvNPtmSfRgkKBYVRyxlR2R3Y8BD6fKB8FTruhjpc+x9nVoOrhlynzBqn7VuheEfA+ka34qns5\\u002fEViZNQu44LMFrmSLaXtLoDnyPKEsaJ\\u002fecN\\u002fDXrfwx\\u002fbF1r4jfGvWPC\\u002fjq5lbwd498IWEmjI0v7rw5bQsW34X5TMXkRW3csCB3rl\\u002fB3\\u002fAATX8BftL\\u002ftz+MPDek6zeQeBPDlxp8nimeOPyYNS3xzP5KMNrb94RSPugbjjJFefat8EP2h\\u002fhh448e+CLC9lv\\u002fDXhPxlP4e8IXyWEdvNfqYoJGA3ITKLeNokIkPLJgEECu6rUo1HenutTjp06kX+82PtP4eW2t\\u002fD7w1q+pQXceu6RawyQ6JLHKs7HdvZmiJ5KbeSV\\u002f2T2qh8GNQfQvAeqyXry2Oh+InuDcG+bEtnN5p\\u002feIDwgkLvIc8hn7AEjT\\u002fZ7s7bxX8Evhmuuyqf7EsTDBK9z5kJjMCKWf7OgQsp84NyUOzcSdxxwHiDRNd\\u002faf8AAHxs+Gnh+wtdPtPDWutJ4d1e+upbeCeAxOyokrAkqpRmO3kGQ+i1xwpuuuZs6ZzVKySuep+CvD\\u002fxf8NeKn1bwF5Gq2dpooGqprqBba9gjZElUAYIcpKAQuFySwwS+eH+HltpPxE8F+K7H\\u002fhIbrU9N0y+ngnFjonkxQXBE0kgtCB1ER4m5YOjMrBgKp\\u002fsIal4+k\\u002fZx0e41TxMutz22mLFf65b3slwrvFOzopRly\\u002fDojBuXCrnPAPq2pafpWl\\u002fCPx742+HOo3ej2d7pLJJZaXFAsNxPF8jSwAbijyF8Zz3I6A4jncJql0YRimnPqdX4H8SeFLnwHoPhvXbK5vbnSrWzutOhnumkuntownleaWy21lI3bjnPHOSRB4I8X6HqusT3+h3Nlpdkt2t9JcSOvlxfeZFQL8qqqqOehGSSM5rg\\u002f2evh9Nr\\u002fwD8ca9c6IdK1zx5DBPd6+ZJGaOJIY\\u002f3cUjSFkUKpQxrtQMDgYbI8E\\u002fZC0jXPH\\u002fAIKmu\\u002fhP45bSfDP2u20\\u002fWPEF\\u002fDuE1pYoIkS1twu1FufKSRnJypZx90qo0eHi4ylJ6RCNZqXI+p6n8Y9Y8Q6ppHjv4lR6xb3N5NeC28Ozx6ltlsJIplhkYooBZsQTs5kyiZwB3PRfBnwd4h+JvxRXwk2t2Ul\\u002fHqdjdavq9uuAUCzW1xCsZGx5d1tKPNx92VUjPyCul8Y\\u002fs+aX4M0yD\\u002fhGPET3aapK19qt5csBNarPMssjlyrNL5khCnCjAxt2ruzm\\u002fDHXfDfwb+OWl+H7PUGTRbDTY08Y3eqzRolm8Gy6s44+cspTUY1bDbnE0CD5VcGKChUrwTY6zlGhKSPmH9se38afsa\\u002ft1+DPgBowaTwb4n04634ag8Q3zPFoWvr50UV5DKxYoyMUdov9Wd2Su4Aj0\\u002fwlrl4\\u002fxe8U614f1C1NtO9tea5bmYRFjEht5Y1jTAEa7oXR2DEEowxivEf28PjPo37cX\\u002fBQ+b4o+BrjWLr4d\\u002fA\\u002fw8tvJqcAt4fO1dJGKW8cvl5TzLuWNC7bsorsNoBYehale\\u002fD9fiHe+JfD\\u002fhC8a30sXUh8PJOkt1pyoyCKcq7fvQlxLC25mmJeE53Iphr2ceoOahE83AObjJzPWfg\\u002ff+EbT4leCLfVvh8PE1vBo93bm6WF9Qv3SG8mY2QEjEJEVVXk6kyqMYVmFZvgPRtD8RWt94F1H4g6amt+KvGd3ql9DYa4ZpkNnO5ltAT8iRW0e2N15CndtHzV03w08bWngrxEvxK+B0EWukJFp+kxaftWGV7hVluBEny7ljEqMRlegA9V5P4OeA\\u002fgL4M8Uxx2HhjXNT1pr\\u002fVdXk16a0VYJZdTUeYIzHMVJ+zFWw6sFCkZLks3mOc4RcTujGLkmjO\\u002faI1Hx\\u002f4wjf8A4V94iS10TULQafpNveWCyw69frcRTBXDgBX85oRHuU8+YOgr1O\\u002f8VeK\\u002fEPwv0vxd\\u002fakumaj4ZCWurxxtmFH8hVeIuxzh13MiD5S8oJGenE+ANW8VeOdW0\\u002f4mfFTwVpZj8L6ncR6PDZ2\\u002fmxaVqBuJlmnjkkYSGaRBDhSv3rZ0VSWArV8Y6hrt7Bpnhf4cGeaxm1C58QeLzewyK9\\u002fNNZv9hRXG5YkR9xkiQnCQ7FKEAmvaNuMGZezUJSkZH7QEfxL8baJ4Dm+HHhM+ILLx74n0y28Z31lpuHs7aC4VDLJNHt8qJYmYhMYdtwbKF1Pf+Bda0PRfEs3h+yvIdV8QS6fFLHo2ny+U0tmxiYnERRbg48wpKcschchVC15z8NPEuo+M\\u002fhzrWgahqMWpTSm1ttVn0TzFks7WY+UqwSfIkxUOZM7QAUCtuOSdO6+FDr8QLbUPCGtXUaaSYtH1C\\u002fvtIS5uSZbK3aOW3jZPJU7Ttck+UQgHluSCMqsYVPcfQunKdNc5X8P+HJPG\\u002fjEeLvH4ivvDfiDSBqVlJcWeNgLImnqI4tuJBZACVyQzMqowPlKQVe+A\\u002fwAQrO\\u002f8J3Oi+NZ9OvYNBvBp0pvZHeae6jjVGuJEKEwlzG7Bd7MdzF\\u002fmxRVrD1O4nXTd7Hxlra2GneHtd8Aw3XnXdpp1vd\\u002f2grloppd4+Vc\\u002fe6Dj\\u002fCsf46eKtUPh6+8UW0eNUeO1Yaa6\\u002fM2ANzKOw4Feh\\u002fEb4NJZ+HNH8ZeF7sTWGgi4vri1Z8S3P8TceinFc140+J3wm1H4dN8TtA0fOqiRLS7sdmWtmI2hyvopwM+wr1qfvSXY4qqUotnhej6al1420+9vNYijDzLDcvEc\\u002fMMnAHoCBn3xXvfwKsZ\\u002fEHjK+8T\\u002fAGa2a7s3SE6fLxvi52n3ONwx7V4T4U+FHiUDTNR11RYtf6isL+aeUWR2xNj07fgK9w1HxFoegeMNZ8M\\u002fC6d7tJoTbC9AyZZo1UsV+gYH\\u002fgdVVi72iOE1yXkL8RfBXw68M\\u002fDbxXfeOvDM0OmTB7ayuoRuV7ooWc579vl989q\\u002fNzw9PqmheL0k0qWYtDeZtQqZ3fN8oC+vtX1r+0n+1Lq1h8FJfg3bzBkjv2OpQhPn3EH5vr\\u002fjXz78HPCmo+IPHOl+Ldehks7C0uWuI5wdgKwo03yP6ny8Y9SK78MpUcPJzPNqyjWrxjA+5Ph\\u002f4o+MvxH8Nr4f+JVtHE\\u002fgTTri0vfD7IciQhienRjuAx7GvTP2Z\\u002f2arnxLrmkfG2fT4tO8OaLOj6jqUkwVk8xCY43iPzMmCFzyNzLxzXivxS+IOveFPF0\\u002f7Q\\u002fwkQPaeONSMthp10dzSIQgDSf7Rk35btgV9p\\u002fs33XxAT4fWOoajLpuo+LdSXyru0iIS2trYDAIJ+9uI35\\u002fiytfMYyfJBzi9z6bB01L3ZdD0Dxb4R0X4jeIP7N0jWp38Kwx26avJv2QxFP9XGBxgHcMDHRhXl3xuPhzSfiZpPhjwBBGmkJYs7W4TeJQXUxsp\\u002fhQ5kBP0Heve\\u002f21\\u002fEOpfAz9kXUNZ0nRrRtZuFjn1aNVAAmcBSQB6HAA7AD1r8cfF37Q3xa+Jnxm8KxTXs82pfa7S0S2tsjzUEq5Q4\\u002fh25B9ia5MFg6mLg530Na2MhRmon6f6n4ZuvFPiu2+LMFnNHBeaV9ls4GG1tO24zlegYrnBPqtQ\\u002fAaHV9P+Lvgu91zxBNCt74qQWltZvlZV3Hb5hP8ShSCBxnFdj8Tvito+reHLn\\u002fhAkgSS4hmtHDMoFjqPEapzyxD5BHoR6VZ8D+E\\u002fDeh\\u002fEjwJqOt6ed8Gu29zpUc7hWWWY7JFIH8a534\\u002fu\\u002fSvMmnCbR380vYt+R2n7VmkanJ8R7nxDqGq21tJ9ilhtJLXiZVSUMdxcYzjOAGyemO4+D\\u002fAPgo7PdXf7O\\u002fjDxnoNul7JZ31pBcXE8+bmK2bYhVowSDltigdvxr7q\\u002fbc0nUvGXxJsdB1XxZaaV4etdWjKWkMpSXUbpAsmxmHQBcZHuK+RP2ufAPwe8U\\u002fAv4o6Pb6m0fiDS\\u002fDc+pKrW7PEUjaNyYz\\u002fEd0in8a5sI1TxUZX67G\\u002fs5VMCteh+Mn7SttqkPxFi1+e3zHc2yywrcJsZBuZcMvYjGR\\u002fvVyek6qyXzC5gzI53J5S5GK+nP+Co\\u002fh688KxfCzwp440W703XLT4fwXGq29\\u002famKeZZ5HljeTP8YVwp9lWvlqC4igEIjkfzCf3cqdW9K\\u002fVMsquthYzasfnePpqlipRRv2Vy+oaorLaGLeceXnlj64+ma6DQdE0bTXF9YxiOQsWCucA46\\u002fX6VgaFO1ncCaRyzA4cv710lyWuoIri1RnzztAyTz29T7d+nevRd3B2OGK\\u002feJn7FfD\\u002fAMWzaH+yD4L8T6E9zqesXGgWtreLbxjzYjMUniVI1JbC48tFCZIUciuO\\u002faX0nxR4C0i6+KvxH8SvpNqlhZP4M8MLbr9plmkdH1CW78t3WMv5SqmWUH5U4IIPE\\u002fs\\u002f\\u002ftIXHh2x8J+PPCiSvY6f8N9H0Eabptu0yS3UFsqzX8iLy0yNMxXHPH+zXpviz4UeDviB8VfBHgf9pHXbzxHpPjlrDRvCwjdlmbz7rfc3MkX3kEsZSIZ6DNfntWgqeLnKo++h9xDESnh4Rite55Xd\\u002fwDBQP44\\u002fs9\\u002fG7w94b0XVYfCfgLx1qkFxeT6lpiu1xGzGNb15C5IjZx5oIyFIz32D7A\\u002fbFg8V6d4rk0Xw5o8EehaBpTXHh2+IVheXDBS16X3fMWZizOc\\u002fLjqcAcR\\u002fwAF2v2T9N8a\\u002fBHw98WNI0GOzi8M3KWTWdpa7FstPIREjGOdqFVx6A\\u002f7NeY\\u002f8E4Pj54\\u002fb9hLWdZ8bePk1W08P69\\u002fwjGlx6s\\u002f2iW2WWB545v76pCqhVj\\u002fAOWldXLR+rQr01tpb1ZwSdSVWVOpLc7n\\u002fgjr8UvF\\u002fwASf2bPF3witLW3jufCvjWaz0GTVJjFHHbyBgtvnaSRgPnOeWXH+z9CfGPwhD4i07XvgrrmrX8U1tbpJfjSrF4YVabdtMRCHAYKwc85B6jNeL\\u002fCrRdH\\u002fZ88B6\\u002fpHwssWn04XsOvXC3txi8mj1CSOVL64YcGXyCZvKHRQimvbPE\\u002fxW8CzfAHUvFnit7LU9blvmjuGu9QNrDqMY3Kspc\\u002fMsUUbZZG+VARnkmuGpVf1puCsrncqdqXLLoeY\\u002fDL4Y3Pwi+Gdv4R+GmvRx+D7PxR9pv7vTYdi3MQkwtuBuJUlg+Rk5CMcDFe1fD3TfCep+BrLwVouhxppepXUsV5pzwsGkiIyzgHDAbnVmwOpRc1474m8cfDjTv2e7m98cfFaDwzNBEbu3j0sGN2S4iSe28iFuWRkuZFaY\\u002fM5RS3MYqv\\u002fwAE6\\u002fAX7QP7Uy+Jfi38ZvFl\\u002fpPgzSb22bwlbm33fbrq3ZXk+eX\\u002fAJd1eCLCnnLy7uWq3GpU\\u002fedjNzVJcnc9I1\\u002fXPB\\u002fiD4Oa14K8B+IUt47m3n0vTljvESVLd544WnjDEBWz5rAsQI\\u002fL3N8oasb9mz4Ia5+zz4MtfhpotslzYrdzRrcKP3c4kcl52zgQ5HJ5K8vzxmvFbWDW\\u002fwBsSzvfiH+yYr+C\\u002fCmgS3\\u002fh34p6trlw8kesiOGOKWe3iTmS4lQuVuF\\u002fhkRX5Wu9+A\\u002f7Vdv4Z\\u002fZt01\\u002fEXi2y1PQrrQI9WsG08NcXUdjFDta1mMfAlH2eZHjPUszHlhWsqdWFJ32ZNOdKU79Ueg\\u002ftEfHLwfH8N9Z8f6deTX2n6Lpc0eoT2VxHHBBdBfKA3JuPlgfO0eMqx2\\u002fKVO35e\\u002fZx\\u002fa48N\\u002ftHeIvEXg3+zdT0jxpaNCV0ieKNo9TtgECmJpvkgZ28sFCXLB4kR9kZkHa694QtPiX490j9lnVfiFe6V4Y8Q2T6to\\u002fi2w0dZ1R7dWia2Kt+7jgkaWF97fIDcoi\\u002fMKwvhn+x74K\\u002fZjbUfGPw+1fxV8Qvix4l1yy0ZbS4tY3stI03zmlupJY7Xh4GaF41dvmMts4XhXpUqWHjRafx7oqcqzqrl+DqegS\\u002fBqx+Gmmah8MPCGhwweDX8Iyapq66dp+6cPqK3HnxTyN8v2tGIOyTayqYQoIILcL49s\\u002fFHx0\\u002fa2+EXw\\u002f+F\\u002fiUWVj8Oo2vPH+pHSZpDf6pEQ8wuWjjUXC3kse7ZEWQpK7RjdgH3Lxz458D21xp+vzeIbi6F39ptDpkO9lvZiwkeBkXid1aID5vmRjID8pas34n+JLa98cp4O8F+K7HS5rlrW41jVbe3FzHIsE8XmxSlAQw84pGpX7iOH6A1NLESuvMqrQi3c8o\\u002fazv\\u002fE3wy\\u002fZiu\\u002fEfgbVbQ61J8QzaeB7jSJbaJlkublYtkUcMm2L\\u002fAEgTptdsImwAthvL6n4OeIPAPwy1HV\\u002fAHxM8S6g3inTtA02XVr\\u002f+zFRLyQyrZq1lEsrBomlmUCJikv7mUuIw6BMX4W+FvDnxg+KE\\u002firxTN4hOmeFbZdX0O0uvDMquyQ+QpPlEbpHM5woizIzxsxHyis74T+GfgXo3xR8Y\\u002fH79pMNrsnhbW5NP1uPxaIrg6NplsJ4o7dYovljkl8hZZg+JA0kTEbZEr0I0YYiFmtV1OD2zoScr6Podv8ACK31nR\\u002fj34x+IOqWz2XgSFWvNMk1u9WY3d0s8F1DLcRDCQSqTdOp34eKSArvIYN1fiTQte+LSWn9l+HpYdKsZm1BVjjlF3OsiTJDBEFb5ZWR4pC5DII5TtLZYj5o\\u002fwCCddv4w+IP7O+pWni691fVSNYn12HRJ7Yyxf2BkxWkMCt96RhHiGFfmVVnI719Ct4jhl8TDVb7wVFY3en6O7Sa4JmjlmKQWyIZCv3re3hmDYHylpmY8AVwVaDVZa3sdkasZU0krHHfDXxnDqPjTVrr4U6Fq1jpHh64jg8QT3qR21lqGq\\u002f2nLbTW1pMWaIxL8sp53q0SDy9rsy+0XPxi8P2+sajq15eSwI9tb6bbw6dATfTXLlpY9sJOFTaoUPKIgm9GJKkEcT8Gfh5pXw98H6nrGj2+ozWdhLNrep6cyGP+0dUkuI7kRorf8tZpxEsZ6ZMCj+KuC8Q\\u002fBn9q\\u002fx745k+Jmra9p+lW9xof2G+vtEcWsNyiSMbQIkn+pRbh3kLt8rrKjjjNVT5ZVXYmpzezsz039nZf2gPDB1HUrnwFB4lmup5X\\u002ftWGe0mWVHZXQmaPMMp8vywTGzAOspDFGRmK9g+G+ueIvh\\u002f8K9F\\u002fsrwjc32oW8b20+n6lD5qKzSyPLIjD5doIhUAdASvVTRWjlNvcwtFdD8+rLTk8ES\\u002fEjVYtavXsrXQ2+wR3mV8uRzlo1B\\u002fvbAuPeuR\\u002fZN+Fd\\u002f4o1zxLdavpaB28LPdQYQES55U7T\\u002fABBM4Neua\\u002fc2fjv9nA\\u002fEL4rWc0etu1u13PaqALtZW2hyvp0JxzkisL9gf4jal4c\\u002fajsvD\\u002fja2iutH1rSLq1tb+IAGD93lTMG5AwCM+\\u002fvXRCUp0JShuNxUa6Util8dPhZfaLoekeKNMubeNda0qGwQSBVEEjEnYT\\u002fAAsrEkH+61efeKvgzqn7O3gS\\u002fNzrMP8AbGnpC95bCYBrZrgkxbWHUsoz\\u002fwAAr6k+N3wUvfiT8VPB8FusUvhEa0n2\\u002fTjKwkklZ\\u002fmIwQAuFBVvw718H\\u002f8ABTTx4F\\u002fbL\\u002f4QjxSbvR\\u002fBMEsOmTX1sxd7yCIuInYknLIGC59ENa4OrKq1F9DDFQUFzdz54\\u002fak8W+E\\u002fFXjx7T4capNqCyyR\\u002fa3kixvk6bCew659RmvcvAnwZ+NPi39neD4WaN4Ylt4LzXU1CV1wGjSFDGVVvvbzvzjpgfSuC8EfCTwUniPTfDuj+I42trXxBC+pXqRBz5RyFn3nv1G33z2r9GNN+Gtv4U8B36eBfG0VudJ0d9SmuNQOJZtzLl1ReW+Xt36d63zHGqnCMIrUWAwablNnzN8E\\u002fDvh34r\\u002fFnw78LvF+uDQLHw7Z+XDbxFguoLuw0UbdizYBPXFfQWr6n8TNP8aeC9T8Z6BDo3hn4WeMtPjiuNJYibULeSVk3TEffUlNyj0A7AVe\\u002faH+HfwP8AhD4V+G\\u002fj\\u002fTZkPiPVdXsbrUtVtbdeY3C+eY0yAqgsoXsWBJ5Iqz+134b+Ilp8O9O1rwn4VuRpkwtdWW6S7ICCNQQpCj5sYI5OQWOOK8KvNVJRstGevSjyJ+R03\\u002fBU79oYfEtbE\\u002fAu+uNWg1bTVitbaOEkXFyZD5a4PUqpJx\\u002fs57V4x+xx\\u002fwAE7vE3hu6uvi38Qpf+K4jsI5rbR5FZBYLIyOeV\\u002fiZON3YOasyeOtb0f4C6N4l8L6ppk3izRdUgvdOj8opDAzLtK88NzvXB\\u002fjdjkYyPrjxP8RdW8VyaL4n8JaFDbXmpi3sfE9xdEwxWTOjsu3\\u002fnp5kkaoCCwAI5H8Wcq9WhRcKfVlQoUp1eeZyvhH4Iam+ranonjPRVh0XU9d+1QHT73KWM5ixLEx64Jzlu5xXsv7Ovjr4eeMvGs3w++H8Eskfg3TLQm\\u002fklM4a4eQps3PyHARS3sRVjwtb+Gtaih8CurQX97YNdwQhm5YZEoPpjacH2p3gnRPhT8B11nWPBlkiXd7breXEYlQFiAWCHuc7dufpXlVm5Rakd7TUGeRf8FDvjb8WfC\\u002fxeGj+H\\u002fhJoOsW3h3VTdIbqx\\u002f0m7jdYkIVy+AwPI46BO2a+fPjZ+0\\u002f8O\\u002fDXwk8e3fw78N6kZtd0U291BqVg0cmmzv8A61HJJZ1Ro168EMQvBNfQv\\u002fBU2z1\\u002fQPipo99o7m1h1+0zb6hdFQq38aHMUhyMB4cY9wMc4ryD9rTwr4G0n9knWfHvxx8RPJaa5pMVtpWqaVoiRXJvEiE6SyyFt8oZkKAAEoJcMOKdP2PuJxvdii6nsZcr2R8T\\u002fwDBcXxZbfEz4gfD\\u002fwCO174bm0uTVvhxYW89jdxgMZIt\\u002fwA428KrKVKqedpU96+CNFtkvLppSjxnduiULx9a\\u002fR79vn4VeA\\u002fiXBongfTvFl\\u002fqP\\u002fCNfC1r2\\u002f1y3i3abcaxHBcXb20DM\\u002f3MQyxM+5tpijjXhST+eUXkpP5ghZIUYqdmcqQSORyAM471+g5FUUsEqTVmj4vOKbhiOZbSsS\\u002f2TcK8exgy7sOcZOev9K67wzFG6AygFuiKT\\u002fnFZNokVzdxCGUZiHz4GNxPWtxVg0yeLyE+V+XUNlSa91aWPGcmrxR9mf8ABLyBPGviG48Baro8mtWqataSQ2v2loktY5g8TzO6EMUVgu1QeSx7A19l6vrvh\\u002f4JfExPirH4Ys7O68P6nczQQ21m8k1\\u002fFBdwBHMjOEhRUhiyqj5tz53nkfI3\\u002fBGP4W\\u002f8Lb+LutWC3t1Yy21pZ3LXcbFRHFHcB2DMPulgNmTxtdhxnI+0fix4V8Z\\u002fHjwBbeDtK0CG2mi8RS3OsvPZSukrPK4gjfaqJjKufl2nc0bNtxGJPzrOly5g0z7nJ5OWCuzV\\u002fwCCwXxl0r4m\\u002fsgafZfCLXLbW7fWPG9tpFxaxXCQSy3MizGGE7hlD5wj3H7q5znOM+VXv7EujfAP9hfQfhVqUlp\\u002faWr+Ko5PHOs6VcGE2M7jH2uNwAZvs4ZPLz\\u002fFEcAbto9F8N\\u002f8E\\u002fvB0f7KXjGw8VeIY\\u002fE2qXGv21nYwRq8iWqDy5dpMuT5qkvycsoYodzkMXePvGUXhPwx4R8TfHnxHcxfC3wj4w0X+1r46YJo576SKcxpO7MZJIVdIpJD5bIzFY84LMiwuJ5acaa2bv6jrYeM5ymt7FD9nDwv44+J\\u002fwCx\\u002fwCMNU+L3icXvjnxXp39gWx0tDbzGx00GKK7uIsq0JkeJCdwYgKSGZWUDxz9ir466v4imH7DXxTutT1eTw54s1LRvDmrabcHzrqxv4pVSHzY2QhubhCwfeqzcHjccf8A4Kv6B8SW\\u002fbfi+J37L+seJZr7xc1rpWvaR4dgupnv5IYkjaVo4GCovk+UCjvG6jgkY+X279m79kTTfA3hjxL8f7HVZPDun6LNajwlYWU9vPdWcrQx3CXU8jQfv7vzJvKZV2Lsj2BmYSV3VKdOVO0bXl96OOlOoqilLZGZ8VfhF8MLnwLa+BtTkt\\u002f+Ev8AD2lveT+DfDmn29uuhabZwWNsTctIJJGkEBgWFnd1b5cKN0yv9geEIvD\\u002fAIe+EGmfDj4JxTaV4Lt7eVb7UtQmJup0Eau7RDefMkBZfNMnyD50C8LXwR+yN+0\\u002f4B0z\\u002fgo58Tvhx8Svhh9vvPiLaNZS+IoJfK3C3iikS2lhZWfyCYwR5WJVLn5SACPo3xB\\u002fbHiz472Hwy+K+op4Y065tF1oaQ6zW0Op2sFyTMYZIJAVkZoPMMQbeqvKSGIVYuWpCeGtCWy11OmnKniW5LqeRfsnfE7Tf2e9U+L\\u002fAIM+Iena54n0DxX8RHvdOPhqweb7QHtj9vs4oQ7eaPlY7ySpCuBkxANm+G5r\\u002fwDYPl1P4PaN8VNH1rWdF+HepXd5NaaTNJbWCR4lUAxziK3uZprkwoZASdwbaf3gb6H+OWnw\\u002fE\\u002fxP4c8J+ELbw94RmuWuLTTbjRLH7FPbLBEtzJBbeSYzK3luXA3QjcQ+VxlvAv2pvh3ZeJvjf4C8C\\u002fDbxFaXeoXWvfb49D0W286XVltrd5\\u002f7TvvJFuL\\u002fwAqWOGUq6pDvARQAxNVCX1le+9H+hMo+wsktT0zwz4Wv\\u002fg1o7\\u002fD+x12W\\u002fu4pd902t3hBaylihF7HYrGB9m82aS4lcxkSB5HYtISirynxR8F+M9F1q48c+EfEstzcahpoj8QpbhRvsmVlmhSbaXaJJJPNAbc4SeQ7iSy1a8CeBPGXjT49ajqLa5a+IdFsdAtNUuNYsbWZY49SczXs0CBJtscikMw+YI65VQ5Ac2NE8fajZeIP7J0HQILe0fwXLq2t2N5etbR6XaTTSLbxGQIfOO61mbyl+dTM6tKdshh51Go6lobnZ7SnGPMzsvBP7P9l408ADxT8UL4nXdUu0vZbfw3aR29pBElr5a3QUKPIBilUlmUyFz94o7ofL\\u002fiv4A8MeCr66+I08Wq+Fhftc3Ek+jsslkunBrVn3QhFEm6BsRRxPE6yxedvyFxf0H4q\\u002fEHwFpEXxG1+yvPC8\\u002fjPw3p97b6d4huFMlrpOovsM88MDyBUxHfIJGkVUjSPKI5SOT0ufwvpfxNux4VsdKuho1lq1jZaJpVuJ5opLKOSxdjLHOiyMqhWXyowGeIufMAyK2hGVF3mc1SSq\\u002fw9jweW4fwMvwu8WfsyeAdQsPF1lBcav458R3d072V4sis91nztuQxeO3ijC7oREuW\\u002fcN5jfC\\u002fgv4ReIda8QeCIPhgl3pXhjSri+h8\\u002fddXc8TRxPc28LzMNlzBcwyMzK4HmSOvKoqDrbf4PeKtT1rUvBUV\\u002fqajWru503TNN1ufyZTFMjTTyWSyrMUi3RyyuHkRlUAo0oJzgeMUlttVvNF1\\u002fwAUQQ3FvfvqOkw2bTW\\u002f9o6XeXLyW7SJPCsvllyqmREKyKJd2X3SDdVZThaOxi6cYPXc6nwq7+HLb4e6R4j02G8g8QXsp1XSWu5Jb2301IGijYTyAuIQ0bMI3Y7dzBWAV9+94m8Uyax8VI\\u002fBmlixu9L0y60\\u002fVruE2z7IY1uHzEs8jnN1mVZEEQx5cEpaUoFWorBdR+KI8ReP7iKfw9q2p6DNNpGi6zastqIpvPS7VEMcchtVvLWQRK6qyJCoMYSTfL6j42+HGpP4W03ToNMhmv7OBdNF1YbRPZ2saL9lihPlnc0MUrozbSQ1wwCMgBGUqsYpM0jDmZ0Uvww+E0ni3xHoPhW4tLCHVG3yyi7urWe6XfHJEJzFLFK7NHv\\u002fAHjHdEhAXYOBF4h+Hmp+Mdbg8OaF8WL\\u002fAEx9L07ydY\\u002fcxG51DzomDeeWHlCJmcBkVAu9yVVcgDl7e4+Jvh46\\u002frUXwsi1TxrpkqWVpJc28m3UYiDCiZT5VnlhtS24MQpvI9wUKdzfjl4n1j4YeOfDvjXwJpNx4i1ObU9Ji8baRpyb5rxZYHRSsKEmFgw+08bkIjPLdTUYRlK9zBycVyvYseK\\u002fj1Y+BvDUGp+ALvSby9EkEOtarf3ElrBcSNCSCFhwxctFJ8pIWNVHy7nZmK5T9r34w\\u002fB\\u002f4DfDzw5oUvwil1IXGsXkF9HbxRIXu7eOLfJHGesQE4XLYZD8u0EtRVeziF5HyR420TxN8H\\u002fHXh\\u002f4LDxCmo6FrngkXmizvLkSyynlP91JWOPqtYlnrPiz4X\\u002fGTTfA+oWCRyTLFp2savDCTGiSIcshHRhjDH1Ir0Lx\\u002fZaBD+0Bo3jb4gaWNHt\\u002fDrRx+Eo5wW+1W043I0eeu3fkj0zX0T8TtT+FXxK\\u002fZ18T6Tq+hXGi3XhK+XxD9untcXM8LRMqoD2G7kj0C+lbKuouMYrdC9jN+9J7Gd4k1DxJ8G9Y0\\u002fWLm6XUdI8MWVo9re3DFYGtXYFmeQ9SN2c9sY71+b3xr+G+hfGT9pjx\\u002fwDC7xT4luXkvL+51DwqLkY81y3nHy29CoOPUDPavr34k\\u002fGHR\\u002fi5+zbodjp3iucx3LRz3bwRgCSwR9kkZz2LdffFeE\\u002ftt+GpvFGt+E\\u002f2q\\u002fBhtNOtrWS0jawUANZxRFA546nAIx7114KDjPXroc2L96G58TfB\\u002fwCJOo\\u002fCj4kDw\\u002fr0ImsvtqQ6kjn78PmcknsR2r6q8EXnxHl07U\\u002fjRpmpX154StvFC6XNZS3RMNtEzLLCzkdIiFYH3Rq+bP2x\\u002fDXhux+KWpeLvCMkotdTmNzHIflyko3Kce+a7j9kL9qjX9F+CvxG\\u002fZo1bSjfWHjvRYAjyc\\u002fY5rSbzUkz\\u002fDgZ5967cfh1Uo+0j8X6dTmwGJtV9nLY+oL\\u002fAMSeJ\\u002fit8P8ATPFNtI1zBocPlXOmh0MkH8aOFPOVKA477M9q+o\\u002fAd38SLX\\u002fgmYNJ0rwvZapaNDqkQ1qW9Lm2sG8qWN5M\\u002fdkbdsRG5LEAcZr4C0rwx42+Gfgq6jm1CWPxBPZ\\u002fbbKfzcoYSo27fUMrjP0r6z+FX7XM2jfC\\u002fwAQ+LvDGk20XhC7n0bVNW0OXM5jubOJI2IA6RSOFLemAe1fNV4ucVbZH0UXGLb7nSfBn9mlvi54tmsZtLifQ7Tw01\\u002fd6Vd3O24XznmMPC8li+SR2DA\\u002fxV6HqnjTVrnxvLq0\\u002fwAOH\\u002fs6Kwgm0Sa4uEAglgZirbV4UJGjMWfu+OpFeWfs2+Pfil4av5fiD4dttOS0bRh4jvLieQI+oaWhl\\u002fdheuMsTnvsT0rb8NfHa28aabq93o11bf2JbsV1C5vMl7OOUuMgDoFHIPtXDNTnPyOmKioLufR3hbx54K8KXvg7QtA0+T7BLo95qFx4ikdv3m9gCqu3LK0kw4\\u002f2+KPjbqFva+K9F1LQY99tabrS+liAEJt2ZeXB75bH4Vxnwh8C6dffsk+H9I8VXzS3lxpM0\\u002fkQvjzpAWEQLDkAkp7cc8Vn6V408FaVrUfwF8VyPYeKL4zy3kF3dMyuCCshMnZSQgx0JcBa5XBNuxq+bkZ3n\\u002fBUu20zx5pVp4YtdQsLh7eyt9QuNIupDvkWWPyo3XYCQyybSp6Zr4W+J\\u002fheD4j+E\\u002fEVx8Q5tSvJvCXgx00Pw6uoedbwCLEcF1Ain\\u002fVliBJkZyxr7T\\u002f4KQ+DNQttG8KeNLS2ivivglYpL14EQXMixLtO9eX4YMF6DHpiviK0sfEHhrwJca74mns7rTEkeBbae28ya\\u002fhiDR\\u002fZ0P8AAEdQCemIzjqa1wa5YvXqYrSldH0FdfCb4S6t+xbH4X8C+ENKXVn+HRkt2nYQiWYwrgK7cElnC+vzOO9fiZ4YtbLT9OuLTWzHGxBjnjkOCTnkBRxxj8Dn1r9xv2FJvDXxD+DmmeL7u2j0jXbnw7BZXWkfalfzEhR4o9gb\\u002fVCQpIw+hr8OvjU81p8XfFJuLE2DQ+Ir5fsbctGFuJBsJHBxnH4V9Lw5NrEVYM8TP4p0YSKWmWoVpVUEqrfu5D1Zf4cfrWxaW0k\\u002flq4K7HDAydTiub0HxNbXUogkQLk9Dxmt6xvoItX+xhX8yVkCE8hxgnP4Yr7JbI+Su3LU++v+CH\\u002fjMaT8XviJoJsrqT+1PAJht7W1t2k82VruFfmCkEJtL7iOgzX3jq+j+KUv7nUbbV7pvFdtfDSoGs7bzbS1ePzkhuJ4odweIWpleNWx5jlFyGK1+VP\\u002fAASx+Hvxf+Lv7Vkeg\\u002fCaaxNpo+kLe+KYJdQME8tisyZSHBDO5kaL5V6qHJyoYV9u\\u002ftM\\u002ftC\\u002ftA\\u002fs+\\u002fHnwZrF5Ja6NqPjCylsdBazZW057o3aGeB0n3IWGbGUFht3B9oClgfh85wbrY1tbWTfyPsMqxUKeEUHvd2Prv9lezn8NfEP4m\\u002fsifEK8fUfsXhvSdetNUsndzPJcpK0jfvFUJKhSM4UlcOBkkGvF\\u002fwBojxSPiB4Tb4La34Uj1+O4e5N54Ot7nYdUazdHEqvgxm5G6UojON+3YMsyg9B8M7jXvh3+1tq2p6344vrvWNbtrf7fGqyCC1u2ikjSLyQ2DiO7nuCWGBsznIAHNfs1fCDxX8VPGWq+Nh4oW1sp7G6UpBa7G1JVmdZbYEkm2t96yREp8+WZuDg15sZ0IU5NfI7HCq6kX\\u002f4ERfBXx9qHwt+J+sfEDxLfXM2jaT4VZddimt\\u002fI\\u002ftS3kjWS5vot37wmAPCpkVSJi5KkoFJ5z4l6j8RLzwPr\\u002fwAWP2ZdVuvE\\u002fheDWP8AS3tbgiaG782FbkojKDPEpaIRKBuLkxdN1dv4J+An\\u002fDTXiuy8AaLALbR9Bl043F+knmw3MMsSfaYPsx4hTKMYz\\u002fFti3kjGOh\\u002f4Kh6Xf8Aw30rwX4U+C2gW91oUGvDT\\u002fFOj6ZoqTXK2stnFDHfSsQS8sWYssQSFWM8EgiaGI9nPzNq9JSjtoc3\\u002fwAE4PhL8P8A9mf4y\\u002fEnxXrGh6p4p8e6p4cIvviP\\u002fwAI7Nc6fodzHtkn0uGLaZBNtlimlmKiMtH5O4eVzzfx01P4ofHfQPDugePfiBeWZ0CTTvEVr5fhd3l1ueOC9liiE8O5ori4Bt9tugZ5I5dzooUbvSPi58RtE8D\\u002fALO1p8N\\u002fBfgS98PTv4hvfC2nt4Z1Qyy6lNtmdLrKjdGkt0khZnJLNFtJw9Y+g\\u002fH\\u002fAME\\u002fBHQr3wj4+0CLTfFum6VcCPwp4YsTawxzRmaKV5iv3Fjd45ld+vmSscbGI2nVqVnfdy0OWlThSbs7FX4h+KxJ8QNA+F\\u002fjfwlePrUguzbavHGrW66hdwCJZmeDdvXbBCG2HcpRlHO5R5z+218ZPEH7BvwS+An7TnwI09NL8eLrGpeH\\u002fjDea2kN613eooXUorgBtjfv98sZjbaFMZAIPOT4A+OHj74i\\u002fCNbw3uly+MBrOqQaNqttqCWaXk\\u002flh5THGv+qG6Wa55wUIkkkJwKk+M37N3j748fGzQf2eY\\u002fFC6j8PtDj0vxR4ostUt9qJdxxvbxiKNiWkSRWi8yLlJVDykHe1dNCMKU05K1vyMK6qVklF7HbL8bT+zB+xj8NPEnxE+Hstl4a+JPiM6N4XjE7Raho+n3UkksM1yGGLhpcXEjBWKhJUVCcru6Qfs9618RLLxp490jVZ\\u002fA0eo2lvdXVgo8y6ewaO8CXFtJyksLrNIzZYFXd2IAYA8T8WtStv2vPC\\u002fhj4feP77ULPwnaeGNZude0+\\u002fheS\\u002fn1DSEuUtrOSV2PlIbxQQMkttiVSFOB63cWefC40vxTpV8movpWm2ukrexhA0dvZG3toc5DS\\u002fvRKZSeVN383yqlZV17FqpTereprSlUqfu5rRGb+2V8Kv2cvix+zFpPxb8TfEew0\\u002fxh4gi\\u002fwCEd8HXPnsJX06zjEa20Tpu863QgyyzhTEXui27BAPk37JuufHk6dfae3wb1STTPBctvbaF400+2nis9WtY4\\u002fJuryN3Ba5OyS4LhQVDSyIu912ju\\u002fF\\u002fgPQvC2j6fqPi6+0vUvF2vWNzbTeKdfikkl8PXipY6YstrFMT5sK3EkELNg+Y1xEWBBcGP9pD4v8AxVH7Nnh34A+A\\u002fGEXw8ig8KnS\\u002fGesadpkl\\u002ffrGmxLme3kQhV80ozB2zsYsckA1cKkakeWT3MlTnT1icxc+MPAfxF8Kr8T\\u002fh7HqviDTl1jULUaRbTXC3zTRhJmtrqOZUe0uGeLcd21sHy1Vty7qXgz4dXPxE+Onh2D4sy6doWveCPDNzpfiSK7nFzc7ku7sW+jWUMROyysS1o6bWfZFNIRkZIo\\u002fC34G\\u002fEL9nvUbf4ffDP4O6RaWcVnA8uqtLG8m9JYEkZnbOfNkLRrMuG8wMhOxMHv\\u002fFXgXQE8TyeK\\u002fGetTWY1\\u002fUozHLe6W8Ec2pTPObS4kaPDT\\u002fNhHikJSNngUKHjFac9Kl+7j10FOFWooyn0Pbv2b9IsfiZc6hrGmzadc6jLdS3cQmTdZzJC+2ZVkDE+aHgilB4ZjkgfLLWH8c\\u002fil+0BY\\u002ftMRaZffD6ym+HGt3UGm6HetiSS9vJUkgb51K+SWnSKMtKUZ\\u002fNCxK7EKcb4b+KVtPj1qFhFpuqaNpOqeFbrQvEcnh2KWZbHUn1C4ZYbRyQlsoj\\u002fANIACnzZJ3b7wrq\\u002fBHjyLQdZ8B\\u002fs7\\u002fDX4mXGqN4XWS+8a36WEUs4sbeKWWKORlAX7Tcz24GFAbNu6qcs1ZRhFXRblJyTR13jf4saHpngrwxDpnxD0+01BdV+zxjVtSLpdTiQNPaO6rhWjDMig5OAgJOAaZdaR8NdF+NOqfE3xTpf2TVdZuNO06DVL+8kW3kuMqIooWwFdFzGyr3dQDxmuK0R\\u002fhDq3gmOHV9Kjv8A4ZQW2reIdcNy7TzaZqgdrq4KSZL+WIwmFVhgxOo5BrS+Lmu\\u002fDvxve6P4rtdShiPhPULKK10S3uxKlzcW8mJ1lj6F\\u002fIjudpbLCSEMDjFU+XkSFBT52cv4isviP4q\\u002fa+8QaX4n0nTm0XT\\u002fAA\\u002fv01tctQYYmmnV\\u002fvhWUTSKPMIAyU2ZOVNFd18TfEWu+N7m98CeBZNNfxX4e1NU1mXW3XyhZ+SI7eMXMvM8gEW8k\\u002f8APYkcUVanEdpHzDqUHgX4z+Lfh\\u002f4h8QyNqfhPwVdx3aAyNHvHlboGRzw583bwf4c9Oo5L9qj9pTxf4M+IXxA+F+j6EbvRb3SEvLDVgco8vylYiW6rs5G3H1NeUfsn\\u002fFjxb8NvC\\u002fir4Q65OjJaa0LaC1vgoEkqvykTHgBUlY5JAwh5BxXd6tDf+M4NL8eXTxXB0vXIrTWLZLcmKaKWARyu68kqGR8HOO4HGA6ilRqWS0Q4L2tO5lWPhPWvF\\u002fwr8GfAPw5Np3hmH4h6Xexs14gjhSOIBjLG53HkZfrzjFeM\\u002ftieNtJufh7c\\u002fDD4f6zDeQ2aJBDfTTAJHb2\\u002f7uWTgDPmeWD7Bj616X+1D8Q9R8Nav4MlgvLXT7Tw8JdO0vU7mNmREkjEewH\\u002fAHHOG9BXz18N\\u002fhvceMvjbffDHwF9o1zTYry6vjPHEJF1K4g+8it\\u002fBCI8uwPD7RXp4bkjB1Z7LWx5uI551FThufP3xX8SeMPj54p0fS9F8M+fLp+hw20VrpqFjJHBEoMhzxnahYk9MtXr\\u002fwCzx8I\\u002fCHhL4Rar40866TxQhgmhF7gW+6KVMQKnVhIryZZupAxXrfg74LeEE8Tan8UPBnhxINeXTzNax2BHmxS7mSTZCjEbNgOQRgbWzxmvV\\u002fFXgHwFpn7DUWu\\u002fs\\u002f6HpV94lTVbyx+INzfzAzpqRtz9kEJb5FCNtm2jOdu0gkrU4rFSxEPZ0\\u002fdT\\u002fE1w2Fhh6ntKm6Ivjl8GP2ufib8SNb8K\\u002fCjwbDr3he1mj06z17RLONbCWzIC+agbEgiG8Flw5VuFZiAT0\\u002fib4FeC\\u002fC1rrXwS\\u002fZd\\u002faG8OR3Nl4JuG8aad4n09YjeyNEscxtjgqWDktHEykgjOSx3H079nH\\u002fgoZ4Q+KXwm8SeMLTQp\\u002fC+r+GNI006vaxxBhJKQqBh5WVaF2idQQNwLYKjFfJf7ZmteBLj4b+ItY8MXrDxXeeJ9G1mNrdDgWMlv5qvA\\u002fwDFGJHBIOD93ivPw2FqVKnLN2sdmKxahT54LcxP2bvjlL4t8er+zUj6w1xpGkzaJpNnEI2eZUzus1l4YRuzSN8xJ5AOMCu3+H\\u002fxD8O\\u002fDjx94j+H\\u002fi6eTTb3UL6K+1Kx1eZUXUNNMMIt7JQcCN45DIzZOGAFfJ3wL+N83wH\\u002fAGxYPiZ4mlkt8X4kvJ4YvNmtDLFguE\\u002fiK5BOOc5I5Feu\\u002ftg+B5\\u002fir4u0\\u002fwARaPrsevalrukRX11qumoTHZRiSRPMYggsrhFIH3xgjqRXRicBSpVd\\u002fdaMcNjKlaF5bo+\\u002fP2YPFXiq58UvfeNrKGw0XWZkt9EVoQIoxDK++eOEE4hJRItw43kmti98B+F\\u002fjV+0R8UPG0FxbwX+laLLY6AIEBNzfSSqFO\\u002fawKDcjErgHPJ4rU+CvhzRJv2crG1m1LTtf8TeEvCWh6Pc6gZly9ldAsySKjAxFizgMSM7M9WNdJY\\u002fA\\u002fTtC+Mza\\u002faeKrmG8urVEhtLaTy7OWVY2aUsFUmJCVAP3sqcA5Ar5mrUVOrJI+hpr90m+p2njvwy\\u002fwAcvhz4D+E\\u002fxD1Kbw2uhfD6OYatcNFKkphtfIllhwoIk3Z53Ebc4B5r5v0f4T\\u002fD3xN8PNPjbwRq+tXNzYmKezj1Qx2z3ARpYwJdh2OYwzuAEPmSSfvG5A98vtDv\\u002fCX7G3w18PR6i1pohmutHsdSvtLl\\u002ftHzpNQlWDasjErH5YOCWbcFGBtwT4P4o+AFxdfBfw94A1HxZq1st7Jctay6bdTwSLdF\\u002fMRpgEXKn7TEuf4FJz1auKM586vKyujWhCKw8mkeA\\u002fs2WniXxdB4G0\\u002fwnJ\\u002fZ97c+E30+LUfPjjhtXtoJxJcTZP7xA75HG5RbPwu87vzF+Osq23xA8QLPeSXMv9vXKXF4eckTMpfJ5+Ygn8a\\u002fXD9g1LDwPpXhW81bTrO70m10aKC\\u002fu9Wg8hbaaT7XDqS\\u002faZGETxwyWLOI13SHzUbaQNx\\u002fNz9uz4aaJ8Ov2qfiB8P9ImjudLtvEc8lhNHIHUxSYkG1h1XMhx0r7HIqsFjJpO+h8xndO2Fi\\u002fM8cm060i00yooGCNku7BOcc112m6ZaCxhSGZfPwrCVl5Jxkcjn8q5fSfD1rbPFO93MqpKvmLs3Ac\\u002fL+uK6LTbe5DpaHUHJbaVDR7W2cYx6854r7NfE7Hyjd7H0Z\\u002fwAEyn+ILftoeHofg5cW1jrkOnalcSSyRhklt1jLyicF1+TYuSTkhQSFbGK+2v2sr74Z\\u002ftreNvhLe674luNKtPDni64utY\\u002fs7T90JltwHuIrYNIgm8yeOJM7gYkjZj\\u002frAH+HP+CXum6Lo\\u002f7Sw8Tvrd5Za5p1pNqtle2okKs8PSIKkbjDAnO8BDjDMM5r9Zpfh\\u002f4LmlPiXRPh\\u002fbnRrLUrxGk15otPstNiktbVpJbV5ioAuTbWsErOu1WJ5B3lPjM7xMqOMsu1vvPrcnw0a2G5n3N\\u002fxDHr93+0hJ8aPAHhXw\\u002fLZWsqPqWrLcSzT3xlieONCrKq28iwsACMgKQxVxkjz74IaR8VPEn7UWry\\u002fD43Fv4YOoyzW2kLem3i0u2t0uPtFxv2ZcPOICh+TcULMXVsCLQfG8\\u002fiPSfFXhL4WfE7SY9FtbsLqN9bvJcx217PMFaY7VaSZFjSZvMVdkcESM7CMl62\\u002fh\\u002f4p8Y\\u002fsrLf+H\\u002fiprg14P4S1aLxDq9ppVxBFb6vbXhuUsvNVJDIrwS7vOwI1\\u002f1eEJArwJKUUo9f06nstJXt3NL\\u002fAIJmfEHw94t8ear8YLjwra+G9H034baXaWlnpt8PJaFFSRryeFBujkmkkkRxlmLqwPI3U\\u002fULn4g+Np9W+Pngvxl5uu634kvP7C0pJgIVgtt1k6OroUxujuDHK+8bTF8pRUiXmZfjj8Pfhj4X8efBD4Hanp+m+I9YffflNP2yWmmz3QB+wo6qZ5Yri7unZMFQAuchdy7P7FVx8VPjj8FPiqnhHQvBej2vhjxHc6B4buNW8TPDaTlIDcwxRStB03TIzTSbGkEhxHGU+bfDYaUqjlbQ58TXjThvqeifsxap+y3+0L8N\\u002fAemS2Op6YLe+m1i58M69fmIxahFJdRG5i\\u002f1Ykkk1EvJGwRYpI4fkRECR18k+Nfhb4k8Y\\u002f8ABRPVP2PfDPiDWAivMtpqEt0sjvBfW0V7Jf3OyMSXtuzW9zE8cjxurTRqJgr7T3ukeOPD\\u002fwAVP2JND1bRlv28YeH9Eg8J6098sWmXVldxxObS5UOdqQNcMUEofZuZRvDDD918JvhzqfwJ1bxV8dPE0Wja34h8b2l83iDxZZa2kk0KERPBpPmISrrIgvPIaEKF8hXmKqyE7QcaV3H0t2bMJRnUs2zB+HPwS+H198QLbx5eeEdM1m7svDFx4GsNC0GxTTrXUl+zvJcX\\u002fwA32hp1kit5YVlc26liwdcvGy6vww0zUr34wt45+Gng99D0ayP9gjRL7VvtQtbZJjJvjgd9kUpkjdguW3x72IB2Z4fwt\\u002fwsD4RfBLxh8UvjEtzB8O\\u002fh\\u002fcX58E6xomw309nqD2aTxfZ5ZYriQWzpJMIJkVmUSKNqjzDjReIv2ivhNoHh\\u002fwDbF8Qfs6aZ4+8LRynW\\u002fGNn4f1YW1xpvl24UXMETup8vAj3rKpkBdgFZELG6VOu06cdUKdShFqUnZ7GYtnr3jvx0nxi+IvizR7fQLzxnay6hcQTrDaXFgtuxvrS0gYMklyWcq0UxZiIBKzMdiV9IeJ9J8SfGnTtKGo6Zu05tUvT4d8QaPbQzu4W6t3MFzJvUKVEQt22oF2JODkouPjz9nH4w\\u002fCr9pj4XT6D4N+JDa\\u002fqWneHYdY1SPxDFb6fPoV810I2a2hUsk0wkkiBYbt0YDMcKVr7D+H\\u002fAMK9C+CehaJ4d+HUN7p+pQaOk0mmT6ql+0f+lSiQvDG6kvcPDeSgldsYadw0zMY4yvz0bKa1RVJxrJuOo+D4DW\\u002fge6tbv4xa9b3etalp0t7pV\\u002fA4kvY7i0vJrqOWCEKsR2B9oUgBzK0rKzFFHLeIfh\\u002fo\\u002fwARPBUnh34jvaadpWpRxf2\\u002fe2Xnu8dnc3MLXEH2kOXZmkCiV5FkVYywdHCtj0X9oLStQ+P9z4n0G3+IFq9poOmxzw+I7LTopWa2eOOJkjeKZfKc\\u002fapV3uYz8qFgoTceWhg8Ban8edW1jwdHJb+E\\u002fAfgnTINP0+6vna9v0RZWmF4hRkgEs0ZytwInkZASfLlrFU+eLm3quhSnyy5LbnBeDNO1O70iD4p3WoaV4YttIiS8lhtdIRli0yeZFigRrh3fMNxFcSM0fk5DK2cmug+KMlrY+FfEfjv\\u002fhLZGfU9DWbXZPEE629taxyTQXdpFbQWyoz3csu+SZ5d8kK32+WW5fy2XpfH+lal8dPiZoHw98MaJZv4V0\\u002fw5daaNU0608+IySwlrcuyDZcW8qTLbeSr+ZGy7nMWVJ5nxDoeoeEPg9NcftDWR1+y1jTp0u\\u002fDGiWjS3MsxiVisUknll386N8OMpIEVFHzKlOlNKorqxFSnzUt7M4zTfiJo\\u002fiH4fav8SPBHxD0W8kPha6uNM8G2EZPkSRSQwxzQ3pxPG7bIiVdXlDi6WOSPz8t7v8ADnwxbfDDwX4v8Q+AvhLNrmr6xcx63awwqVPieQR6bPYyRMZc24hunkjERITP2iTaMsK8k0H4d\\u002fBj4SfAzWPiO\\u002fgm10G18J6I0iafpOmTMdZEknnxLbrOfMS3+0eTJvbMrOJlKoqxuYfhl8T\\u002fABLffsyeEpLnWIPDv\\u002fCP+JNI1jxD4b1fUGGpX8MC3Fw9pGAwkVPtMdrGYWCvtZ2J2FWrZXknJdyZtXjFlj4w+CfiL4M8FDw1BaxXujW9nfLf\\u002fwBsapcW7\\u002fbNWHmxOwtpfJjtbSO0nnyN6hY\\u002fL8o+bivM\\u002fiJ8Bbv9qn4O6H8V9B+IuoaAmm+K5rfxD4N0WAwX2m3EzQTTNbTDb5TRPK7lU8zaMMojw4HuX7WvxG0\\u002fT9d+E2kWGm2Vpd+K57vQ9W0KzuPtjJaRxXEom8pmjPl27zu5dsqfl+YqrEz6H8Q9P8O+AJvhfo\\u002fh\\u002fULa\\u002ft7173RNZuNFjuVXdEkmoXDPG6iSRVuLiFcBFVf3YMjrV+1lGMbbhGkpKVjL+JniH9mXVfD9pp2r2XiPxJpUlws1pBoOgW\\u002fniSKIWxlaRbiMOmIvugsYy4RySBgrwn4D\\u002fBTU\\u002fjd8IbPT\\u002fgbfnW9J8Na1qWnS6rrEzW7Ws\\u002fmrPLHHtdAEnlnluQN0hKNFkqysgK6vZeRzKpNFfU\\u002f2Jrr9nXXpfiX8SPEseqx3uqR7tLsWO+AMEnM7sPvNkDavpk9q4KDxPq3hT48eJfg78S9DvdOt9blhudE1q2mKwGKXY+zB7smHAHPSvqXQ\\u002fEGnp4ztNC+PvjHTL\\u002fTrvfHYmaNZI7uG3Q5uXwAScjjPBDgfw14j\\u002fwAFAPEv7PEnxd+0+FX1ifxMZrf7ICHWzht1VVliSMfKAYkL7uvPua5XVqyq8jW63OqNOmoKae3Q+cf2mvC2n2vhTTdO8Xa\\u002fc6lBc6kwNmXO4qsjZO08oW+8OxGKufAzTNO\\u002fZWt\\u002fEXxB8K3zatbXy28dha6fG3n2b3MVzbuoX1KySHHdYs9qyvHPgnXvHniu2+J+papdz3VnY\\u002f2hZW2rTgR3q2g86SD5eArD15IJHeul\\u002fZ4+Jv7Of7SVl4Mi8f2V\\u002fwCHLF\\u002fE1hpXi62tM51Xd5rlgy8+Yse1QBydu6uxxnPDKCd0tzlg6SxF2rM998KfB\\u002f4dfs0Q+CfFHjGFvFWr61pdkdbuoSUgXTLqclrMk9R8yI5\\u002fh357Vq\\u002ftv6R8EPgZfsPDfhEaH4QstGi1jUNDjmIijeRAgBI+9cMYYwnoSP71edeD\\u002fjN4d+AHxD8S+B\\u002fE2i3c\\u002fgTV1+xeHdL1WVy+nNBNhZnLA7Q4kDSbvvYiH\\u002fLOsz9oC78c\\u002ftO6G\\u002fgTwxptxd6j4mt45NXFrG0rzWkTvN5y8nYoyI8Ky5MicVFKnyyXNt0HValeTOf\\u002fAGYPCnij4f6Do\\u002f7Q\\u002fwAV7TTtT+HnxotLe0m8K2u+PUdO061vWYXcLDl3Uec2wcsrEDkiqH7XeufDPSr4\\u002fFn4Vz6K\\u002fh\\u002fW7abTvCk32hpbj7HGoslR4j\\u002fqZQIWYqfm5Oelew6N45tPGnw8im+HPw93DwDe2Wk6Rpq4Y2MlpbiK4iROgRXTfuGd3mbia+O\\u002f2gNH1r4f\\u002fEW61HVUlVrPXo9R1Wwsbg+fp+qlDNC4Bym3d5e4AFWIORnFd+Gh7SpzS3OGvOUYcq2PlK6mv38V3gjjka9nuJI1fGWLbiBgdiAQAPavuv4M6TpegfDvTrCwVbWPU7hLuTS3kZW1O3hmiLJvXkKHlSUqOqxe1fN37K\\u002fhGL41fFibxL4ptYb6e3lOoXjyQqA8v2gEnykCoNzOoC4AGTxX01+ztrXiHxfpur3dyLBtUs7v+yvDVnLKWaOZnTJUEnYAM\\u002fKMZ34zzzlmtZyjyLodWWUknzPqfTv7Lni7WdJ+JFhqMuhJdyywtp\\u002fitSTBHLYz8TWzhuHMbSFo1POyJ3\\u002fgr1nxh8SvGp8ay+JruxluLawtbVLO5tHHmvGS+XcD7mUAUf3mP+1XyX8G\\u002fH+sab8WrWay1LyJNUgKfZ5ZVeJJmvhFL58W3ZsRpHbJyShcZ4NeqfBa9sZ7m\\u002f8AFfxC8fzeHTZ3F3Dcz30RmgM1s7280c7DHmWzSJnaq\\u002fOqkhlKgj5epFwqqU1oz6LSVK0Hqj7C+LqwfGH4LeAfI+IUOkaRcx67pp0Tzo0eS5MssIn2\\u002fePlbMDbyrP6E18z\\u002fs3eEvEPxH8PeF2nvbOy02x8V3ra5ba55kkf2UwWUU5S5wTbOjWrXA3YXN8qA817zoPhrxz8af2HPDl98K\\u002fG2neHtJjvdTmv\\u002fwCy7eZ5NRk8sOHj\\u002feDyC775GVhlWyRtUYPxXp1z4Z8A+DLXxN4bura\\u002f8TS+GpbeTwoLuVUvLqWURjzCH4mPmxSBoysh5DMAAq8tJKtOUYu2q0ChJU6S0vudT8DfBFp4J\\u002fZ5u7vxL4zvY9I1PxTf23g+4ltmk+03XmywS2y7h5IDqsp2k54RgMivzY\\u002f4KOx3vhv9srxd4Vmu7S5fQLiHSXudPGUne3hRCxJ5LdmPdlbPav1N\\u002fwCCefjqxi+EOp\\u002fA34oWVuviTTPEOqynRtTs1EMV49601vPGHJ3uqpPnksv2fGF\\u002fi\\u002fGD4lR+NR471lfGSSTayNXn\\u002ftiRgM\\u002fajKfOJI65cHHpivpeH6TWOlfoeNnk08JFLqZEGrwu4jlkIKspeIDBPzCtSXXdL0+3lvxfr5piOxHbJbB6kd8Y\\u002fDr2rL0iyjgmeG9hjd5QNrdwMnP6Ukuj2h1AwqpRZQQHVsjHYAetfbrV3Pj2uh9g\\u002fwDBKqW5v\\u002f2jY9Ti0onT20WSK41G9h36bZLKqqst9J\\u002fBEQcg\\u002fwAThK\\u002fUz4Ya74u8WfGXw58Nku7CXT9I8R2GrSav4W1I3Wm6tb2wk1CFkaTlmnt7K\\u002fTb181JS3CCvy9\\u002f4JNSXuja\\u002fwCMdYntLcxyWFtbxyXa71EskhKJgfMGbYRuXkDcfWvtD4KeJb74KfGrWvF\\u002fhvWcWWj2iifRRaqftd9ef2lECViKltoub2dpHEh3XCRghVjCfBZvVjVzJxfRI+5yzDTpZWqi6tmn8I31D4Sf8FWvjb4q8W+OtO0bRtZi0rxBetqUbQWsMc00QgnUD92vly4tth+WWXUEXpmvY\\u002f8Agph4n8C3viSLRNF1OxWbTtMmfxnqUkh8h7eeIG1Bz8skpKvIF\\u002fuhHPAFavwW\\u002fYd8W\\u002ftUeKtS\\u002faQ+Is2leH\\u002fD2r+Cbzw34X0\\u002fR5Dc3clhIZN129w7Mkm2VlaOIoyFo97hjtI+OP2iPg1a+Jf2j5P2Lf2abRde8dG1ki07V\\u002fE9+NPiKRSqsr3MsUaES4LqhCsGN0SiqUBGcqUMXiuZbJL8DKNWeHwvLHdtnS\\u002fETwt4l\\u002faR+Kfgnxp4A+HVpatq8kUWk6xZWMSiS0m3xQiSVPnlkeKSVGf++oQ9DX0d+yvqn7P\\u002fAMJPBvjLxv8AHzwNFZ3OhW0uoW8viuT7ctjqmnzyaddRmGAtI7fa7aAB4wfNjaGNSzxMBw\\u002f7Lfww8Q\\u002fCH9o+w8S+NNB8U6\\u002fL4P8AB19a3tta6oyfbL145pZLWwiWQbYd6lmkyA0LxShFMgJ6HUPFfhvVNB+Ev7K+h3Gj6hrukfB\\u002fSvFetQ26xWiardwXUpuNL+dP3k8kpnY5O4FZJH3u4I1xXRQ2RjQqRacZrcT4QfBDxD8Wvh\\u002fPouoxSaXrPjVJftfiPUIJt1nYWklwJr17lBs\\u002ftNmvJGS3OHh84gqAhrwGL46\\u002fFHwV+2V8RdM+Dmu6TpWh+HvCIXwDoNrZ\\u002faLzUUjjvILextbRQWeRbi5llmuRhkRtrHMyA\\u002fXH7RXjTTfhJ+yhoPwZ8BWq2Wv3ujX0F5phaUtMLSW3W8hheUlwzPKPmDA7Zd5Y5LDww3Nv8Hvgtpn7T3iq8Ol6neWGkS6d4et7dV1me086NJp0aJFjETLHHceWwJFxpySK+3IE4eMI05TtdvSxU5TlJRtoj3v4W6j8IfFHwYsP2dNX0\\u002fT2v\\u002fC2j3mnappt3eLeefdFCiz9SbpZobl5PKb9\\u002fsXy3UGVq1PEer\\u002fC\\u002fwDY1+CmoaZ9k1TxZNe3Ns+rz3umME1dGZJLiAOPlcuqFER8YZlyNu6vnX9r34fXf7OX7b0Xwo\\u002fZ98EQ+KbbXfD0N8ui6pLI0Gn2f2tI98IjdBJNM\\u002fMsk3mCUzPJKJN7mvR\\u002fh7438XfGDQvE2lfFfwxNJYQ+LpNN8Oaxo88tuUvIt+JbeOSU\\u002fZDHO5jj24MJhkIJ+U1n+9wz9spXT6GqjDEx5Wte5+bH7Q3gnwx+yB\\u002fwUx0b4ifBDSr\\u002fAFXwz4gv7XxFp\\u002fh672K1zaXM7CW1Ii5MXm+ZtZvmOTn7pr9RfhnrHw9t49J1n4eePtfuppJLm+1rxaYFubC3GFt4RID+4Zme4lXYeYxvfqKw\\u002fwBrv4QXPh\\u002fxXPrnw\\u002f8Ah9p0+maLo6TeZYxQhdOgOnRWUVwhVczPFI0wDNyInjB4VQMXwpZeFPgxpHiDVvgroniSbQdHtp9Ot7eBI7NDHYqJrjs0gne5lfEkRVWjhJA2xVeOxccbTjKKs1oTg8PPCzcXLR62PXfFMOpeBtN1Twrpnw4tNdtdUmmthpSZljhhS0N6yyt\\u002fqj+\\u002fSIRk\\u002fKd8pPzKtUbeybxTpM3xU0TwxbeGr7UZ4LzVYdSKuLkpdhlcu3\\u002fLXEEYZm+UyZU\\u002fIr1zXwwtfG\\u002fj34i674y\\u002fd6bJqyfbdNtJZxLZ2aPbQbCNjJEjK1vsdijEHlt5lL1e+LXiNvBPw8j0f4n2ej2ixavPcaprHhrSZIJ7yIxSRxINxea1naWOKMbZNkm1sBQpRuNWtyRd2jpmpOXtOrOz8KfFHwf8ANE0uz1jxItrbX8+n3E+m5QQma488ffj6b7hWUqflO1SOAa5wfDHxr4S8W61NpGp+Fj4ct\\u002fGFilnp9payPNZaKYVzAEl\\u002fdnarxOsf3V3Oq\\u002fOprifj38DvEXjDw\\u002fpvhXUzNp3iHUdEgtbTW47GOeEeUwuILR0twkMWxnWTz4FDSlcMRxnpfhLoXxitvDXh\\u002f4weG\\u002fFVjZW6XU0XjLVNW1EPeWt15TpKWdg0UYZhAzQqigiRVP3AS5pQpNxlr2M4KcqquZVp4q+Ffwwtdd8SeONStr5Nbtrqexiv7lma3jiiERit1X5PMmuBuEkfMZeSPqTWp8RfA0Pirw3HY6jqj23ibVfA9zpHg3SdWso4nh1dYo3EzBeTPHFcPGUPRbSQ9SadrovPF9095ovgODX4rnRb3UNOtbZWW7mk+3zxTyW0eMRx72gmVnLEZhRfnxKuD8QPiJ8BLL4n2H7F9ndapf3\\u002fhnQzf6d4rjkW6u\\u002fDcsTxLNqQnkBaSWOKV2VH3KkkYfYcAVdDWKdn52HX5Yz1Zz\\u002fAIL+IVz8SPG1n8E9Q0HSv7d0nTp7LxjY2kCBNUtJtQMMt8rzEGSTYZsInIKx\\u002fwDPQ12\\u002fxq8SeBPgH+0pafBSCzmjl8UaM13q9rcRSTx+YEeOJF3DbEjlysnOZHkXHSuP8Cab4Q0\\u002f44X9tongix0Gwv7GOPVvEem2VpD+6inmlincxxrullIEDNzgXCuFVgHrpdV+M3wz\\u002faE0nUvAfg2B9M8VaRq9jomra\\u002fcQ\\u002fwCnxw27q2ROxbzSIokIzucGXcCjbidm4Sk5Ri9upEYuCUXL5HE+KvCN9+y1Bq9p4f8AhXo1h4Ol1Cyjfwxea5BFFDesl0I5jJMQZ3KQ3BDr\\u002fwA9XDfPuora\\u002fwCCkWlfHLxp8N\\u002fDUP7PXhsDxE\\u002fiG9bVb\\u002fxHapJataQPLbooiuN6h2KpLGVHEUnBXe24rfD1Iuirmc6b53oeHX+v6XJ4E1S8ingstQh8UDSvsty4eSwt5CfNEZP3lcqWX0rif+CgXhHSPC+j+CfjP4I8W\\u002fbDa+I4lv7SUKhjs7uKMM8pwdgCg\\u002fN26njNbq6R4E+JI8R6r4p8YRz6bJa6dDqu4Mkrao8ixfaIhGCGRFdvRsg8day\\u002f2vL3whqfwyt9A8NI+p3Ud7bWWs2EMoDTwQqqpOST0ETFNpGSzitsPOKmrx6mFSlNaxPKvEPxl179k3w9ZeNtXtobuXU9SmtbNNZ0WK6tr223QOYxHMAY0aLKmVfmZZV7LVv4leBl8DfFnU\\u002fH\\u002fwAHvB9v4QTRYF8Xf2HCIbu30y6sgD5sbscSI8N2sig7ipfbuO3dXXftIad4X+I\\u002fw10vR\\u002fHWoNqlnp893pen6o6j7IixWUENt5bj+I+UmD6ox714J4w8a6t4o+L3w++GOkXV\\u002fpepa9o9vpfiacQM5uUMbjaY15AK+Tgf4VvGhCo1Uj0vf06GPNyVGpbu1j2X4j\\u002fHDXdU8Tp8RNZ8LadqGu6vNOdU0++tGkXUUuIy0kxAJEYUPhc4524GMk9f+yV8T\\u002fGHwU+FWu+GbWSzuNTtpbe3snv0UXIkEO59NeRfuxuiQ7ZFyFZCDyRXCS6PJYeM7zwTqISz8S+GtLfRJYbhSFLEKGkk4\\u002fd\\u002fwDDYyEIzzV6bRrHwdez\\u002fABe03wxPc6baXawy3UU6pJHJAUEheJHbdtIkYg9ENc8btJI67x5bd\\u002fzGfCv47\\u002fDj4SxXPiXxdqdxbX8\\u002fjDVpb1rUyD7O8wEctnNEudr5KFJcNu24wvSvONf0jx18Qb7xj8StV0C68Z6DN4UnSXWtLLQWcMccg8m4ecxHzZVZ+m1climRtq3pGq+APCvhOPxde2yaxYajrF2dRtJoS8krCMJKp2g\\u002fvCjB03FVA75wD9gftC+L9H8Ff8E+Lz4X\\u002fDTR7Sb+0\\u002fEGsaPqmt6Pp2LO5ttLvS6PkEnyZLT7I7Fc4IZs8Vs69ajOKitZdTD2UKkJSvt0Pzu0H4d+GPhL8NtH034M+L7jUvGniTxC9p4nLw4j0yEiNraNNg3ecGWV2kO4fOgKK0bZ+prTwD8OfhJqk+kQ3A03xNqFhoZ0+a0eN0SSKMwTlV3FctvWXduG42bZ5fDfDPx7cfDv4uw6r8L\\u002fABM0dhrtnZa5ZrasypA80SXHlgH5gI3eVOeSFz3r6t+DfxJ0Xxj8MfDnjrxf4UW91F9B\\u002fsqHSBGZLi7+y3rTS3K4+dSQkgK91ZcfMBSzKlUjTU07vqaZdOnObi1YofC26k8L\\u002fERvHs2nvK1hBAkOmyOZBqNz9oKqjsC+FErhkYbgCzEnC4HrPxkgtJfAOmeAtD1L7WbS4uZ7cWsDW8t2rec8YllZdywjzcsDgAyMSrABTr6b+zX4om\\u002fZ9h+KEdrJpdzomn3dxqFpeyoHt79mF0ka\\u002fwB5Y12Yx9\\u002fdgdKr+ANd0H4gfCvUhYXbXPiOOODS71dTVYF0eWciSC4mmdlTysvDuck5R1wMYZvnZ1VNqpHdHuxpSiuTufav7Fnj\\u002fwCHvhn\\u002fAIJn6R4o8L295euj6oH06FpmuPtqhXILCNjNmMLiUr\\u002fq2VWQkPj5z8OWXgSDxNozRQL4R1vVNReO58NWGm\\u002farxWtpyQTJdxmGOTzclpIygIWLcNykn3j9n34Z638B\\u002f2NfHuveENSsLTQLPVF1DRbvUiPtOn6fLpwhmlUOwCs20RIpPAjDKGJAPh\\u002fh34p\\u002fCL45fDbWI7Hw\\u002frl1r6Ws0mhaPrFr9lEtzNMS584ZAR49oIkZG3ZIXBUnhSl7SVVLR9ty8LKPs3Sb11PAvgl8evFses6t8W\\u002fF1\\u002foWo6mPirrWg2upX9qJZWuZ4xcNPJGkfmH9zEiQyxNnzZG3HG0H4q\\u002f4KOJZQftt\\u002fEWXw1rVreaZqOt\\u002fbNPvtNgWG3ubeWNCkqxgkoW+ZiG+bJJIGa+xvh54Rvb+H4lafpmh6Lp1yvxav8AT5rt7wRroqXdnHsZTk7Xi8q6RT2FxKcl1RG\\u002fPv8Aa68b23iP9obXNYtrlZhBOLaSa0lLRXDRkr5qEgYR+GUDIC7cFhzX1mTQf9oSa7f5HgZxNPL4q+zRzEMUluRE8hZSuS57+1bVglreLBeEg+UNwUkYz0B5+vqPrXMwXU0t0sbNsIYcO3ySAg8n9K2dN1C\\u002fe1LmNQVVt8iSYAzyAOR1JA\\u002fGvtF0PkXfmdj7s\\u002f4Ix+AfH3xKf4reHPh74fnuNQ0nw9BqqyQwQy+V5Vw0JEQkYhpP3siqArN1I6V9IeDdC0K9e38e6h4fvbTVNY8FppmnxpHiS9tpnvbgxRoJElgurho9QgZ8YRApBWVYlb5y\\u002fwCCJHxb1L4deP8A4hHQvFn\\u002fAAj66v4cisBqWydAr7vNj8uVI22TmQBozg5cBerCvpKx+Dt14a+OXhHxb4mv1itkvpbLTbx1uoYkmsR5B+0QGPcGuJXR9iKdvlzZ2sF8z4TNlT+vytvZH2uVzrfVIxm\\u002fd7H23+yfdftCa\\u002f8AskeHdL+AeleH4otItmtdIl1w3NtbFYpNy2nkhGkjWI4jaXc25ocjzFcE\\u002fP3wI+FfhbwR+1Zr\\u002fwAff2sINW1\\u002fxj4PktLLUJPDswu4ra8ZlvbV7G3jVHNu7zR\\u002f60F1nEaY2lifU\\u002f2QP2p\\u002fjXp3gvw54J0X4b6VruiX\\u002fji70oa5quuSW1\\u002faxyRahdrN5ESOjRCOzaOPLhiHUsEUZHyl4ai+IvxQ8U\\u002fFbTPBvxt8KzfEjxf8Xr+78W6tb6kLWXwtDpVvHNpIt2ZvlhfyfvuuwPBKfm8pkrkwlOcqc7sVeaVT4T3r4S+KfiHZ\\u002fFTWPFvgLTfDV+\\u002fjj4t3ep3OmR7Zh4csrWz+wz2MsrEbZJhFZrLslPzK0cYKoVHR+AfD\\u002fgHRYPDP7atl8HJbu\\u002f0q98YXHjG\\u002f8aT3MaaLqs9zNImjwwJDcFnW4u5IxcJFtbyGPBkRR418IG0bxP4z0Pxj4P1CLwJBaXzal4gsryYobWzTHlzCJwNhlDxnz3zEZDJGGLLg\\u002fV\\u002fxZ8M6LDomqWXhvXvECaTq2sSavqc+nWj3js9w7RzJFbQh5Iyn2UBpFDujq7+XlSKznV5JKHR7lqh7SneO54l8c\\u002f2kNM+PbfDj4jeGdEmt4p5p7W8s5dOe8l0tXjYahBcpJ5It\\u002fMkFmwkd22rYvG8a73iep8aPC8\\u002fxa8Z3euXfh\\u002fXriLwBq8drpcNhHAV1iys5QsN1DbxygOga5uGRI45Yilsqvs3M0nT\\u002fAAX8UeEk+Nni39nO0+F2reMvC3gnWri4i1HT5UlS+trmyXzbSW4OBPem8eUNASrO1xASFAcDm\\u002fFXh\\u002fXNE8F6klz4\\u002fwBG0+71eeGfwrftLLvtdIeJxAxkVc+c08d35kRClpVjjX5TuNP3JJIuDjZpjvjPoOn32g2mleOPhvHoVz4wWHSNSu4PEUr6lYWcsrvHslj80WyRtKkkSxBhvhWPaYw7VjeCdP1j4TXniv4fTWUmowXniM+ILbXIYPteo2dpgPKUtg7s5muzLCrsvmxAtlidzN6Z8WdN8fav4W8GT+MtF0t7LULiDw14k8QXTzvIjMj2b3IgVAxkNw0JGASg3sQFDbeY+Jun6r4O8Vv4rnlY3OoXi2tzr2ktGmox2jbVsraEkhRtlDo8bsjlgN2FBdlGtKUeWXU0nThzJmVP8U9X1Hxx451S01bTBoGj6wLe3jt9DuHs9QYxtNHc28iyASCQBllSOR0C7FUqYMnXj8feDdIgn1iG9ul1OC1Av7aytJ7Pykt90Rj8oRSbYSt1cogjO1k3xmT5mNVtS0yHTPCKQWF9Hc2+gXd0k7XniK3ae5uUe4VCJId0dvPkSqocKW8rAUkEVzGs+CNP8B3Gm3Xh3xLqHiS51Rl034h6jpuoINZurG5tpZLVMs3kQuoCvOqOSkpkfb+8iV4j70kuiLnyxSZeOoaX4s8FeBDJ4Vfw3oen+JorzQ7OxmRhaQeRLYsI3jBWe1EslsjJLMwZrtAzHarj1Kx8dfEK\\u002fwDAttoPiPwnDa3WjW8Gt6v4lvVM0L3Md4JlKkyBvMkkaExQFZGRhgnKBXo6XqtpYa3aaR4AtZYfCF3p62ugaZBG8U+mWgVGt7yWOeIZdF8yWVZdiR+Tks2wGrXg+z+H\\u002fhXwhD4Ih8V20ul+HJdM+36lrl1E0AWTy8mGaVwEggjUyOzksHWXZlmUFcycrIjVak3g7wz4x8efG658PWmqxaR4S8OeHXg8yZXEDIkUbwy+XIUeCILLKoWJwCwQSFUCxrxHwc+IWheP7XSPifdww6P4W1nUNabV9ESZFku7xNQnjtfMt4YzFDNJOqKGcMHAfaSqDPrGleJNe8OaloGhvFDo+mSarqEZ8KWcZkuJ4zKrSzNPceW0To0gZ0b7yNMFGRmoL34V\\u002fBHwl4i1S407wJFp8lxq0AstHEEs0UdrauHhuBAi8TRXJmj2qT8gORu3MNadaGt0Yzpz57pkngrxfqHh7SfEvjmDR72SxhtdNg0ia3l2TQ2ohme4dpohuQRQwIVKR4zvkIxN5cXlHjnS\\u002fDnwP8aXn7TvgnRdE8RHxPEt3q7QbnntNA+1QzYUuwP2iQ3CxkuNnzYYKw2n02fw34vf4fabca9Zatrt2tzdreafakRQw6cYhHeb2TmRXgY+WzYZRceXtPl8+YW3gTR\\u002fgz4g1vx1qvhe7th4hI8PaB4d1C3a6jFmoS6hKLbs8qKJIYBJLKqeW8Uac7skpTThJRWr6dxTUueMpO6XXsatl8IdevfH1x41u4NN1UXckIgt76D\\u002fAECwZjCLna6YYIi7mGV\\u002f1ZPL\\u002fLtt\\u002fED9mHwx8H9B8Oaf8Ndce6vbrXLu68Ua7Kyz3MAmke4a48uMBPMLlEZmAyoRdwDBVsW8Pxk8U\\u002fs8QzTwWei6xqWreTYWIRjJbWP2jYtxIqKTJJJCGkSPAyGQE5HPT3\\u002fh5PENr4W1nV9LaKSxu01DT7PUGKTxQi3jLmXa+JNm5w4cjYR6qKaqzhTd38jTkjVqKwnxgtU8UWvhzQPH2h2Utv8A2Y9y8LPcSFJx5ajG0xn7jHJ4ySNwLfNRXR+ML5D4\\u002fXU9ZNvBZ2Ng9tbSRxM9yWm8mZllyu1CMbdoJPyAk80VkpJrYt8yZ8D\\u002fAAysvDfwz1b4gfDvUtL3eKPEenCXUtVuClzBbXc7uPKUn\\u002fj3aMK6YHHNYeq3Pw\\u002f8K\\u002fsmavoOqeEj\\u002fbN3q2nanPrEMayywxRylp2UnhYyfLyPTB6A16N42m+GXw4sLyXVPDJtX8SarFa6THb24U3l3JG7QSBgxYgu6\\u002fe+QHJOMNXBQ\\u002fDzS9J+GFndS+G7u1vJ7e5tU0\\u002fVrco1y\\u002fySQpg8nZJtYKQSR1HzV6crSjzW17nHzyjJxWx1Hxr\\u002fAGbvB99+zz4F1b4f+NLL7BLBbnW5bsGSOTViomaZc8IXDEnPcHvmviz4E\\u002ftLQeAP26LT41+J7a3srGzubzTrfWbO3WQ2bykJJOsY+WY7XI2HqGOa+sZvBvxStdX+JXwpsJNVtfhvpt\\u002fcPZNdQPLc319axt9ouAyc7CxII4UmTAHy18AeK9U8MfDbT5tauvh0beWa3mS30md2ea1upUjkS9ZmBxmOTCjgpjIIYA16eXxVSjKnv\\u002fwTzMVJwqxqX2Pqrxtp+reBP2zvGPw7trSDVtE8byf2j4f1+C54ghuLV5tkkidmRVyv8JYKeQa2o\\u002fDuveLPh3qHwd8PeMbU6xp800cd\\u002feWYz50CSLJHat9wGQSNGJf4mAJ+9Xnn7D\\u002fxT8I6d8Kdd8Ga5aS6taan4an0q4+16q6S2G+b5r23Tkbk2qSMKHUzAEByT7poPh\\u002fXvhz4XaDXdV1DVbSw0uKxvbiw08xtK0jBY1jYN+4fyISzIiuAxZTuxXBXTovke60PRw9qkNdtzlLLTviL4XM\\u002fxf1fwfY6h4b0\\u002fTo7TxDcaZbInlyIPOe7iz96dFcs23qFTFdjo\\u002f7WXw6h\\u002fY\\u002f8UeHfD\\u002fhlLnwfrmqXUEGq3catBp2+G1gtkWFuso8kGQjqZwRwRXjGr3Hxg+I2r678LjraaXomp20x1jWrqWRtPtJJ0RLiSKNWAyI0RIlUCRlc7jgfK9dFsrrwh8UvB+o2Vx\\u002fYs982qaToOoOCkJaGNoFWSIxuGgE2MAbXB+ZVIAq7UYShKe+hn++lCUI7M8C+Dfwe8YftFeJJ\\u002fDGnWYtj4j1O20LQL+VSVe6R4ZpIUI6kRsmE9WB7V6D+yhb6p8VP2h7\\u002fAOCV\\u002fp1vb36Wq6do9y7bLeyvVnS3fch5VXmeFBGvOXAOVdgeg+B2j638LtD8PanbXbf2RZeLb\\u002fW9KCARSLd2gRGLyohY5VQuzAX5ztdfl2dDDoek+BNT1L41eHLbT4NX8eS6jJ4bjtri48zw1fTmR45VeWVmLFLSUMXD+S6ABw+yWs8bifaOSfyN8LhXScXHZbnrX7ecXjnTfgBceHfDPxA\\u002f05dCigvor+JH+zaQYZoQ5XqPNlILt0QCA4BU1w\\u002f\\u002fAARj+Kfwq8T+MdX8N\\u002fEHXY9NivfAV1aXH2uBktbe9lKokQY87zHvYY+UAk9hXafGH426fqeqaZJ470nRm1LXfDN1pWqSW8CNYR30aSSgOyoFaOUmNlhVRhZQS0gjKN8zfs2fBD4kfB3Tviv8OvFms2trqFpBA9zp7ymWyvbbcJ2MEkWJHuGeKKFFHC733PERvHAo0FgZRe9\\u002fxO7mxMsQp9P0P1V0vwN8VPit+yyfgRdXj6X4rfwVYXmoJqMRBlmsE2QzRlfu+b95t3yjcT1Ir5\\u002f8MWraTpD+BNEsrzyZ9NQ3+n3MKRWYaWCGCK+Ur8jlzGrNC\\u002fG0wheCK9g\\u002f4J42vxu0TwKviXUfD8t5eaj4L0zXdO0rxJrsjy2Om3c\\u002fkfbGmkkZXxbFJdhG2MKpOWZQuF8dtG8T+GNatNH+HNt51h4h1OC61DSzF58CWkyRQNcKvnxL+8KWpEaiNAzqAi5V68CVSrHEeyez1+49LDqj70o9P1R8U+GdM8Z\\u002fG+7+Jfhz4E+HrmG0vvi\\u002f9v1TUY3kT7HEtvbHEePlIkIuAVPCq64+\\u002fX5\\u002f\\u002ftAXSa78bvEusSajJqCTarI8V26bS0OcRgg8jagRDjglDX6g6J4hn+EfxbPw+8PeJ9eisvEfirTr7U7TSURUmWfQbKOD7m1nnjnuwrIz+SFYmSOZihj\\u002fACw+K0qj4sa\\u002fOsaxs\\u002fiC+k\\u002f1aoE\\u002f0iQ8BTtHHHBPy55Iwa+4yJudd22sj5LOVGNKJlaXcwRyfLDEVDNtPOM4x2robGbT3EdqtpA8sEn724Lk7iQMDB\\u002fn261zB8uCSKeAMGZvMeJEAHP+0ScKegPoTW5penzxyyWgMoi2lN7oGL4HyFzkclW6nOOeDX1Wy+Z809ZH6Mf8EsdAFp8KfEHjPQNGje+uvEGlac0dnC1vepaWzrPLDbynr51yYgZI\\u002fmh+z7iQSDX3H45+E3wwP7Ofgn+wdeTSPEvjWzj1qXxfBCh1IGac37LZsOEj3KIn28y+fGcfOxPyj\\u002fwTX8K6re\\u002fskWkOsaVp+oW+pvqbWNpHdTSmxjkSW2e6lgdgksse2QogBGLpGOAxCfYPg34bap46+J\\u002fhf4ZeHfijqdtZ2WkQXoOuTl71bWK7hLLC+4yMJA3l\\u002fKw8qMzHDghU\\u002fPMwrxeOnddT7rC0JRwUHfSxzEXjLwMPiZ4U\\u002fwCEK+Hy+Gl8M6b4q8RHT41Fp9ontxZWEV2y\\u002fdklUXN88kTdBdvjnFeJf8E4vEv7PXi34v8Axp8S+Mr\\u002fAMS6Zc69rN7F4DvNOup7P+0AxRrspNGR5l0J0jjiDfcCJ5fOa6\\u002f4TeNPhx8ff+Cinji18FtZN4b8HeHbyHwvBLYwaefEWopDDBcW8zW\\u002f2c3HmzrHcG3Zv3jMWKERgJ2vw+0zQvijL4v+Ilp8OovD+nX6CS88PeGLWzP9mXCpKJE+x\\u002fZ1UTzgiQEyuY5XVlbgk6uccNhJRS1ZzQgsRXUr7HaaZ8P\\u002fAIr\\u002fAAatPBfxKfVB4p0\\u002f4o20ch0u9t0gk0GKO6fULWOLcMhVjZoJFJ+QAE\\u002fMtdt8NY5fhraad4p0LQZJ7LxRr1\\u002f9v8MadBtmsrW9vEmW7bZ8sskUa3QVBw8cinpiuz8FfE\\u002fwt8bPhrf\\u002fAAE13V7Y31lcNJoN\\u002fYXr4l0j7TIFaHzliaYQAKkjBSnllH3udxd194A8L2iw3mm3cVulm62Nnq\\u002f9l2VzcacqRpaRSKk8RC5iEWcDd5e3K7Vrz681LlTWrSOnDxqJSlfZs8O+JEnxk0v4qeFfG\\u002fwL8Q32geFLm6vW1zRLywZLg3Ek8wgkhjHJmkKXG1lIYJMpB2otcx8UZfG\\u002fxo+H6eG\\u002fhJZSQ+KvCrnUpNC11Bp0bI95ask0Ylw8kASGRSrncqXcoY5lOfRtYt7wqNb+J99PpWkRXlpc6rdvALt9Nmt4NYuby3\\u002ftAokkkLGKxkVH3CPf992K+Xifs6eGvDEfxi8P+JvGPxS097DSrWXwtrqXfiKaVdKsFtLm806ybzxm5keRUkicnzI2tnGSyRkdUY2pIylU1bM\\u002fQ\\u002fGPi6Hw5q8WqalqF1q8dsNLs\\u002fD8dgLy1sWigLRu88XE0qXtq7xrJlthYnMbkGv8WfFUPwg8a2HgTw9YW8viTVry3ia+iRDax6irF5pHXplld5UlblwjJnDkDl9F+JHjz4Ka3Y\\u002fFL4j+Iby10XX762stTTVLPZHHp1tMLiz1Jha3KNCZxMkc2FeRkkMrHKGMWtS0+61\\u002f4lt488TXxu9EsV1dvC66lbrBfXeqXMU8dnIu1D9nincuGlyhUvvKncJVlUryu9jeM7wSW5Fp+hX9trGq6D8f717eO7lubd9K0zUnifxBbTCFI573BB+0PcbhJu+R5tzn5nFTeCfFfiP4k\\u002fDTV9L8W6hN4b0zRtfuvD7+K9dvZp7qF4IF1FZnRHBm\\u002fctFud\\u002flCu47CrWr6jYePtF0\\u002fXNY0TxTp3iXSzFbX1nbxCJ4JTMFtBEyK6ShGPmiR08sJHu2NuZG4j46aF4b+DmleAfhtYeFbqxbxD4yuvEHirVo7lJ7qSeO2WG8nnDkxrKk4LRRlgkkMpV4gQ8UhTalUV9x1bey0PZPhpD421O8tfEnhzxd4dt5zplxHrMFhEnk3ETT4leUNwkRMEe0E7YzNk9aZqV7aad4rm+H1h4G1W8sNf017jTE1\\u002fXEu9LvYZCyzRXcDApLKZPLncDkwIkX8S15v8I\\u002fiV4s1rxBcWHiP4V2lh8RvFdu11BDoUstvY2nlxw2a21pcys7boWubaRIQqGNfNAc4WQdfrNl8UPFvjyXTPEmo3OmNp7E3MjaPDClpC0kAN5EkasyPhPJd08vdIWMezapM1OaErS2HCMWk+pr6p4Cu\\u002f2mviHZa34psNS0iDQdbVNS1jwlprob\\u002fT41ilZIZ4QDE0Txxs5Pz7YStZ3hPxB8OtO8S6d408DWdh5K+BruxuNOhnaW0bVZb92W4aQENsUlV3fcUSNjgmq+p+PfinpnjDwV4T+FesDT9R1LVLbz5JbwyiC6EiXEtvvchhbhJ2uAqElmdS+xhtTlbXUfD+vfD+70vw5oyfZJ72fTvFWo2t3cW8Li21RkSw08nLeQ\\u002fwBphIQMQV81t425G0YOcNXp2OaUlGrqdLc3+v8AhnVtO8CeCLDxXJr6aW+peK5dK1I+fdDUIpbUyGaQl7iFjp083mv8y4crzKlafjzxX4d8caY3jvxT8XLe3m0rUBoHhvWbSYC0ku3hw5jj++ViWeSRJD95nj71znhX4s6F4M8c6P4L8TWUM114qlZNc8ZXiusdmbezl1T7MUhYYjjaeaJHXd5e+UbW3Kqadn8J\\u002fgl4G8XeD\\u002fG\\u002fhZr7U7bxXqt3qfgjR7jSxcQWNpIq7wEP3Vja3SRXUrxKy5\\u002feqB1q0IcrVmcjnzyvHc+kfEWrp4E8NaD8SrGe+ij09ITFPEnnGeN1uI4reUMMCNmAHbbvDAgrmvm74bftU+Dba10\\u002fSU0ddO1DRriHw3baXJEZLnRQI0VHaaQmSQ7PLDhjnADHJOR9UeHbjVvEXw90nwl8QvDU2j6pNHPeW9pp04\\u002f0MQXDJA8eAuwPD80aODsR9r71U18beCNG+Gfi7\\u002fgpVZfCLwVLYW9voXhyLV9WbUNyE3ckjxvZhQdrlGchXx5pPl\\u002fMOMZUoUakJNrVG85zpyil1Po+98A6F8SPE1\\u002f4T+I+v65YQadM0tpcafqBt2lY4BBduGHOQOuSfSit74zW\\u002fhrx2j\\u002f2d4f\\u002fALQsxrE728G4pFasoCSL+7IO4kAclvuN0OdxXLywOjmqo+HrL4dXvxz8d+K\\u002fh3Jqk0Fja+IYIdB1mIALbNhpQsDOQgG1HjDDr5hPQGsy88W+I01bTfh58dfFdi58PeIhc6NrME286i\\u002fEcDsFJ4VcEjjhAM5Bze8DapqfwA0Ww1e4t9DlbVtdEdxFpdz5iPri+dLHBMOokbykKDoCFHUirdz4M0zxP8XpPG+t6fLq3g3QrFBp1rZqpuZntkPm+ZIxBX5wxLNzgsRwTXW51ZO19OiMVCEY3tr3Nbxh+1B8TdN0Lxx+zx8KNNmfW7qaO60u+mtQIIrC8tw8iPMwG3JD8AOf3imvmb9tD4S6PrfxS8J65D4Qnj8PaZorNrNuLGUW84jjKyb7kjEjs0Txrwv+qr6Ja60PVrXRPFmh+ELnWLvVLu0uLPT445bmCe3TcjWhkjXYsW2LKhjgBv8AZFaOgeH9W+IPjHx58Ofix44ubjwHY6Yuq+C4rkrLe6fmVGe3ldchkt5Xn2KD\\u002fwAtiMV04fEqlUSSt\\u002fmYVsK6tNu9z8p\\u002fhn8Tr\\u002f4L\\u002fEjxFpfh3w0bi0vGNrpy3XztZStJ8rZAJkIj8xCmeQehwAfs6z\\u002faK8UfEDw5YeIhcXGkzR6Q50\\u002fTLmZfL054ZSs3mIQGmU+dcPlhGwOzDnbtPyv4u+DvxG8W\\u002fHjxr8QPBenQpp\\u002fw5gk1bWdT2Msc\\u002fwBnuV2tuHR3lmWIE8fMM\\u002fdr6k+I\\u002fhe08MfBfwtffE+bWNOvPEVis6W+rr\\u002fpX2ITJduWjPzKktysZjQ8FRuHy7q7Md7Ko4y6nNgXVpqUXsY2q2un22heT4Ul+1N4iu4Zda0DXIHQaVdQKN94NpYi3ZflwBvU7cxjbk07nW7Dwt441n4ZxX00Nha2V7aXcGooi307SRpJDbv5mDGXCRrhtrcbsjO49f8As3+HdNEdzqvi\\u002fwAOXniHzhHf6Ho8duWtNRMER22srv8ANkt9nVwMk\\u002faCCMOK4vxX8KfF37RHxR8R\\u002fHDxnqCjxSms3viLX9evphBpd7Zfvreys7dmxJI8i28Yt1YYdHJbo1efDlbcZM9CcmknA2tUvvGvhbw34Q0Dw94eey8UW3h5UsNIhkja8khnvGkgvNkg2ukkTQIWG6Nxb5V3MpVdbxF4ifXPhLe\\u002fHn47\\u002fs3W+r6BpMw0\\u002fSNRsoZLe4XU42lju2d1lQC3lkimR8orho3AUkJ5nFaVFqWqa7cfC7VLLxJc\\u002fELxA011\\u002fYL20kky3E8nytbLBzIZyqxMEB2RwRFfl3V3\\u002fwAAPhX8c\\u002f2vfhZ4j\\u002fZK0\\u002fxPNaaJ4Yns9Qt9RGlZt7qWR5xPY3WzmaW2vHknj34P+jy5HBrJQpv3qnQ0lVlGPLT3ZB\\u002fwT48O+Av2pPjvr\\u002fiHX73Uta+GPgqJPENlodwIYpLrUWlgSG3uGCqqqiNIBHGS8nloqMx3GmfEzwxrn7SP\\u002fBWP4dWvw2svs2s6n4nsr\\u002fxJb6JP9lEen203mXkqod1umIo5AAAw3LtZmJG71r9iL9lbxRr3wc8cfsyeEv2gb3wnqnhzx1Z2k2g2FnBcXcdlPas4uXlbkLJO8y+b0jEUgHSqf7MH7Lnxx\\u002fZP+C+t\\u002ft1aS\\u002fhW\\u002fgsND1i1mj+2Sm6misZ5oPO824CicyCEBdjf6u4cLllFVOpToU3OKu3ovmZU1Uq1UpStbX7j1v8AZifVzqHx58JfEPXdYt7PSvDzWGl2MUcbtpmlTXkMlkLeRJS5to5kMXl7TsSUZLDcE4PVpdP8FXepeJ9V+JcS3F2sc2mx3FtJM6LGImcXEWS6qWYoDGu1fskPG1VZus8O\\u002ftgfBTWvgn8RfE3hzxBYHXfGHhGObSba3uNt9fKXsrvySFOJJIzLJE+QApiKLnNfF3iPxSkFpeS6j4pMcosTagNeM88kMchKqqfecIx2gHqjIBwteTHDqpUvU0PtcgyjF5hSq1KNJz1VmvNamn\\u002fw0Y\\u002fwi8L\\u002fABU8U\\u002fEi3lTXfNsdV06C4twk6G4idYZIEdQyxY8ho+ApjjUkZIr83vDMdrPrv2\\u002fW5t5NvgPMRh85JOT3BB4HFfRX7QP7S2n694X8Z+BvEmq\\u002fbHi8P+H9J0J5LILNNFpbvHDFxykAhmDyE8vLbx\\u002f3a+Zrib7RGbi1td+05EBYHA+9gE19pk+G9inP0PzfPXKFd4eeji3e\\u002fc0fs9vb62s9jAbuJhgKgOAT0yemK2NOufJ1ptN1G2jaQRj7MiuAh4ySoJAbBxwTz6HpVDwtqVrZtFM0cgSdszR5BaPPKYA68AV3vhuz0bxfqtn4d0praa\\u002fvLqOG2nlI8q2dnAMspP3dpI4wT6AnFe9U5XTlNvY+epuUaiSR+tHg3wL8Qf2XfgH4AaHQIfEfg5dCee31nRWWILFcN5wcQvg4YSyNjzdxVYtob7o9x03wXNresaV+0b8M\\u002fF2\\u002fSBpat4Z12JFBvLiSK8SO1jnkkEUYC3JBjB80S2kRYeYGhOdo3wHv9dJ+HHhdNf0zwDofh9LXTPDkLb4spG8bKyyYZkdC83m42qjwqDtVSdKz03xP8O\\u002f2cPCh0fxRd6pPrXxMd\\u002fD\\u002fAINupfs9sHt5Zbzay4LI4lt5vmXq9xGfuolfl1epTlXn3vufodOnUWGj2tscr+zV8IPgB4X+K3jrxl4t8G2WmalL4Z07xrYaNqks+\\u002fT9UjlurXV7wM6KElQyRhcF3+YnZHnjV8bfFXTfh\\u002f4a8UfDv4QXuh2viSS5S51VWv4GdtT\\u002fAHJ87yXmR7m3jkIDRxAvgbGCZ3JV+KXxE+IsXxe13UIPhVewtqV5eyXUdxO8Vxaao7SW00Ns0gCNEwuN8YJC+YFKZJUHI8efs+eBPh78SpPiJ4x0K\\u002fudTg8V+HZ9V8M3EG2fUdJjWK7vZ5LNBmPdLDaxBXCybnO7Cyk10wtOac3dHJN8kHFKx3Xx88fv+2JqPwF+M1r8N9P+Ht9oM9nrb69HepJ9i0CVxa39k8kRQQW0qEKpuEjA2MxTMYrvviP4F8NeDPhn4w1XU9KvZ7i4WUeHtN0vWDwGhEVpPMZtjeem1+FJVvLUZ5ZV8ii+Knge4\\u002faz+JrQfD2+03wDfX9xrXiLw5bao0UcUFlZyPJfzwOAkUlwS1z5S\\u002fMEhSPBkYpXpv7cH7Q3xRm8G2+qeB9RtvsWseF4tUs7LTlM\\u002fwDY8MQMixlUUkzSNHNbluIwEAYqGwKqx568XbREUXOlT5e5xX7LPxFu\\u002fG\\u002f7OF9F8adA1e5ibw5aTeNZdaaVLDTQGuVXzAUyskLR+dLAqlniuTIGk3BIvNvgt+zf8IvC3ijwT4BuPiHqupXXjuw0q4v01ixkV9a1TTLmSSG8to5MBDskcg7szW29gcoy19Wab8Uvhx+0F4A8eXWh3drqkupW\\u002fwDYWswrYCHyDbaYGeBEPyzBJL+STKg\\u002fNPtBbaBXgE\\u002f7IF9rX7N9r8AvjT8Vb8eBH1XT7jTrkwRzavDa6bBvllt5l+dJ5ITKXMfIijVBkSuAe1jdq9jSVKTgmlqaeg3XguC3074p\\u002fEBtM8V6ZeeDFuYdD0sRSXL2gRZXkHnMEhmVraWUmQGMktGshOUJqGha\\u002fwCCdT1nx3P4w0zxAn2JtP8AEFoL2JWOqIqqoIdwwHkyoqsFGF2Kokbk5fwc0TxNcX13a3qaQtl4g8RvD4C8W2nhx4brxBZ2iwM1vqUbDMEBtmlmlRgrzDeVVsoKyPE9zp\\u002fiHWL7wz8TfDyabqHi\\u002fTjeWWtW8yyxLb\\u002fZ1eGdHjyYfNhhkO4nCkR5JJFYuGtr6HRCSa2Os+A3xB1\\u002fxB4ys\\u002fFV58NdWudKjudQN9c6ezzC13Ga4t7l0gyqxO10IfIdgES3hw2MmvNdU+HWtv491fx5oXj2wu9TluJ7r7PeXnm2tzHbzPcLAiSW4j+R5Y3eVjuuXcJAWEWT273ngfxZNqkXg7WtQ1J47LUdG026Mklqt45nWa4WdMBbhYozhSmU8y6fn51rkrT4Y\\u002fEzW\\u002fjJo1t4hv7u60kWOuS6FFLK6wRGwt1mlnDxfKruZbuKPHIc+W3OK0p04SnchytC8ti0dY1T4p\\u002fENvH03h\\u002fW9Gk1V7K5utQXRDew+DklSaEMIIWUXIQW4Uzb4iwuY5GDG32nrfHXxEH9rWeseGNLuGuvCbraXutW2tm7QFWm+0tdRz+W8xUz5RS0gjaGEsgG5hW8F2usfEfV5k8cfDrW9IvNL0S2SOPXtYjt720gb5\\u002fKkikYLK0ZZN0fMjM00ajNO1fQNNg1q4tdKNi9jDNcQDX9R02Rra3upoUeS\\u002fUbQ5mR1KGDBym73p1FGMuVImkpTV2WPD3iHQ5vi\\u002fe\\u002fGD9pXw7c2xsdahufDP2xktk02+vpXjRF2KI2G2OGM7W3RIY3fIkJHZav8UfhV468deJtKt\\u002fAmpnRpreyt9Dg0lI7RrSGe2lMkc6vuBd5N0AVIw26Mjd84dcT4u6H8Jvsx8IzeNDJceLNZ36VrEEKGTQLiNWS1dFXO4SyIWLEb9wIxhGI534deO\\u002fFHwa8KWviv4+6VJpdtdWtraPHdaG8lwbi3uJpJ73zYgRIn2cLLbS52ImxMghwbpybjcwqU1z3v8ifWvgv4cl+NcuuJrkMt9p2my3GneHbXT4orrSrhYZUErRPcSKxaLeP3jgfu5g6tkFeo+EPxysfiTq3iLWPh5eibU9H0220fwtaXSpDb2DKFmnhhb5mdm\\u002fdxnCCPeuMoqgnm59e+JOveG9Rd\\u002fENvoLz+LbldIe623FrDoGoiJrD7UygtIIZdloUU5DB2UHaRW54a8Lt8KfiJ458Carpn2PUND065XUNXWaNLY2imyjFqgzgAiaeZyxzva3IOQwGzlOcOdmcFBTtFWOm+E\\u002fx91VfF9\\u002fo\\u002fj\\u002fS9T+1w30EEFrvQXdgTON013tLrGqrIhO0yL5QkwR0rI0fwJ8M9C8Z6j+0L4I8KabpviHxGIxftf3DPPII98sE6kjEakliwAzkD5flyO18DSaD4Zg1bV9UvotJ8T+IreyvbfV2kjvLa+kTeyCJwzLIruQGIOTuyODWN8ZPC1x4D+Cz6pqnimz1RvDelpquqWl3CiSSSSFpI3DHmNBIdoiPARQOoFY8qqS5YOzZop8msuhetdJ8UxaTp+laL451TSWtLcpf2qWjI5uDtaTLOq7yjs8LNgZeFuOMAryb4FaX8cf2sNTtfFejfEWXwf4b\\u002fwCEbSTTDqdo0j37tIC0sYHIjwwxnqScUVp9XjHS5oq05K589fDr4EfEnVvizrPxUm1zUdOEmoS+I9Kv108T2FpeiHZiNT1ffjb3yzBshCD1HxG8VSatqnxC1208TRL4Z1S7ttc0vVtIgknkuIoYk+0xyBiNyZAXHIA4GQQBoxeIfir4b0nRr\\u002fxRoUw8PePNM1U2Gr\\u002faSIxd3FtJcW13FEWTEqgysYj+7Z5VByRWF4s0zxF46Fx4f8T6rLpWkeJZvI06z0+Mu0DwZdUKjY7ROpEY\\u002fwCWbTQsMEZNbQnzzvJ35TmcZxhaBifsh+L73w9rWlaXr\\u002fxX0y5+Hmo3k+p6NqdqzQzaSsbuosy6kHHzNtSQnJwwGQCNj\\u002fgpB4N+LbfBq\\u002f8AiF8I74eBdFfUZDd3mqauscOrWx83zrOMqB5EbMq\\u002fuOUc4l6saytGt\\u002fD\\u002fAMDNb1nwMV0CDw\\u002frF3Dqd7qepQGVUSAPZxWSxMgMcshEMry4HyncoYqS\\u002fcft2aXrXxF\\u002fYmn+HF\\u002fZNfad4Rd7iWbTL0zzs0LhJrRwbcFUZFd4pDkEQzBjwN+ausZGUo6M00eEkovU+MfhN+1Z8HvD+lX\\u002fAIeh0Kz1DxF8RvCN5bahdeJ2eC48KCLBaG3dt0cr3DQrNHIFD42DcMuD23iHWfGnjnRfAmvfFXUzq9x4Xnt7C88UXNoWTxLdxeZcR2O9sySyIkZG8Eb0Lr1yK4T9oX4Q\\u002fDLxP+yhpniTw14Te012xsrKDRb2K5S5aWdNka2RkjZkZgWY5UcNGCc5IGX8HPiPP8WNE8O+CfiN4gv5INA1hI9fvopnR1icolrC29yYGdhLb\\u002faI1cRpcySsrCN8+rVpRcXOC06nnU5NNKT1PrHwh4r8AWusC58e2OoWmqy6heSWNtpVnbQSPdJJsMce1Nskiq8cYGBgsucgCuz17QvBVv4B0k+Ite1HTZLOaxl1eztYVikjt5IpIjbvFlhMA8fMIwqy\\u002fOFABB808JeMNZ8W+APC3wq1ePRtNfUH0zUfEeoT2EE+p3oeKMJcWzJGjwiZY\\u002fM\\u002f1iuBtZmjCsV63Xb271j49+MLHU9EmtLXwtqsdtbXNjaPN\\u002fassTxqiQEuudssgd51GZsvIrK2SfCnTcZPm\\u002fpHswqJxSS+ZwXjrxDZ\\u002fGD9se78R+IfEOk6D4u+HXgcXXhdLK5kk\\u002fty+McSec8mAxJtZJGWLIdFtETJTK15hov7U\\u002fxy+CFl4ni+A\\u002fwztrmDxPq2n2fjbXLi2uUubCa1kCW9zPGsgjdZVurxBCVZWEeHDHJP0HdaJ8PodJ\\u002f4RS68M3MuoeLPh1Bqdl4g0hi17c6pNf6wlozu0keXUkwPJAFkZUZyh+dI\\u002fN\\u002fEFn8QL2PVtCtvA97u1HVmurOw1C1WKS0vYI7fzUjupgiXcE0Ut5Km0Exi0wSxaQn0qM6Uo8slc4K8JpuUHdo9J+EPxQ\\u002fZp0CPxd4I8I+MPEGl+NrrSNSj+Jmu33iRxqviSAadcyadbW6JttxbScIFZSY2cDIk+epvg\\u002f4jHxO+AXjz4MaH8TL3w18NbfRNN0HxN4KXXHvdUn1y4VDdzxi6MhhtLmXz7nzYyrOhJO0kZ4n9mf8AYq+Kvxctb749eN7HR38JfE74v6L4a8VaJfh4Zo9KtdR8i8W3YPiHzN7AyK+BGoaMlnUp6N\\u002fwWP8Ahl4B\\u002fZz17wdH+z9aaT4I07XtWttJt77RrUPcWTxzwx\\u002faJd3zzooEOBLvDCJosKOGzdKg6iipX6\\u002fd0LjUqSp3tZngH\\u002fBNm68b+OtU8XeHvC3w7srWfwt4DvfFPhiXTYw9rbrDc3fmtcwzb4o1ZXliWNFQZjjG05YmlqOk+N\\u002fihZ3PiXWb+AXdy0iW0djZxRRGRsxr5cKIqBdoVQiKoxnOSQa+rP8Agnd8PW+Fdj4z\\u002fZv8S\\u002fC3\\u002fhHtS+Mngya60rxLa6gI77UBGGjktY8RGPyXlDKJAwEqx7xGFkBHz94q8KfEL4K+MLzwLqrtZX\\u002fh26+z3HmWQk82TaX+TyvMyIkO\\u002fO7ox+X93iuKvUp1Krj3af3H6bwHnVXKoTU6jiraJPdvv5dj88v2rvBFl4a8Y+da3Ek6a1bx3r3FyArwyK88ckPAGOUJ+oI\\u002fhryzTvKNuEj6E7wxORg9P619L\\u002f8ABUbwNbeCPiR4TmjW8Meq+FBeRT3oj3SCS8uDv2xnam7g7QOm05wQB80WlyqwxWl1MI13KzTMhIVAxycDrx2r7LLJe1wkGj8m4pnz55Wne95PXe\\u002fmdDpEFxJD9kiXcplQSoTu3oWGcD+tdd8PPg14x+MPxO8P\\u002fDHwbaB9Y1O\\u002fisrG3nlMau0hAVmYfcRfmZn\\u002fAIFVm5KgVzFpaDTJnSS8HnLdsXJDByRtbJP8PJVfp69D6x+zj4u+JWgfH\\u002fwp8SfhW1p\\u002fwkWn6iDpDTtGsO8xuqDnAbdHI5+Ygc\\u002fw8V3V4qFBt9D5\\u002fDOVSqo9z9ov2HfH\\u002fwATNW\\u002fZ5\\u002f4U14v1iWw8VeBvD2naMzQWqXDaTPEqRNaOFVcylQ7EsGZgu4t8uT2Gu+E9X8GWSfELTb+4t9X1TUHN5ZvqrTfaXubaO2guZXPy2sxCIS6FWKttLjyI9nk37P8A428ZjxT4Xj1vSH0rW\\u002fGGNT8XeKoS0kGp6u8ZhuVCrCfsqQLa2qEOQyoiJIkkgaZvV\\u002fir4i8b\\u002fD\\u002fVLTwbqOn2Q8PyWkdnDo5ia7Wa22XLh1uJFzKVBBKsqqpZlYuWQn8nrOX1yXL1Z+lU1GOEUZPojT8A6d4v8R+ArmxuvidqOrXOqXx07R9b8PX8j3jxSyqJGMwZZpJBGB8rNkLDuJ4DVz\\u002fxH8B+Nfi98YPiD4r8W\\u002f8ACO\\u002f8JDrd5YPpdpcTCOxU2MnlFwx+dka3Ty5GB3gtsBAJ3M+EnxL8LeD\\u002fABCNK0bxnbXfxTtNdtLDUND06zVLU2mo3Aggvp4w0QkVItQl3Rx\\u002fvfOijXKRKxqT9qfXL74S+MZ\\u002fhtp2iaXN4hsbdNauddvYmubTSYVMcoN3FE3myxzsl0xhESgI2Vk+Q566VLEQe5w162HqSSavbQ5Sy0LWP2hPCXxE1DWPgX4N8O+FPG3h3UYPD3iDTbKCKC6t9Pe6tf7CmAUJI8Qt1khaQMpYkqFUqo6L4P8AwV8N6X+0x4i8e61ZQwaX4kMVt4h8OXN81zFHEumWPlvcRS7lmdGgkZJBuVFcp1B3dF4c8A\\u002fDtfBPgmPxpPqugGeyvPFOseE9PZrqDTNOvpTJJBPDNEUuPKkkggyURtxUhFVsCv4X+OyfD62+CPgv4wS2mmWnxI8BtFoGvREeXPbMtqbSyMkpBmaW3+zzyx+dCFkSdR5odMbpzknGL36\\u002fI55KFOS5vuKHwvu9A+H\\u002fAI2bxd8FPG\\u002fh\\u002fwASeA9a1H7doVvHKrpbT2q2lm1pZHH7mKSM29rHG3yQeS4UHzfl0dIn8Qr4JvdSHh2\\u002f12T9\\u002fKl1CwiF5cRzPII1\\u002fijyzxRvEdo3W0GApwB5v+zX8A9Q+DXwM8T3vgXwnEnim08S6xqEkGuWaizgu1u5pYbGSMzGNLdXjiKFN7NLMWI3MAnf\\u002fHPxP4y8D+MtIvPD2rz2xisli8U2z2iT3ds2pT2moF5mUSBbmL7DKPNZJgVuYyVG9EaJW+Fa26nWm5SjdWKXxHs\\u002fiRq+kLqGrJqAuLm8lH\\u002fCHziSONZ4Ngje1hLlhJI8sCRxOcRyQqww4Llll441ifwxYeMdek8OQaBZ2trB4Ut7KFZLqZWcRJFchQDtVbdXd1PzfPu3LhR7R451DTPG4k8XaPLYQ3Si6mubkaj5TiSSSFIZAuSrj5FXDNlj8vybmY\\u002fHp+FuieIvALfGTRvF10g1TUJYdP0d9RwILa0ikEsCv5Q\\u002fdrsuAU8kSBtxbAkIBSanuU0oX7j\\u002fAAvpPiLxqlnoGnx6je+JJtZuPEXjXUNTVJLhswxi3t3uEC8lltkkwwGNhfdlQPX\\u002fAIJeFtQs\\u002fGFxqWoJ4i1Bb7wlcz3NrdXaXsNpeQ4WWK0Y55MFjaZTkbPLI24IPIab4Yt\\u002fhD8YvEfiWSxvrjRZdP8Asml\\u002fDpdZnAhuJY4bu4l\\u002feMHkjEjxwt5jEkw9QVeOtf4J+IvG\\u002fiCYfEjwpJYx+HL7QLyK88Pou2W2MZ+z3bGUDG1f3m9Ny75dqkRhjM+rSctNjBO0fM4LRrXwd8VdP8QfEXTbD7PqGt6VZr4e1WTT4pWgtrVHCyOCvzC4l\\u002ffFOjGAIeGNdVceIvibomtafa6Hp2r3Oq62UTxLqvgx2swksxiuIChVlVHgAZF3LlI85yCQejj0rX7DwFo2pDQpLE+HVEuj6RJaQwtO1tbKiGWUSyoftC3hZFDME+zqoDdad8U5dC8W+Ctc1E+Frq5u9S8QlJl0mGW3WBpYnhFw0ofDxsx8ozEhkDEoFYKpptctyLO\\u002fKaXiv9n7TE0vTrafXL7U9O\\u002ftezuG1qWA3cGhKs2+YjBysc0kjKudzKJSqsm59zdW1\\u002fw\\u002f8TfB\\u002fhnW9X8I749VtZtWfV9aH20QXI+0WyB5JCXWQwbGaMko6O6HcOlvQr8ap4lbwH4f1PUfD0OmXdxd3FzpVyfssJkmM\\u002f8AZ0qHCvKICg8xQAEKJhAylZNZ0m+8b+EYfDWiyy6Zb6jbvdLYQKkbQxvKjzqHdc4ZQTFGVCBd+T+9FZwUU7sJc1rFXWbqHRdH0vQ\\u002fibo1ummu2sX1t5AWS3DrewGzRU2bkQRwG5iJZsC5YKAqYLNC+HMHxI+JmqfC3x1qt1Z6Lr93dxiNVdrvxAYEXZucYWJCkas6gBijqnA3K2d+078atU0v4Y6t4V1HwrFN4x8FeNbmTWheIXiu7hzb3drEkludgiWFlSM5do0tdjorhgNUftJ6t4vvdI8TS+DbnRo9Ss71\\u002fE0JQSbpkS7jilhnVElE0j+UpUhQ8LyHAZV3dNpxTlF6GHNG6i9zkdY8TX2o\\u002fE+LwXZeJYtPs7mPUr+01fQJUurO20K3nWF1jWaPyzcZllG1QF2xNtHyrXsOor4d+Ivhq80LxdoM+q6Pqlla7bK7tBJJJbbfMc7WwPu7ioxnBx3rktb0+08QeHNJ8XadZ2nhTQdE0++spdIEXmf2DZoWlkSItxLcmWRZ1lwMrGu3Lc1mfsNfGT44fEPwHfeKvi74cjS8tbmWx+13C7FubWCQhZsryrGPylJHA25Wsa9NKn7SL2NqM05OD6nf6zJ42+Hmi2GkxQQ2VnZxJBafZbooDGY02gBe2Uc4\\u002fhyF\\u002fhorofiRrNt4K+KFsjeHp7rw7Nobvf6pbAsE1Vpwxj25wd6+bJnbxjg4YAlTT53BM256cdD42svF0vxc1TT\\u002fAIDfFDXILU+BXt4vD03h4yw25iMwntoLh50wHBaT5jtEhEcaktIteYfD1vi\\u002f4G+Klq\\u002fjXwedEfVI5j4TfWrz7Lb3dykc0cMMIlBVBLcsOhYI7gdc16h4U+2av4jfwh8QdI01fC2q2M8Oq6VplzvjgtbSwnlE0n8RlBUP5w4aQqD1rN+Ifw6+JX7WfxDkt\\u002fi5dzxaDd\\u002fEu2tvC1vEpt7jUUG6VHgzxDbTlI3d+mRlecV33SfvbHByyuuXudb8YPgToHjP9m74h\\u002fFS48G6fdeLpLs2NzDYXqeXHbRxojSqAzbLiOSR2JcKo3beAua4zxV4n1\\u002f4gfs7aZH8DdO1TWbdvBa+Hdf0e8he1vr2KWSOJLqCV1EaTNDFcvIzM3nGFmjTaHauv0H9nn4barqaW\\u002fxK8dvpOvX3iC7u4LXTfEZUXOsrIVuBuhIIzIDwnGQWHGan\\u002faW8f6bFa+OPhx4W8AXviK78B+JNE1LwrLZXrm8lk3QwXAaSJv8ARzKLZpVU\\u002fIrhB1LVhTrSc1Fx26mtWEIptPfofK3xufwl8BLHwX8J\\u002fh74Mtr9tP1WW68UqkbCHTL6WOK1ti\\u002fJePbIrEZXcGB4O5BXkPxp+Dfh\\u002fTvG\\u002fgzxn4Mt7+8sNMh0dvFy6ZGsE8OyaV5IgN2JppY92wjLbY2wrfOB3f7Qnhr4sfFX9tLWvD+rR6dZ2\\u002fieG51n7VaWEVrGjRWk0cReUjym2+WyyEnhv3v3gtZ\\u002f7TfxDv8Awt4p8HaQllY6XqOm3l1o+rm0CqsqxMyRzed0S4jwfLJ43pGy\\u002feavcg5KyhvY8mVpK8lZXSH6XY3Fxdwa9qMUEN7oem2Sana6VehrGVPsiytFBcqWeN4\\u002fMMJG0+U24EsISD9K\\u002fBPSvGPifxNH4jTxPd3vh3T7K3vLSS+06RZkhYqWELcLOUWdQxUg4iKlcbXk8t0Dwr4g0cSeE4NNuJrSLUUt5b6O1MdzqUtwQXLxDnzVKQTmQ8tvQHkJXW+Ifh0vi\\u002fU9M8O+VJPovh4WuqX8s0rKDeFwogRhzNHHbNaFpuoMsoPMQrxsU5VEn1Pbw1NRv2PZPgDN4Q8OfG3xpJqugpaaVqHhG00bRdW1mVlt9IazUxFZjIgSGSaSR3RgQRvcOFLnHmPhzwjB4zt\\u002fDPwGk8bHX7vwprKX+hTNMRDZ6jcXV\\u002fPdRucmQrHFOSsZX52kVGwkZY9d4O19vGqax4R8VeJBqVvaiKTRNKeVma+ivYIpoYWQcyIIZTJM787UXdyxpdGk8F+EfiBY\\u002fEn453stzoV7DqN3o95rFkIV06N7q0hdpXHyKrMhDSPyGawC\\u002fKzVywr1Iz5dzd4eMI88dzi\\u002f2oPEniiT9mjxT8HPhb8SY\\u002f8AhH\\u002fCwXUdG8L6XvS5m+zzEywJkeZMrCWNmKgZ8hm3KfkrtPGvwxk\\u002fbO8KfDbT\\u002fiz8Stc1q+W10vUnv9b1G3aezuJra3nbY0S5lVpS0S5UFWkjBzljVTxT8IrnQPD8ms\\u002fD7Tb9b6aO6ktLqFre6nEcdmW89lj\\u002fAHzIjGB0VuZVhK9EFY1p8Q\\u002fEzeD5rr4meFILEeC\\u002fJ07S9TS3EMepWdraqyPHJ08yZYPNER4Z4mC8Uq804c1P3bPY0wlOPM41eqPZ\\u002fCHx+1zxB+1X4R+EFzoGn6F4\\u002fwDCthHomiw26vIkBsLWTbeC22YazlU4IZ0WFtqu6EJ5njPxv+G\\u002fiXxdqvjSNprrUdX0f4h3dtq99o+ky2xu7hryba9v8zptKGCR9zrtEzpjABK+APDXiPxh\\u002fwAFW\\u002fgn8Q\\u002fCmm30J0HWJ7XxS+uw+RczI0EjII0fm4wgKbxwfLNe2\\u002fEzwt4y8W3njDwx46n0\\u002fQtYi1i\\u002fl1LV76S6j0DVo2uVniSORvvyTLIJNg4VrJs85rzq+IdGUWndtfqdNClH28oxWiW5+ZX\\u002fAAXIuJr24+FOqa54Z\\u002fsrVbHwxc6Xq8EcJVLm5hu5ZJLqP+EpL54IC5UMr7TgivgyBJtRuIorSxKG4OP3xAAzxuJPAHOCT6192\\u002f8ABbOHXoPF\\u002fh6fxpqkF7eX3iPWLoPFcQSpJbBbOGKcLDxFvaKUYHyv5IkHLNXxWdZhaOK0tmV5VbIuieAxBUH\\u002fAGcBjzX3+ROTwEGfFZyrYyWt9i5ZWFnZXkUVxeKqzMIp1d8iMZy28kEE7SeV6DB7V7N+yToPhHUviwreLPHkHhkWOnzjSNS1bR7mXTJrth5CR3HloWgjZJZMTH5I3CM3BNeKW2kupl0uWUSs0rKZI+TI4wRg98Y\\u002fHbjvX2H\\u002fAMEnfAmifG\\u002f9pS0Pxn8If2jodvANOll3BLaK6djNAGB\\u002fvfZ5cj0BX+KvRxzksLLXXoefg0vbps+xvgNpw\\u002fZf+Ll94F8ca7bi\\u002fsdSh0zUNX\\u002ftaS1ttMghjNnPeOswIkmuYLWK4OBhxeOQS7FV9b8Y\\u002fErw\\u002fb+A7f4YeK1fU7jWNmq\\u002fD7UtLgmuFtIrMzPCizEhfJYSTEpIQ7o5cCTPy4fwo+H8Hxl\\u002faE8XftWy+LJry21u\\u002fwBRs\\u002fDWrzCJZWaWGHT0lSBf3SoY\\u002fMWN\\u002fwCMWxk607Rf2c\\u002fAXwr1f4cJomv6prmnWNra+KLOcApZ6qhuJ5oFO791BieE+Yp++AZD80lfnkqVJ1nJy94+5dfmoJRjYseAfhJ4R+Gfx31v47ftEWEN7ovjXxbrviCLWdO1Zox4ct7K1aGK3nVkUeYZ1hIJcCNkJbbxXpn7R11rifF268a\\u002fDTwQ3xV1t9Y0PSPGem6Z5iarY6JZMGWaQOqhZ55DI0e7AZWxyCu6n+1o+lfESbX\\u002fAPhDfFD63Y\\u002fFDT202\\u002f8AhxpdomzQdagt1ma9OQWjgxFJLOOsjeSh5esr4c\\u002fFj\\u002fhWPin4han4S8Sa5qOoeI\\u002fhxpdrreu3FtLp02m6pDJLaoqSptkSNlWRRNkNG0RCcqK0jNVr1G9tDgnTnT0t5ljwxB8cvi78YD8PtZ0k6Q3hDxZpvhe1gtb+BZI5ILPTzevJiVpZWBEvkoyrCYT5okYhc+a+LIdE8c\\u002fBvx7+z34l0CSC\\u002fwD2efG8Nt4H0q7hYQWet3XnR28lk8hG63dzIsMUoQRx7DkbTjQ8N\\u002fEHxl4G\\u002fbk8SfEPwOZr7SNTvdF8XaNHd3ySay4a1a0uLm4hmObhYQLi2lnfIh2Kc5Vaf4Z8UeMPjXL498R6r8PAnijxHbtrXijX4teVVGpoi21hItvL91bKG5ltNsvyfMrx8KtdcfZ0oudrXImq1VpIu\\u002fDew0iz1OS2+H3jXxZpUHiOxs9B8a+IfE84tdNtbqSeLSrRLUyHiRp7O6k8yVU3sRj5ga9c0HVfDng7xDB4Q1\\u002fw\\u002fqlpJPpl9Y393DeRNdTapYX0KWkk+1nWV3XzQ6xM8cMMO5pTkhPLvEfxWt9Q\\u002fYM8dfCLTvB7R2nh7xLoer+H\\u002fDtgSi3F\\u002fwDa5HFvH5fzWyWs+lS3spHDNI+\\u002f5WNYnx81j4jfE74e6P8AFvwrcz6rbyX+n3bLp0Ae1S1uR5t9M10P3MctxsVAE\\u002f5aWyIelYVoxqJKPU3oSmm+bodloPxR0TW\\u002fHd9qGnabd23w31W6jtPFPi++nkt7fw\\u002f9udYXVbgr5ZT7VKqxOo3CSXc21Yi1dZoHwp8FanoVz4c8IeDL3UrAWOpadrWoxFFghVIoSbqAyOvkKqfP5QZpJGEgDOmxn5yDwnrVx4G0u21XWktotE1Wy1a4ur64ZLPVliuI72SW5U8XBjliuJMycp+8I5jNV\\u002fBniDSdS0rQPiqNYufCPhseJbjUpdLQyC1kM842Yil+VUkb5YieJI2AHzO1c9rO3Y6mpcrfcydI8QaHqfiF9B8Jo8c+j2Nxci2uvtUf\\u002fEqlk+3QRRCWESzeVLMYSyhv3kTgZBJHV+JGm0XT9M8KeCrW2s9P1TTBb3N5Neqlu17g3kk1x0ZIpwyMjRq5ZpVyMritX4RXc\\u002fxM8Ba1rt0LLSL2wkEem3OmSgi9hkmNy1srH5ZYIlniiij\\u002fANWkchU\\u002fNGar\\u002fFFdZ1yyk0XUP7Thn0m5h1fS7J4jcXNzAWWG1hkP3yA5aQgcxmFm6saIztKwcrlFNmz4z8eeLNd0R\\u002fDviK+uNUOuWs0kQs9PDW9sbby7cqJE+SIDcJVMjK0gjfAPytXZ674YvE8LXmh\\u002fDrRXkkaz2WZlhVba6tk+VlZSzAoWQssmceanA4auCv8AQ4bjx14a8Kajq93Jf6mj3WoXEVwkiWky74vKMvXYGjnhXbw7umeAK9gtbMeEdVXTVkh8nw\\u002fKLa\\u002ftbdQ8dnaSRM5XDdHVwn7teCGIPJFZ1JWkaxjHoeT3XizwXpnhTV\\u002fijJZXC\\u002faNUcatKbhfL01Y5BFN57kqvmRRmP8AeLuVkjjZSw5PQa3rWlaZCLnw34ZtZIbGH7LFCk7OsFi0zw7V2hg6lY38pyceWoJPG4+X\\u002fFL4TeKNZ8Uap8Kfh\\u002fdamkWva889+LqQz6ffLb29vIY0gPCB4ZioP96OP+7XvvgLwnpen+G4fBsniHTUjtdMupItOtoAixGUrIoLfdUK0rjj5lMQA6VpWUVCPLuYU5ycmpbHNa7ZeE9Zjjs\\u002fGOif2jBeyPp0ck8JWS7Aa6LIUk2vJxGJPMIJKuw3EEVzXi\\u002fQNR8IeIri78AR2l3pWtPJB9i1S5iPzNaXSt5Uau0n8aoH28GFj1UV6vd69pXjnTbia2XTraLSZkMF1CjN5kESA5P8DFWVio6cqo5BriPEth8OvCWqWtlpaQSXOl2FvNph1HTZGuIi6ebiQL8yIzSoc9UjJxxmsYVJuXL0NnCPLd7nmfxJvvF9voE8Vi1\\u002fctqayprSRKLiK5u0tVR2WMFcAghzyCUY\\u002fLhgR758HNK8Qab+z9o\\u002fi74gaBZ2PizWhOLzRVlV47WST90kbBflVTJKGIY5RGI\\u002fgr5w0P4oeJPgr8bLnxz4m8FLqc83hWQ6\\u002fAsAkka7a2cpIg7t8k6hRy3zKelewfFL9ozwV8PPgQnjnxhpeqsreLmtY9DS2JuNTZ7hVVEA4MiSBgwX7xQ5rt5XKMY2OGTjCrzXOz1nxLqFhYyXul+FJNcur67D6lpyzrAY3RNqzAOQFUqdoUdKK4rw7+0bZ+I\\u002fiYPBHhLwrFdrB4WgvNRuIJFdYbreI3hJP\\u002fLQDbvU8ggf3qKTpSi7WK\\u002fdy1ueJeOPD3hTwp8AR4l8D+DJtQt\\u002fDnh2K6dE1Lzr8XhlWSHc7q5LgxIOB8kUzqSRId2XbfF3QvjtpX\\u002fC5tIu9Y0a41QWWpaFGS0ctmyrDHc3DQfcYxzeYFCqqFQThME0eNPCPjn4D\\u002fArw1q9\\u002favf+IPGd5Y20l3oE4jdY5PsskaIsjhDJvjCBWZUkdgCVG4HzD4F6zcN8RLB\\u002fD+myy\\u002fbdH1G6ncvchxpq6S0TxorQuYwLssrIyAyLIrLtKkN2KnHVxepzqrNO1jY+K\\u002fjjwz4x8JeNNa1LQNI03xH4U1d7W2eayAiRtNaBrubftdRKySQ7FOSdjqNrNk+XftGT\\u002fFrw7p2rfHf4Q6rLreoeLfi619fJBp8VrejS4IvMijB3KZIWyzhScKEjQHg12C69oy\\u002fAuSP42ePbW30Xx1q9xqOn39pYl47BrRx56XlyfKjM0jwwRiEBZN4cYx8wgt\\u002fGCfFLx1pPxs8PJr+iz6m2m6ZZaG2hm90sRuWukWa7kEUUCxlyrKFlKEMpkcsFXopuMad0tjKUXKfL0Z7F4x1jWF\\u002fZX8QaR438c+VreutJf8AhmDT9dMl5cQpA0ywrKVMltI0aIH3OVTzm5CxoR8y\\u002fH34Y+GteuR4\\u002fwDEWrR+GvFF7q8Md9dzRuLOzi3xwpDJZF\\u002fK3W0Ald2AZlNrFtJDNXulx\\u002fwiGsftFaDbfDnUrXVdCS2vbVx4fe3uIYNSKRyLb+fIx8xdsE0QiKbZgTCQiMxj4D9q\\u002fwAR2\\u002fja\\u002furPx\\u002f8ADOOz0e51zS9S1K01BJXv7nT40MTsGjjEWLmISPII33IPn+bk0sIn7Xt1KxEo+z09DnPgvqQgT4YePtcuptIstT0SSOLTMXAvrjUbS9SSSeVyxJVmUsQ4CgxtgbtpHuds\\u002fjDwncaV4D8P+J7KK\\u002fF5dwWGo6feQQxyvLERbzGa1jjQfLKZikaIiApCd6ElfGvhb401uw+H8Om6VEIta8TaFLP4fu5dQRzYvDJHBG9tDcRgmWSLfLKJWCATCVFlJSGup0vR7vw\\u002f8MdC+IlpobaZp1lHqyaWJrqB5pYbcG1kKRht7QmWBlWURb5IYX2iJipPNi4Kc3ZHXg5KMUmza8PfFjXvgj4dtvi+vhC00jUZprdNFsLGbbFbpLePa2O8A4gguYL2dmwv7ySO5klTzCstQeIdATUtINt4n1yMaroOlW50bRf7NafTltJtTjnu1uIJWxcypbRbgjMYFNsUKBQ4lv6r418X+K9U0zwP418KeGtMm8S+FrZpZNQ1AWFrpt7b\\u002fuAWeSKVnYE2si4IZUnYMsmwseQ8I3uqfEDRr3Q\\u002fG91Hpdy09xbQ2+ob3MEeDAqxToY1a0kS8Z5JXVUwUbd+5kSXjilz7HZpONkeu\\u002fAbSYG8e+L3+K+lXviXVzomhjR73TpI9NtrlPtEv9nQO8aFlEkk5R0Ma7UdvMVgpLdb8PBpHxM8OaT4Z1f4b33iTQdV+GFxY6pf6mkUdpb+IQHhM0SrIw8uMPMI3cK67sqUPy1xHwI8ZLY+KNTsdD0wLZRGWW61PVbC5XzpIYpGk2tKFZ2eBi8RJAJzl9rqp9P8XaRZ+Avh3N4+tSLTRNahvdYuZdIQ2xe8aLzg0CSYWVZIYGKRuEDO6puy6NXHiK0nVSKpULJXZo\\u002fCH4R6b8Pj4a+K3hHxSNeaC406F73Vm+13E8V5Ku3UfMCREyvAIg27nO4kDDqW\\u002fGnWdHsvid4s8Ha94D0rXfD1xqF4+qWS6XbXim5N3cpbkW5jChwiRK7t90xFgxdpJH2DDqHhSDSf+EQ8T6fZR2uuwWpsbW2Nwmm297KFgnSKN5y+zekqiRgq7w3mAHB43V\\u002f+Ex+JHxS8aXxsLaey1Px5qUN5rGjyvCLrT7WZpLW3lkWNuWDMjfZxI23AJDRyV5OJSVTnb1SPRoRarcsdrH5h\\u002fwDBaPwV4J8HeHvANhatewa9banqtreeH5YVhg0axS202S2iiCkrIrNPNhxtI8sxkNsDn4XsXgMYgCgoF5KLgj8a\\u002fRb\\u002fAIODNB8W+HNZ8EaN40t7FL6CW7ne607cy3tvLb2kccjOUQMwe2nQgKu3auUBYk\\u002fnLo6gPHbscRAEq0frnp+PT8a\\u002fSuH5+0y2DufB55HlzKSN\\u002fwALCXSmYQSW5kTa728gLRybXV1wARzlRX6W\\u002fwDBIb9lvT\\u002fEGizfGL4oLLpGjX+qqdBkluEhF4ihvNnMxy21ZY0TC8+YGHTNfmpp8TzgsVSMnJ37SUCDqFx3A\\u002fXFfqj\\u002fAME1fH0fgr4S6Donj2KGXS7DRH1Oz0m2f+0Le+upIRLamBQVmiaTY6zWsIn\\u002fAH0GV2fODtnbrfVOWm9Wc+UumsRepstj6t1L4SeG\\u002fA9n4p8LT6jpmnxNoNrq2sad4aXYdN0yOIRzweRGIluIbgrGTgl4Y4WIYNMxHaw\\u002fE3wb8C\\u002fhHJ8Hvglp+peIpTothZ+FnMMyvDaGO0GFxuLEyXaukSBNu2dg2Iy1eX+AvH\\u002fjbRtN8R\\u002fHz4i+BbPRda1TwGtjbeFLy0lvnjS6V4JbVzG48koIopBI2W\\u002ff48sBAzdtbar4l8CeDPCHxmtda8RaZ\\u002fakllbaJa2llDNPpVusAt\\u002fsyllBWQSzzobmQMqMjfLsy6fDOMVJK+x9d7yTut+p5i\\u002fhD4x\\u002fAz4beLf7C1zxBd3fg\\u002fxhp1hpWlQ30E+oz207OgsYjNG0q3EEn9nTxSNIxKQi3O0mWV+u8E+LPhDoXxy8K6343+GUuravqmj+KYvjBpM0DyDUvssUb2d\\u002fFYuwht7ouJGXy1OxDLtcZ21W+I3wNs4PEmi6V4u+Os+i2OrNJqes38Uk7yrJaILo3hlEQf7d5kc7pzgfu8LKsi4pf8IiPiP4Vu\\u002fiJ8W9f1yz+Ilne20ktrDp4ivLfTdOicwI7oTFIk728ck3lZDgzxBpSd69VOtTjG6Oerh5Tio3uVvB+kt8ONcGja949sYLDU59Rt\\u002fBeq3txIkt9pp1LZFpUl+I2lZ43jXKgqvlXAARxEFENh8ULT4V+Ib\\u002fAEnxVpK23hvVBa6JqV2jXEyz2kU8tjNdh5JTcTR3Cbnl2SKWng80u2Wabe8P65ofhvx5qXw10rxXAfBUt\\u002fqPibwxqd4TdQ+DtStwkjbJ54gbmxuS8iRtt83ai7Ubckr8z8ENfe\\u002f8P6A\\u002fxa8OiPT7LxFc+DbTVNRXfapd2VtA\\u002fmO7bpEj\\u002fcJcuVDLGZ7hFGEG23L2kGio3puLZgav4r8Rfsr6jd\\u002fC3xHp9hqGm6vHYWkB1PS5XktdlzewJZ53Phzbv9oWdcCSZZnkBBTZ7Ndt8QvDnjXWv2ffD+r+E7Wy1\\u002fw\\u002fD4X8R6fFZqINI01FuhYy7yUe7lnikiUS+ZGoM0isgKoTi\\u002fEPwRaajpfhI6hcXHii98IeLra2010sLi5SaG6sXZUuWG1piqSTEybhsa33MIldg\\u002fF61rlx8VrR9YsfCE1pcS6gl5d6NYsJ5J7CZwu2yd2xLFBMLd2MzR52lAQzDbFOSlSHOi5VLs2Phdaate+H4tA8U2lz4c8K6bcTwXUHlKLiS2WVGtPPPl8uyNtUqAy7mPmAAis34lar4f8AjD4dtLDQfC2uX+m2mtyW8TaRJD5czRAPboMxjADGL5G3qjQlAAEDV6F8UfiFomp69N8TNLkv9F0rVddFpfwy6pBO13FJb2jlYw6Rwwp5jhYpF3sfPYOqgbRhfALWNS07Wk8Ma4INQtrV9Q1DVtHaJbQ5lDCEW4UOoiXZLJ543rKzR4B3cwly+89zZTvT5T0jwfZ2nwj0mDw\\u002fqd4l017fSCxE0\\u002f21YbbJazdjKPnkKEsyjCBppGG1dyh\\u002fhbxdofhfxJaXyXmnQ2otJ4LW3niBVZre5lwPOCjYkrS3CFM43q7A\\u002fMzPV13w7rHifwrqXh4f2fpGoPq6J\\u002fbkMu5Z\\u002fLbIhghnZTFuV3+XeGRCVHIMaQfD74daD4etbr4eeOdHSUJCrRardA\\u002fvWLS\\u002faEZBKy+W7yxMSoGNrcAbyMVJKV2\\u002fkbVI+4kl8zrdeu\\u002fDHwgt9E8Ox6DBd+L9bi02y1Y37gyXEl3ITBa7x8qiOOXaGQK3mMBls5rnrH4jeHtY13VTo+t6vq04WG1W2lQgx3CwTpI8sshLSRPKFjDMehJHJBGv4e8LaF491e41zxzLPq+swILuwu7lAi26QN50R3J0YNHjJGF24DHBrmE+F3xd8SapoFtpHjiwj8OQ6vd\\u002f2\\u002faaRaqLrVklURWqoTj5xM3CnPlgZwcYPRHkm+e1jivOl7jdz0DxekPhJfFWs+GvE5ntvDM011cwpZRpKI4kmWZLVB8zSN+\\u002fOw9fLAAwAolg8VXNzd6zcWPhOxuLa4mMOh65duwLWUsIkUkdYSu0sAflKhCc5wMZ9T1O+8Vte6h4Vmm1TUbezvtTupJkWD7RvSMyx7FIWQ\\u002fM2M\\u002fMZH4Gct6J4Q8Iy6H401OHxJFCn9uabFp8Wksxmt7eKzaaJCAozuIG1nGTnAwcUpKKjpqwi5J67HkXwo8D6b8XtPh+Hl94kupbbSPGN3Laz2aiGO8soGlETlADujZGjdVwSZWcHgDEOn\\u002fDzwtp15Fp3jvxl5ep2muW1xZrqF0\\u002fmX6eV8kIMaFYYt0UURVdmQzEleo2pdQ8PwaxB4f+GcY0TxNA06QWl1nMMocGQqU4eM7lJIwrdQoJIO3bax4m+HXw5uvip4tk0Q+GIdYFh4juf7OeW5mnl8i2iitw\\u002fAC3G6Mnu0u7AEZBzpurO8bWNakoxUZdCG98KL4P+GU\\u002fh\\u002fwX\\u002fY+sa3Lpd7ZtqFnDI0ui2gkkljRCvzmePc4EmVKSMGTaBiuT+B\\u002fgvS9B+Hbav8PJLjxVHbWt1e+G9OniFy8Wsy3LzMDI2EVMyOkjqqjO5gFrqNauvHXgITS\\u002fCH+y21W+8QG31fTrqNrea30qXaZL+ORiA7RsCgj6vkL8hBYea\\u002fsui++Cl7e6vo3j3UX0TxS+qLpD36+WsbTzPkzYUIx8xJJAsZXaGxnGK3i1CKUnqcyUpybitC38NfCXg74NeO\\u002fiTo0vgu20uOPxVbxWqQtK0twxtjJPNvkcsyM7qwO4j5lAxtorrbj4QavpfgjRrnxL4tm8W3txAy3mqR2yq7OkspHyDO1dkirySTsFFdLxFNdTHk8jxLxd8aPD3hf4taJrXh7xVo+geENC0RLqSTxSJPIS5mV0it2LKUhZbnLiTOYRsH3jXi+jeGPCHhz4qWnwp8feLdTttA8A6hrcuva1fXji61m8cyJFIzx8bILyVZ9qE8sihSc49z+GHhj4a\\u002fD+a++MV9qbR2Om+Mn0KWK8hRlu5bgMk9zGZvuiBzEzvHhSYBtVctnxn4xeHZtA\\u002faG0\\u002fwCHlgjS6hrmurpuh31xE7vp7wPb3ieW24GO1NurSIeRHmPjIFdFLkmpRj1M6j5Gu5pftJ6v8CbT4F\\u002f2ALjTdf1O2+INvZ65oNuIbWCHxDDHHbyRsUYhY40QQpMoJYojbSAWrofgr8EPg34\\u002f+KOnatoiafbaL4e1fTru\\u002fgv9yfbJXtYijFFODH9ohdpZEBSRrhtxDgovk\\u002f7R118IfH37La\\u002fErwP4jlm8RWWtJr2l6xHp0UDXkiReVcLdoihmle6t3kEy8yGcyggYrv8A9iX47Xug+H\\u002fHp8ZyT3OpTXWmL4o8Pqqvd6XfRRpG6JOq757aaBrfZuO+L7FJGXI2VnOlONBOO6ZtRqKVVxkcJ8Vfhd4D+Ff7Z+q+BvhDa6vNL4n1VdU1LN8140lz58V6rtax\\u002fPDCJEM0scYLrbQygA7zXea0yfGbx9N4W+Mlu2n2epaZc3jeENO1m31PVIZUt5fLh2xMQIYo5lu1DFQ8du8ROZMDF8fafdeJPHfi74c6BolpZ39vpkUk+j+erTXFzaQyTrPEFGLhTb2t47TksgmijiX7+R4zB8QfFPivx88vifXL3TZPFdho+m+Mr9vMmihv8PbwOVZsiWG1huZQgJ8wO2OMqeijTdaHNezMKk6cJ8qV0WvF\\u002fjOyf9oPxR4D8OafpWm3\\u002fiKeI6fpDrJJBewkm1uLFZIN\\u002fkhngDNtyhaYqpyy1o+F\\u002fG17qWkeKtA8S6ZpMMRMH2i9hkbzTFcWkjw3DwqN1rB5LhBIRtHAHLAVwXxM\\u002fZ\\u002f\\u002fAGk9a8f6xc6Fok19\\u002fwAKr8F6b4o+ILzW4kGlyIEN00U0O0XfmmONuR5ji3BYsUJbd+AfxS8MTaNb+Lxe3uoWurawrNoN9dz7pWUyNBLKwcLgxyRqAcpi3nAA3tW2KhyUU46oywrc6z5tD1v4RfErw1dae\\u002fgv4p+DpJ7\\u002fAEhgHht2dzqZ+WMyLIy7olKCOTYuWE9ydoIIJ3fGXwu8VXdtbfE+28PqPCVq0U0Gmavex213pNtELuCKa5hLAlJim9xuKFwXzkqo+c\\u002fFHif4heCPjPo\\u002fhDwf4akS3v5Wa3ttKmRZ7omQrCBsAVpRKt0FDZDrIynpXf8AjGPx7a+ENbnk194IobRodNFlGt3DKZGdZoxHKDK08UENvGXDBBHCyKMuSPLdKUXFrY9P2keVpbno37DX7TVn8W\\u002fE83hHVI9Ui1bW5r9by3QIEKgBFNkzH94jRsCGbaBtwuWK19W6L8VdG8R+DfEFh4qtbqG2F20ZvbzbEslslwI2urfYMMYyu1QuQrCJCcmvjH9kb4ct8PviDB4Y8U60IdU8RaZY3c2otCl1b36YLR6czSA42xF2lQ8u+45zDEE+ktZ+JDxeAv7E1rxLr8\\u002fhrQ725j8SS2JWFLKKJXD3McartlNtKhZw2Sg8s871I83G04+3tDY7cJVvRXNudbpmo+O9E8Uaj4Kv547SPT9cj0m4024iWcyOif6PONhO628tgV3leIXyNyyBPMdO+L3jn4v2cdwdM1Hw\\u002fYPrl\\u002fPDOtkn2a1LFd5jmbA2faBLKiSESAvI7gZjD994T0y413Trzxl4n0WytFupXiub2W6TNvFZssEcDQnOUETea27crPnA+6K818I3HgPx\\u002fDJYeINW1KbT7HUY5LOTS9sV1Y3ofzVhDtnzJWKzAsvyeXKiEE7yfFxLtrY9fDcs9mfG3\\u002fBcnWvFHiH4c6XF461K4lv4PEFh9m026u940vfaXZkCqwEm6eJLKSQOAUePph1r814muolSaKDagYfMF+XI9PfGfwzX6Qf8FpPAdzofwQ0XxlYxwW2mXPjY2dpaaXNG1uxihuFMrpGFETbVWNCB+88qYk\\u002fIoH5waaUkuJYfILB8k7mwMjBGfxAr9J4akpZdFxVtWfAcQw5cdJeSOq8KWeseJ7lIdKSe4mkgYJbyKSz4ZiufYEZJPHBr9gPCHwOufD\\u002f7Pei6vokk0XiSw8LLqMuly3Vrcmwvb2ysrhL2J1YtLtiSWQYGyJJ33EV+SPgCaDTdbsNTnjDxxzKJ7a7jEkBYHncp4dMH7p65HfFfufJJ43+E\\u002fwAYVm07xUdU0f4g6W91qOuGJYZLTVIYpshkYO0UbSJNbeZI7SOGVWdjtIXEFedJwXRhktGlV5nLdHeeDfHnhvxb8LfD3xh1b4XSadrOo3i6lcW2vWYF5Ld2dw0KW5jY4MhEYlQgE4ZmG5ckYL+G\\u002fDtp8QPCvjrxd43vNCn8PeJLnV9L8LaJciRNM0fVpoYpEmt+ZHijWOJyQrIXnAJXMoTi\\u002fhF4+8QePvinL4n+Kvwr0o6dq9hFpGhXQsXRbC5WZsW1vEzHNybe6dWKbAskaOwYgEenXHw9hmt9S8MaXbiz1bwVqiWOl+LJr0rGi3UcubSNWJWeR7eSO23Shis0SszMdmPkG3RqO27PpY\\u002fvoJPoc98DPip4ku\\u002fD954N1nQbTxF4juYtWuL3VDcw+fca0l8qtdAOR5VmyWkSkRghjJs4O0NyWjeA\\u002fEXwavNY8ka9Yf8ACZa6ttqsNrNJd2ujStqa\\u002fZ\\u002fMeYB7YsGaQyQq4y+7JUZb0Hwb4D8SeAfD9xceONb1XUo9Ps4zcwJPlx5t\\u002fpcdq80LZO2EvBKuBsiFtMu2p9C03W4tXHiX4l+KNHguN9na3qrpyi4eOK6jlh8yIKFaSIrGJflYmJzuLFU2xqnzdC4+zcXFbnjHxO8fW1xcXmraZ4atfEnhuz0XSvtmlXECq8LbkuLQtbZ3TCEloyyZkSRE+Uooau4+Oth4X8M+JT4vl0C6sfA\\u002finxrcJqK3WnvnS9bjjS23NIucgypKynCpuilR6h0v4ea\\u002fwCLYbI6LcW2lxanp82gXsounluLWCaW4EdnPA5aOdJ2hMrgoSpk2hl3VD4Inb4q+Hn\\u002fAGfPil4cEemSIup6FeWyywSTFYLeR4ZmVt5lkmkk3ycsCzZPUVvGSTtETg95Efgjxz40\\u002fwCFmPpcst5qHgrTfEF3ZRatos6rbakt5b+aZllU\\u002fuEiktnkZwCp8xo1ZlVSdf4OeHNM+DegX\\u002fg7w3pVvf6qgstau9auJJGGqWtzKjXf2ZFB+SOKOVdhwGJzn5xXn\\u002fhyT4d2vwm8ERTi707XbrSdSl8ULY6pJFBqE2+KctMsZQBo28zZuBL\\u002fAGMup2mvT\\u002fC3iy+vrnSfibL4W0caxpl4pi1HVklH2MxXaxJDGXc+WjbXjYDk5UdAa2k4Km3Eyjzyqe8cv4D+J2o+OfjPeQaR8GtN8QeF9Ts1sL\\u002fSpLsSGe9uGWAXkKKCscYDquVJCREMQBgjs\\u002fG8\\u002fwAPofh5aeMLW5trfU\\u002fDkl5b6h5LiC9uJp1V3IiUHCoskEbCXao8qPaBuyb3j\\u002fxNe694g0SaS2Se7XVLe10UeHFjtREWWEOhkj5tdhZRIRgrxj5QwOb4t8FWmi\\u002fYtG8a+NdKWTxl\\u002fpV9LPPGLyxjMARWzEFMxWaddzcbYgCvzYIz0skzSVoaljSfjP4R8S6zfaX4gddMudONrNZ6rdljG00FrHMZI32svnMHfzVzncWIBxioNf8AiR4bsfAtv4gjn1e50\\u002fU7OM6NrwH2aaS3ErLLMACXCiXcFBGwgFlPzsBe8CfCPxF4m8eap4e8RQ3mhW3iS6tNR0OWzuIli0iVZo47vdBKr+egWEJ5bkr5ZZWDFeOJ\\u002faG07wx8FrjWtJtZbSxXUPFqpHqloSbOysLtGnkeOFR+7gFxcZkRicP5rKdvA6cPhqDqe+9Oxy4jE1nC0F8z0ux8S\\u002fEO++F3iLxhd2enR6f8L9T065g8M6QR9o8S6bL5MkqbGAKPLCrxxgcmZXPaum8T2nhjw5rkPxe8KeHrKyivPEmr2F\\u002fo852XNlo8yxD+0YwpOY4jJuOecSA9qzpPBFp8H\\u002fg3ZfF\\u002fX9VOs6pJo9tcxTxygRXEIjeMREdXEcMxZG7PGjdVFQWvhjwTrniDxD4i+IPjfyI9P8KahG3g+2yJby9MfnSJBjlVUQxgY+ZncZ610SUG+RRsmcbcv4nNdotaD4M8OaN4Zi1Pwt4vGtW8+uafcpfQMY5BHaEyyRMSRuYzhHwOyhegNaXw8+JNt4x+LM3xG0TTNQlhigvl1rUZ7tI4dJubiZXa3dd2Gwu0gjqXBP3qxPhj4ot\\u002fhJ+zDLD8efD91Z6nZaJpx1zVb9g32S5uZVjijwOkrGTzn2\\u002fd2\\u002f7tdppXhq9sPDNp4GvrSGCS31Zri\\u002fis5NsV3JG8jRqrHlvlCEsOCXH8OK4ZwnFWm7o66c4Ta5FZnI\\u002fGXUfGHgXxFoGi\\u002fCG2K+L\\u002fABjeS3K29zpRuo7dfNWUSPJGMQgxsCOeTI9aPxa+JUXxk1zwV8OLS+jTwld6ktz9mgtlWS6ltpxODJGxBYEoGwOT5hPY1c8R6Bq2m6Pbahour6kLWynN9JAsizkySWvlFYwQQw8xPMC9F+VR3q34NttQurq18Q+G7d9OFrvuba4m0+NLu6aW2+zTeWuBt5mz\\u002fupUxrOmrRWvc1lQVR8zfyPK\\u002fEWneItW8bwfE6TWdY0vQNO8RNfa3Y3qh3trSe2ZYXt1XLLvcopjPUqe4Fdd8UvEnin4b+D59U8RC0S2m0uWPStNQb7ae\\u002fjl+zuEYgbXDi4cKvJZiRwateFfh\\u002f40i+GPi7wQ2pXWoWra159jHGg86GVTCkSjdwVw21VHJOyvK4fizb3nxVuPh7r4dvD3w0sodb1S81aTM7Iu9o0THHMzoSO+0nvVpOUHOOtupPNKNRQatc9j+IfxC8b2HgzSNC+Fem2FxrUmLvVIILhQLSMhkCEHkEsvIPQofWivMNK+HHw\\u002f1b4r674q8b6pc2XiHUbOD7brRvw1pPtLFvJUcL5jSBz3+SikqVJ9SnUrJnn918L\\u002fAIgahaeMPBnwH+Gdn4x8UeB\\u002fHdu2l6N4xt1fTY4JZo7me5e3L7og0Vy0RJbznVPleQqM5\\u002fxZi0Xw\\u002fr2s+INK0C9uL3wx4cuNQ+HniGZUvoJYr2KOIObhXWVJ44p\\u002fNSN94VQQvyHafa\\u002fAPx+8HWX7SPxP+EvhrXpLbxf4z1ePw\\u002foFlf2zvFqV1p8Cyvfi5Cqm9UbPlu24x+WVDeXJXgXjdpPhv8H\\u002fAAjp\\u002fwAVPGWp+KPhfZazFp974o0W2ED3c00zbJCqq8hPmRragkeXthQNghkHqxU1JeZ5qlzJrsWLn9inxfc+G\\u002fD3wlaDRb7S9AuY7bxh4stL6eNE0sWqqZF8xPMW9jaSdCNqRiGKMFBkrXovjvTfCvwW+G9t8Q\\u002fBvhPT7CDxB4emi8V+Jp7lUnnuIIZTLfzLBtWYGVrc+XEoVVimwzBY9vGw\\u002fEH4w+OvEvxCttb8Z3uheAPEukltMuprJ75WlEqz3FyCiIrI1qY1UeZtXcYncSDFRftLWfgXQf2dvCXifTJbvxl4Jsr3VLu78O2F6rnT2tLWW8VZZ4Q4aJmjjD2xKs0UoJ4ZCZin7Xlb0fQJS5ad0jxP4Y\\u002fEd9L0jwp4f8TaBe6T4\\u002f0bRLq0tp7hUuLrV9CeztGaeELDmyiaW1STaziT99cqdv2jKVf2e\\u002fBfgnWPhjF\\u002fwmXiy78SnV9Njn1uM2MZtbvxF9pmGi2hihkM7RwRNNcO7OruZXEhQKtdr4AtrrR\\u002f2X\\u002fEHx+0Lxne+INe8C+FXaDxOmlxzxy6dfSTiO2hjDCQW8Ku6L5gyiW0xmKO0aHyv4VaTq3xZ8SeKtU\\u002fZ\\u002f8Ah5pUd\\u002frXglvD15p\\u002f9u22k\\u002fZpptOEf9s2P2ueHz7meG3u2YxlgVD7WRtoOziqkZcvupNfMjm5ZxvvZmjrHj7xZqPiS\\u002f8AA2qeO9fuNE1PT51+MDWF3DFBbWa2McaWE80alG2iN4AqHJMhdTyJB5\\u002f8NPiFBo2l2XjzUobm4t729MmopZaPaOzSW8iTQKhigItoBvI2RJ5bCYrJkqAfQD8Vfhdefs+eP\\u002f2fvhL4avdVsYLfQk1HxJ4l8P3Vh5IMT6fPJM8yIZLh5Jf3MTKCAQ7bvJIPPfDv9k7xFqHwR8H\\u002fABVi1HT9Fh0m\\u002fwDsusyWmtPcpdRPJIz2ssECbluJJpDNGyFo3QKm7b5ch3rOHJyvRMilzqSqPoehD4Z\\u002fGtdP1f8Aav0DwPpj+FPC+mb\\u002fABRJMkcdiFAmaUXDnbLZ3doXe2bZ5cYQW0iRSb945X4IeJdf+Lnh+80v4k6Gmkx3eoLqNnpskRW60qxgMsXlxS7kfZukiBCETFHiydkjyt6t4Z\\u002fZ08Nat4Q13wPoXxDnntvEct3dQ3I1R7a1GsyWEKQzXFvOw3RSzyhnEwxEZ7VSXkfy0800fxjqC\\u002fA231\\u002fxYJYPF134mi0vxH4ckiNjfQataQSW8atJMnlJbtcWqNvDrIiOkZRyU3cTjGpR31R0uU4VNdnqfU\\u002fgbSdI+IFjrnhu8023srnSfCFrAtxcvEotEKxSqJDEvCL53lshk86QFFyWDGpdA8CweN9SttG+ImgaxbRSaWtnfpc3to0DRQyxqiS+QkbktE8Ub7NpMTTRhgQGPj\\u002fgufXPFviDx\\u002f8ACPwbrWi\\u002f8Jr4S8gavfX4K2t7fWdwZDGskLtDcqrrMBLuURqsxkVhtz9C\\u002fDvw5N4h8E6F4w8L+KbDQ9T8QaVa6hbaZqc0Zt1s\\u002fKLRs6uS0R+WUFiHAT5TtMYevDxFOcJttnsUJxcFyo7HQr\\u002fwP4RfT\\u002fDPg7w3oWo6VqsUVncaReTO6yiOPdAkEkwklNyoDhSxXzHTnMib6811PRPC\\u002fgD4HeJtdi0vQNReyuPN0C20zWFS8junuV8q3mnGWjlbz4cbTyJXLbFI2+p+GfCHhTwlaLpGlabBHtjtZ4ElCiCC4i\\u002ffeezySBoWVkB5PyEHCsZTnzU\\u002fsl\\u002fCq+\\u002faQvDr11rDWPiTRNH1g6BZNJFEkxjjU3Bl2eWlwbnbLtYoSrdAqsE8iuoKLU357djuhOcai5Vufm9\\u002fwVb+E\\u002fxG8MfC661fxVq8V8+n+I7NdVt9PSU29mbu2E0G0M3CMxu+Ap2P5gLtuVm+AdLjjEqSMT+7YjYckrkBTknpziv1t\\u002f4Lg+A\\u002fA\\u002fhj4Ja7L4e8UXnnagkF8mlSxB2RE1B4o49wbAgVEk2n5ndmVgqx7mj\\u002fACOsyFizIxJGPMLuCcehJPXBGe\\u002fTPYn9D4XrLEYC\\u002fwDwD4ziGnyY2662PQPh1p2saxrdjo9l9mvJJLyKCK4vGbysGRRtdVILrzg45545xX7UfAXwHD8TNC8Q\\u002fs4+NNN8SRX6aReppmmWurKiWk0peKP7ORGrvHGY42ggkdkj+zMTlzJI34t\\u002fBq0tLrxbpSxWySN\\u002falusQm1BbaMO0ihS0m75FDFcnsMnoM1+4HwR8UeLNQ8QaR4y+HUN5plzoOmwR3+jaohguY47cGN5HWSPdI5aKZ3jbYVN3I2Np31nxIpPkSNOH1FSnc5rT08en4R6L43voI59Y1XVk1e9sdDug66lJuMkknltGUDK9oT5bqFVDI2d+EO78UPiF8RPGvhax+I3hCbUNJup9WnTxHogmtliEVzFZtAl88sSiaRXgiZLkElPtH3nLBhL4k1LQ\\u002fgH8XtDsDbRw6V428MPFPp\\u002f2Y3baNeSWwa2liiRwd0wtQxRWfDXbOMgkV0XhjRdNWXx5+zvcalYSX2seH4tEtJ9RhEQv7p7WWS1nJYssbILdrcxZ3RkDed3A+XqJtJn0NO0G0jV1rU7\\u002fwAB\\u002fDXTdZ0a8fTY7G0tLON9QBluftDeZeKwdBmdGltYNod9uECfMzNVLwl8L\\u002fHPxT0+x+IPj\\u002fxrfaFrvgCB2+yGK2kuLy0uFQ7kLRiNpHhQh95xuRFJXdzl+AL\\u002fAMZ+If2ebGx1uwe7vdO0W2sPE0CI8jafHFcSIsVzHIi7EyiEvlRhGPmKFOdzS\\u002fGfh\\u002fT\\u002fAIm3eu3OoXlqL+ZoFuWlidTbSiZFlDh2U+XEYpWUrjg4yEJMRnaNrfMKlNTluZnh7wPd+INE0rxVqsf9nX+o6hcw6YdLJdYb17i5W68mKaXDRo7pI0LeYm6IsoGGqlpmu3mi\\u002fEVvBnxNt9Tk1vUY7a7bUbO0W3+0XnlYnh\\u002fcsESNgkTSlAgRgPmBlGfRtW02bRJr+0ufE7Q6Pqep6hqVtY3TRW1xYzSOsiSxFzhVbc6ueMJKRjINea\\u002fG\\u002fwCGlz5useMLvxXe6oLvQbY6dqKlYTJ5V063NvHH5ikrLAtvMFGXIl2EZiNVTlzSte45pqMbs4f9q3wJqGm6u0dt4dvrzStX0LTYNMvDqKN5WpqtkZHluEWH5\\u002fs8S24jOSWjUKUaXB7qPxdY3PiV\\u002fA2peDIvsyM6DTQym4eExwGWWQMqgurLIxAwxjJIffgrXa8174ifB6TwV431KHzdIhAjOl6fHcGMAwXHmowkxb3AWwL7pVO4iPywzKVOd4Y8Qan44+P2j6drNx5Ut5DZ6nHruqWIgFzqMthPb3A\\u002f1hH7qVLYNCWPLyjIY7W3tzQcTJe5NSOz+KPhX4f3+paVqumjUPD3h6TSY28UCz04I6tfO1vKhnDb2uS0aZb5\\u002fLUSHBHzjCtdIstOvr\\u002fxb4i8JWGs3+m+GpbrRdWu2lWexBlELuWwY5AdjtvO8iKMMpQZrt9R1OTx58ObrUvDd1YatBqJuFs9PWdpojPAk6XCOwyWDywjayg83CFiueeI+L3hfxZ4NsU8b6dpl+bLw7oMdt410zTJIpPtMd68dvGLaHzcYEUnlhQ2JA7OuN6ilSmnNRlsOpB2cjovB\\u002fjG+8dT+JJbBtZaCaSK0s9Re0E807B5mEkJEgCI5uZIdjRlmMQYZ5c3v2jl8G2vh465\\u002fYbyWttr2naNe6W1krIlyJHJeRfm8xGil8qTJ2usMSNjzJK86+HPjzxJ4a8eeE\\u002fD\\u002fwDwl0Gm2lmkUt9rz6VJFbCf93LHO2\\u002fi8KyzFMwkhEfczAMpHZfD3VNF8VaV4nGk2Woava6d4jNhrmoTwTOkJZbd\\u002ftyqVBdR5ZOT\\u002fCkRIXc2NZKcbszjyzkl0O28N3PjBtGm0Pxzpd\\u002fqui+Hog\\u002fhu2vbaMrazzyHMkk4wHjSNZcRFP4wowAAK\\u002fg\\u002f9mXS\\u002fj94503VZvE5j02K\\u002fwBbvr65jnaK7spWigilUSIcq7KYto4C5ZgN22uit4YYtP0b+3PEt3pk1talRb6oD5N6YrszI0jL8iMIyrdQp+RMndWT4T8TX3xF8S+IPBXw28V6VoqeKbi8vJL+1jLyTpMkMcpA4ETAwDag3ZDBq0w0+b4jlxFNQbUTppYdIv8A4g23gu91Wf4heA\\u002fh\\u002fJFf+KEk08Pd2+oFUFrNMybVlCpEH8shm2rknAAM+sm88YR6rJp1nFi7knhWSF\\u002fLa1spPLEcsfzEgKioRg5+XOecmn4PttFX4O6cPhtpuqxlPBkkniLUbu6EM93OZWt5Unc4BlQIdhI+4QM81l+CfiJaaV8FfEnxG8DaHLNCNOXSNF01+TFcqkvUkghYzsXJ7ICOKMRH29RW2Jw\\u002f7mm77ifErRfDS+MvDXgXwXFcLZafBJc3l\\u002fZ35+1pcowEKoxYgJtJL5OcovHWr0L3ukPDDB4kubrT7bDS38zKv2gPuKJjgg+ZnLAZ2hea8z\\u002fZ68La3onxe1\\u002f+2Un0nxH498PNf6K+rXG7TYbi3l+aSRlJMKyrMzlQDlVUdq5z9qXXNM1+y8Ga38Pdc1HQdV8J2txqGtW2kqbhbi6kjYJEUPAQEh1DYIDLxzV1MIpTtHayHDFckPeWtz1b4lfEvXvF2laT4I+F+u21ldaN4g826unn8jyXmdAwLlWWTyxul2kZ2hT\\u002fAA1ymqfs0xyad4z+Mej68sh1tVnn1SKJZYdlmQv2UA8uMPIMkNksCMYrzbw1480n4ofs\\u002fW\\u002fwv+IFsum61Frya74i1HSmHnTLbxgyRKcExu8RmjcNxgmvX\\u002f2XvHWoat8TrmOSKYzaX4fmuNT8KSv5YkRQLhLmJXAHzRnbkf3SaynGpCKUHp2NYyg1dqzPMvCPw18LeJdQ1T9na9XV7jV\\u002fC119quImjLpFC42xhHc5PylQ2MAsM4or1jx94\\u002f8A+FWXl9+1d8TfBFhdaD4t1aTS9JeOWNHcJmSM49gsyn3AHaiu6GHvFPkON4vXVnzL4V8Rah4z\\u002fZ40LU7TW4fEfizWNU1ebwv8SIpXjttJvE06FPtyCXmMRRRXcblubaQrs4L11Ph3xd4Q0z9lCH9k6x8M+H18c2PgiOwa\\u002fwBUuI7Wwad7qXbeqsnyYXzV3Kf43LdVrH+LX7MPg3Wv2atG8H\\u002fs3WCeHvCkupa74cv9W1l5Yb\\u002fV7iW6hvZI4GwwWK5kgwwwyokbomC+9MPR\\u002fDmseKv2g7r4T\\u002fGj4T3WhajZLoHinw8EuSz3aOIo5JhCzOZVnlhliKu5j8m4\\u002feI53PVTT5LxvZdxQjTk+WXU9Gm8N\\u002fGD4fr418eeI\\u002fFOm\\u002f2D4DgttT8MWsWjvFrS\\u002fYbhbKSP5\\u002fknju\\u002fJRcjhY5C3Q1mfBP4ofHHxLo154z1f4bWFvdeL9W0ybVfCwtmEccVxHLDPHFK37tNz+c2T843wx94q2\\u002f2sfGl94ek+F\\u002fgK71fSNSg0OFPD\\u002fjPRl1B7ie60+JUsZZCJpdtzMbqGdNszARwkPgAvu8z+Bcni\\u002fwCGfwu8J+FvBPjW3+KttqI1C1vbbUdVuGhN894ogt1ifcqR2qMJoWYvGTaKyKmWSnBRdNzbIk5OfLbYi+Ns2oeBPgjbfswa14hv7vRfHHimTS9KvfD2nR2dnrMiLFbxxLu\\u002ffPEiLOshPAKhm5ulr5s\\u002fa5+F+jfDX9qLwn4P+DAvZNL8TaNp+nK1myXj30tsWjgNjGPmZxPGNsS8ybyn\\u002fLSvpz4ceGdc8Jf8Jv4g\\u002faF+Idzr\\u002fiT\\u002fAIRu18NeE57W6nmfTbkWf2S\\u002fWN3JSN7qS6T5gAZGgDeYj4x5\\u002fwDEL4J\\u002fE5vi9pX7V3wx8NyaB8PvhzaW9r4d1XW38iPw3qizxyTXVnFMbmW8jDJI0azEjeyswZEaOuqhUhHToZVKcmuZbnkGk2Vh4J8OeJfg346srW61J73f43itbqFVuL2zmhlNveFufJy9yoik+65kc\\u002fcr1rxX4Y0O7+AiWY+IY1rQPsLyaLa2t2638jKAsTLCvzR3Bje2eWZvusFVejV5Dqni7xfp3xm8LfDHW\\u002fDdvpqa3rK2euadM0kY1K1vmWV7ssGVCzq00TGQ5jEu9dmXDdn4U+IOkx+G9C+JviyXUr67uRZ213qgtyYobS5do1fy0XcdhWPMbksiy7WO1gDjXTSVzopNNO56JN4Y1m\\u002f+GMGteCNeeWN9Hujo11c6YhFsks7RO0nmfIh34RD\\u002fAKxvLLLya6bSPht8O\\u002fE\\u002fgPWdLPjm6sJ9IXTtRtnXVHkuNFvnndWuBGvBuCyQ\\u002fOnzFhMy\\u002fLurG8D3cniPw0ln4T8aSS6drlgp03VtW1GTZc6bLI0uX8nYiSl1uF+dVy8gZQpbcTxdqHhrXBqkHhrwNeW11Zy+f9nhOZraV2iMBZi7ARC505CyjMmISju6lSeSE2m1I6Zwc0rbGT+zX4sh+GGsXHhDxrFNpEWp6bd6TfX2nQzQCG4jWGOykgXqJJQVncP85T5R80hr7P8AhP8As4y\\u002fDPwZozeMfGUt\\u002fFrNrBaw2wvGhso7aEMIpVhX91tRmCqF42r\\u002fALJr5a8BarPq3h+\\u002f1bR9esbPxBpOvtcalr8Fkw8mOzmt96yvI8kk8iySSykrhgI1C7Yz5Vex3Xx98HfGaTSr0\\u002fES4j03w\\u002fay+G5Y47GN3tZntxEswiWNCsboFkMiFUbAGBhTXJXipXZtSlKlaKPVXvvC+gzHQRq0cr6dqEsl1qEHkSNLfM6HZ5Y\\u002fjkU+YzjkMWH3StbfxV0r4faZq3gjx0PED3eoJ4auT5EV\\u002fcELYqp+0zQRw8HaWIZ\\u002fvDEIHWvLPFnjXUl+EWv+M\\u002fBvgaS48M2+nDUI72eUQSRuLxIdrI3zz\\u002fu1LLuILkluFKgd\\u002fcfGkeFfg7D4U8U+FkjuL2PULexvZI5I18hpXE5xIW2mPAJYnHzLj5Wavm8ZSlol1PYpTlKSsfG3\\u002fBYrw\\u002f4d1X9kXxX4tv8AX4pNeEFlBaWdncGWNreG5gTHzf6uPypIpAkfJa4dv4mr8VdOnggbYY9xXCKHOHJHXPtt\\u002fwDr1+xX7dV3Z\\u002fHb9g2+u2sr25sfC2gXxtdaV3WaSY3aM0E+MI2DaNKWCj+DG0E7vxwtVk\\u002ftHYCCnmgO8YwSMA8Hvnrn3r7zhC8cFKEt0z5Tif8A3yDjtY9B+Hmt2XhvWrTWYkjuDp17FdRxTElMI4bBA5wcY49a\\u002fc7wfq3i34rP4y8carYQXf8AwkGkWfjrTtZ0uALb31tJYxs9s3ZYlIU5HXcy9WFfhBo7MbhEhkZNzBSDghU67VyQASQO\\u002fPTvX7YfDfSdJ+IH7I3w58XeG7fToL3wZoOmT65pxux5ItJhFD5HkgGGaJ2eQEzK0qMMZwgB7OI4KVKLe9zkyCfvyj5HofxC0eL4t\\u002fs2PoOmTxR62DaS6V\\u002fZsAtxFbtOWit4mHzOG8uOZmfmPKg\\u002feqv438d3+qp4O8D+fLqGqaVpEi+JfDcMSzXcXlTxzK7yH5mmf7LKSvVI7mYnq1dV8G\\u002fij4j+Gvw00vxd4V1\\u002fQrrTZ7e38y8OixQ3IW5Ct5yuTMzgSRySsrA7nfIG1lAxdCeTTPixF4503wjpF\\u002fd6rd3c2o6nokMeni5uoVhwDAiiOdfJkW5KMAfMjkky4crXxTdSzitj65crcZMi+Pq6jq3xN0rUdZhurM+ItIisIbDTLuSJLvU442m87zB8kaAyRriTqJWcfKjVBbajo+o\\u002fEDwf8B5rp7O92XzaPdNeNEuprZspaaCfonMUxacd42J+VaNJ+NqeLJNR8Cv4avxe+IdVWOztLyyDC0t0tmje5UMGiVytxtB2gbdyjy9xUdV4J8JeI\\u002fE3ie6uvHuoaZqGq6ZFb6TPfo8cLRGNY1uFUNxAs6OjSKgKyo7qdyyGrvGMFzIlJyk5IrfG7UdP1HwT4Z+KGt\\u002fCq9urKe+ju5oJp2laJEkuEtriVYeFt5FbcQv7xAuP4hWV4b0XSPFng6y8R6zqFzeabqVva29ppdxM\\u002fmNfOZV3mRePszrJCwx0JbFaPjK\\u002f8MaN4Y8X6a\\u002fjDSNS8MaVNdGbSBp7rcm2DTXEUxKkN5UcioueAN7YVcgjmPhn4t+H3w0+JtzH4m1GLVhD4Kj024ntLmeOxLQG2kMkTKyGQxlXzGMKRtdfm8zdUU+S5Kf7xI1IdLuPBlrZaz8PdQexuLLXFeWFYVAnubiO1V5WY\\u002fMV2+WAh+U+Sz91rN+Mja3\\u002fAMLE8d6LotkE8O3WmR+K\\u002fDNvFbI09lrFoqN9ptpT0ZxCU2\\u002fdlDFT9+up8W3Xw\\u002f8AD8upeMPD13YahI5tzeaJbWoWeDTZZQEbzNmN6h7kH7vMiBQAXJwfDOsa\\u002fwCK9Bgj+IGkn+0ttvFcBY4g93Yxv9pFm7RKqFWmSNo12Kd0YB4JJdFrmuwqxbjY0j8T7LRvEcMnh+50+2ln1h7uJNPKoukXCrBPcXWDyyyJLLIqr\\u002fDAydQaj8T+ErLwrc3PxJ1bxLe3es6hosluNU1CQtbW0q3Mn2WxdF4IbyVjEjdI4s1xfjyx+GXw71LxBpul3Wo2Zs7aSCbxFqE7\\u002fZLaK6kkSKGfLMEY3LBFl25AiQZAxSw+EvFviS40vxn8OfD9lf6V4asp\\u002fE\\u002fjXwvqF41q1nYWf2mNmYyvIJDMCyKhbYyqSQMgjsjTk5Ll6nJKpTUW5bo1\\u002fB8t7aaXY+CfiL4FMEttC2yCyle6dWSMwhodv+rB2Q4I+59mY969Y07xf\\u002fwq34N6Z8PPAthCZ9NBivRYzLLc6lb+VEt3E+f9Zu8xc55Dgn+CtX4Ca\\u002f4G+Lvwg0tvA3h+88Eo2hCXRVsow0stkYC0YlE4IzIjszg5Ykux2nCjjdI0ttJ1gXP251jk1PdDMOkrxQxNMsjkFiGjZQFyAWUgL6ZNtS5ZM1ioSjzW0KelfE\\u002fw\\u002fwCPNQuNOTwzPp9lf61cS2l27r5kVrD9m22nlD\\u002flskJVCfUkdq3vhR8I7P4g\\u002fEbVNUU3OljTb+W7t9NVPIuJbdrdBEcd1YKuz\\u002fdNc542+G+jfGj4zeDPjH8L\\u002fAUuh+H9Kljm1SWG+kWcE3MckbvF2d4luAzDnMkf90165axeGdE8WQa94OsZ7dGa2BlQDzTHA5YeY5ZmdiihSxPIp1nGjDSW5EE6rVzi\\u002fiXP8VtQ+CmneDfCOgFp9X1xbCWWWUiS5sFBe4lwOpCCTeO+7Heuq8Q+Gda0\\u002fwCG+k6W+uaaNTs7+xtNf0S3kMUd1sRyHIP3Q6fOG79O1TT+GtX0O7m8f+JLmK2sNKupk0ZN+QCR87t3RXJVAByRGfSsD4i3rfGRLy48T3UOnPNd2fh+a7s2KyX0\\u002fwA80ccIHdPmyx5A3+tXBzsl0M5csZOXU2NW8NaJZ+Lb\\u002fVvDOkjVGtrmzuLaO1bCwWrxtBFMPYGKQZ7kPXzf8cfhx4+h0pfFfhybUJ7jx\\u002f4yxeaLaxs0tqVdFWWV16QjyY2+hr1bwdq\\u002fj3wt8S\\u002fEOl6B4Kv7jQzp\\u002fwDYNhr0cuQltYCO6hnIb\\u002fWJumu1Ldtpr0D4mJBbDWb17i1g1bUPBCRaNeRTENaXBTc7FjwWmDRk+2B3rRVHSlboQ4RqK\\u002fU+ePH2h+FtR+I0vwp+DXhCCx1bxILaGeYWRe6DGFYZ4pD1IwxLH+6TWz48a8+Eniu3vLbxS41\\u002fS\\u002fDNlpnhm\\u002feFXe4a3lwkcuOVzuVcHjaCO9ZP7OV14s0v9pCDxda3hTxFcwQxCGeJ2gluACnyg8KX6ccHBr0H9rr4f61a6xrvxF0e9EOjWlzDqJjjgy0UZH7xWb+E+Yr\\u002fAPfTVnZqTsXzRtaR4h\\u002fwVj+J\\u002fib9pXR\\u002fh78EvhD4KvtPsvDel\\u002fa7vRJpAr284URNuxwSN+3PXv3oqx4G8Rv8WkX40a1LDYhUk0628uH\\u002fAF0buJVcnudqKv8AwGivVp4qqoJHDPB4dyuS\\u002ftTfGH4xaJpPjbWvCsUFxoejXss3hDQdGvTqSRXa31tcRQQ\\u002fZ38tRK9rOu5CSEklTafMw2Z4d8WeMI\\u002fih4e+IvhrTxP4iT4NeF\\u002fC2k39huuRZ3f9oCG8FtJKWxcW8glV0mXAii3I7q248Z8S9RuNK0O38D\\u002fHLSdX0LxSfFcUngseDbZrPV7m2jkubi31LZNtiea2llcFckSxvvBIUE+ieKNZ8IfEnTrG30DxzY2fhfwDKIPDPhyy1BrfVLi+so3ks45PKG\\u002fMt08QM21gEnjOSUKsk5KFpmdo3vE4i81b4I6l8T7jTPHC2Ot+OviPqt7rOlw6eBDFFqtlNcWl5C7STNDHFmGZU+V45jETI4+Vqu6z4S163+CvxJ+GXgjSNe0TQhpum+Lw+g2Ef9oM1lElvNZWeXtWjMs9rNLiMMpMLklPtUbmL4jaX4W8JeIfBlv4m\\u002fZ50mLx9qmhQtqGraBIjab4XuY5GvoonRyFYTyTiR1BLMdsiZElMj\\u002faquf2efH7aLpd7ceI9e1PTYn8OabrFlPayazdtAspjdZkHlNL5iXaorbmXUkdQSXVZqOpyWprQ0pThKXv7nPXnjLUPFPhOLVfGo8R+Gk1DU4Jr+7tdKmjaa0SBpEAguljkmeS4eW5eJQkm+KNhIBIoGn8YLz9pbx18eT8Vp\\u002fELWHwQtHfxpcWNpHHPZ2+n28E08skccIDMIyrFvNy4IUrHIQY39O\\u002faA+GB\\u002faw8GeCPGHjbVFtF8L6rYvr+kSavMjiaaRmOCUVn2yMqncF8w4VSQFBsWt\\u002fa+F\\u002fFnivwrpWiXmseADavZeJPDImSS0mjZQkyQKnIlMayXMa4EciEhXOflzhiYJWSu+q7Fzw83fmPmX9qbwbpf7UPw1u\\u002fHnhbVra58T6l4jt5dIuGuoVUWq2cLQRIHZY9zecUf5cPtZggAOPIPD\\u002fAMf\\u002fABd4V8FaFrnxC0GCx0fVdXl8PQXWm6qTawSpDAWS5RiXEd2kOXZ2abfB5iSKFK13fxq+C0\\u002f7I3h3VvGFx4rtNXux4zs9Q8DWccrQWUlo0aQRvKh4iPlOPlzvQKQVJU5oP4JtPiH4E0fwH4SvbSx0rxZqum2\\u002fxTGvIiwwX0CecL2KYbhbLvup7ePOE8i2wzAl8epVlRVJNu5xUoV5VZR7Hr37NninRfCZMXjjQ7G38BTau7X5WaNxqkcryFEmtn2SW8oWS0QRZEcYtHkQusuXj13xZpGmfET+1vh7avDJpFjcXE+kvYTfbNSlKcRs\\u002fmbFeTbBEVO4rJdkK4SN9vmPiTUfBXwi0a10O2nnvNYvvBepT2Ph+4YQCxv01Wa1893jD\\u002faTJbRROsYAf9\\u002f5nCbCel\\u002fYo1Dw18RvHtrHpPi3TNAtrGabV9U1y+MqxQ2Mcard5ZhuBzIxEZGWaO3QZ\\u002fdl\\u002fMq0vikj0KdW1os9n0nwS138XZLPQtPaPQvH+oXraVZ2tq8B03xMLMxiMZxuhmheUMRuDSiUHBCSryujSJZftBf2hpniWRvh74lSK01yRSWntmRBZGO+cQiSMeaEjO1URGDkkDBPonw38X6NZXw8Wyaq2q6P4l1K41m9kZ1uJfstuwle5EqZaJrh40Y7BgcoQGcKfNPB3g\\u002f4q+DP2n4\\u002fBmnaPo9w3jhpPHVhqwijWSaGX7N9vgYFwAF33JCAEKkhPXO3hpt2aZ2zSbVj6ysNW8Saza\\u002f2P458LG3v\\u002fE1n9nu7Eu8qWwR5FWVh9mRFfMS+Ui7cKysBhSq9P4V8Ga94q+BJ1XxZrFlYXS\\u002faE1K41hSoa3lMl3E8DSyHYsTXmFWTyy4hCuImDAY\\u002fhj4hT6hc4HhWezGl27xJpEd+kcNrNtZVNweRAVCIyozfKpwxDHBv2lzqvxE8Mx+DtL0S6t7X+ytaiv2vHlMwv2NokEqRbMXJLLLMjA7BGuSeAD4GPjZduv3Ho4d+\\u002fFdz5R\\u002fbk8MaL4E\\u002fYP8AEnhzTtRTV9OstEukg1Ce9McsTSpGYpWigQ5824dyBM3zCPYpOWC\\u002fiDbKYpnYncCwKgDJHr257cg\\u002fhX7T\\u002fwDBQfRPjl4j8ET2Wh+OFtPB+n6Hi70Y2eJNWubUQP8AvUiRkJRyXXDFYxCWYr0P4tWcEn2wQQgMTJjAOCew45x06dePTFfb8JKKwspXu27ny\\u002fE0pyxUdLKx1Xh2KSfBjiySwADtxzx0\\u002fwA+lfrT+xH4TuPE37KvgS\\u002ffRNVFhcaFq9lc2tmUEFwEuZpH3KGR5ZB98LIv3UZVdGZXX8nPDkE9qZLPUmWKRz8iyDGBjqT6V+yP\\u002fBLjxRpfjT9gzTPhgnh+7s7q1kvJDqMtq8i3byXG4EMflifnALYGSSfQ+lxC5fVE\\u002fwC8jgyJx+suMtmj2z4cTeFNH0\\u002f\\u002fAIRU6eLHTtMgSd4NKsiqubfdLA0DvuI2eZErMGKeX5YYApmtPV9V8TyWmn6VpOnx2uo6L4mm1a31BrAFEVi808b5lkLq1sWhUohxsiVSOUFvwprl74V8OXGo+J9CEd5\\u002fZkV\\u002fq8OhrJNp96GiCuLWVlGSJY9pjO3dtk6hxV3TopfG2naJaa7LFZ30MIuI4dIvkjaeIwzQyAhMlIw0u51BypAGPnr4Wbk3qfZKygkuhV8Na\\u002foOk3ur3fh2zs44dU1NbyzkivDMyRSqXfzndSsUMl1Z24AQYL3C5UhnrndR8WabqHxb0dm8MxW3hHUtJl1S3uBfb5bu6t5hDLCylAZHaRRFGu7Cgg7WUYFnwt8LClnf6beLHqUVnHaf2fBDdtA4P2i4laN5ZFVUJitVLKw+7Hu\\u002fjqHX7rw3r+vWlp8KFXX4\\u002fDGt2k9pA37u0mvLWP7VMttOxAk81oQuUyCGbik1DRW+YKfNbUfoXivTNc8f6rq9l8C5LdbbTY5NT1bUZ4xb6j9oXzHkdVwH+VECtE3l8EGNFO4M+IfhHRdb0PRII7ewu4IbiW6uNPsbURvbl4xGfLZS29VzlOSpMjEnBBGF4Mn+KQ1yyu7rWotH0IaoiWGiTLJmwtg4U6eiOi7PKdPlJ4KBCTnNXtH8JxaL4Y8U3\\u002fgHVJtHvbW6ubSy0C8JkmjjMyvKYXUMHeR7gzKQflKhP4K1lSUZpp3M4z5uZ2scp4lE\\u002fwAP\\u002fBVxoaeIZdO1vUktS63VqJVgitIiwtGl3EvKyyiTYQCNm7cfMWtH4J634cj1HXPDnjbRNS8V6XBpm2+fT7eS1lvWKvKJVlO3ZGHMiAKS4WNskdR0L\\u002fCTRfFPw\\u002fufDHhTxTDrOr6B\\u002fp1kj2oWaQlbhwl7vOVdpIhFtOAyqOfXm7K\\u002fuNG0nRPCPjKwurS4vrVS0dnaOFt9PgEsLRSkfemG8NtXON4OeadOd20Du0bvj+z8MfEb4PXnw8v3mnsPHvhuzsdZvPLS4yrXQuIWui20rJDcNvcjPywqFU4cVznwp1a61f41eM\\u002fgVrHjUXXg\\u002fwCKPg20c+IbKIxwxzKphns42bcVZnW4\\u002fcZIRJosEnFcv4q0i3t\\u002fEkmrX+q3MMcnii2s7hXiYhbd5\\u002fPEzIvLRFjuLxglfmyNprp9N0XRfEGseGPFCzCwu9ag0yO70OOTcEhfyrj7Sip91GiGJHOCQvAzXfCrOlGzOOrRhN6G58OvFfjxrOTw3r98loIdMk0tL23vTFNpkiItuj4CEecZXcsjfuh8yghcmvZPHt54f1zwjpfhyfU7C31m3t45YtNicRl8DdFgHqxaKQAYyFzkmvK\\u002fiF4t8A+E7xPEeoXQv5ru\\u002furWWS1ISCaSeQMLkuOQqQvFKrdAQ3fNej+L4NF02wOgwaNp8NzYRz6jc6q7\\u002fKumriExQP3eRrnzk9I\\u002fN\\u002fu1w1ZNz5joptQp2LcMnj67tdR0W50QW\\u002f2y5t3tJ4Y2jCobZys2RwfnkVceuK1PD\\u002fh3wn4P8M3+qjW9X1C7gt4nv45GVHX7OreYy55yyOpY+pNbyaBPqvxcuNK+HWgX97HDollPLGt\\u002fttY9hQKWb+FGAdsDliuf4a474aa1L8avi747+A3i\\u002fwALnw\\u002frfw20+2k1iC4m8yHVrG+Z3SZWX+DKkHPZK1hRlXdlsY1MRGno9zV8VS6w\\u002fjXU\\u002fC\\u002fiHV7Say05RGtuwzE6yAmEtnhnjDZf3zVD4P6TpMHxo1nT\\u002fiVqVvDoWnfZZ7WS5VWeK8so3hmc\\u002fwDbRpfm\\u002fi3L\\u002fdrn7\\u002fxXqM+j\\u002fbbzSJX07UNev4tCuplBaQQXZ8xZD1CMseVP+7XB\\u002fB34peH\\u002fABvonjD45fEd4dF1\\u002fTTqCaxoM8m94PNuXlmLp3HlAgHsDWzpSpRfK\\u002fkZRnCpo9D62+Jen32o\\u002fGfw34A8L3Wmw+CrrQbu01OCJgqiF1XDo46M5c4\\u002f2a+UPirqni7y9Y+DPiqWyu7G2uDb6LPp0rb7W2WRHh3y\\u002fwDLU7Iinb\\u002fWda9W\\u002fZSSx17wB4X8Ianrd4JdP0+SFIb5MzbIC\\u002flL\\u002ftZRkx6LivLPCXjfVPFnjuLRdU8ELbeIdM8Q21t4hsLrascFuyPMjgt9\\u002fdsC4\\u002f26ISlNO6sJU4U5K0rnSx+DdK+Guq\\u002fDf4y+LZtTuZodHewj0OCJYkndxIIpyDk5Gd3XnB4rc1nxt4s1P4eHw18ZL2J9B18\\u002fYbK8SLYbm4kY7PMT7yqPuE9O9dv8TfDvj6K1fX5fD9jcWbeKI5tJjePd9l09LdY1XI4VtzsR\\u002fumsL4ofA7V\\u002fihqnh2HTr+RZ9MtJTawGTAXZI0m5l\\u002fiJOMfShVLJMHTUm7Hz38d\\u002fgR8evAPw40G2+HfwqvSbjUrtrjRJ0VI7NFYrHtzz0BOPRwO1FfS3xf8A2jfEPhGXQPBupaZda+kenTvPqVtyfOSRFIb0JDHA\\u002fwBiiuyFWaijmdN3Pme10D9mjxv411mPX9BjhbTPDMt3YeJ7pHvZ7SK9aaKS4SR9yBmVDKrLglXWN\\u002fkmNeZw+CvGkfw+0f4l+MvBMHhzVtctdP0q507TIt19pyQMv2tJIJMm6ifMTyxgZQwsR9\\u002fB9Mj+KHgjwS\\u002fi74WxSSaDpngLytC16Oy8PJsvbS\\u002fdBBJZw3CyYUw5D\\u002fdQbHMqyKRGrfEOt3R8Ia38Svir4f1u0v8AX9IudT8WxWnhdtRtns9PjQ5V1ulMU10v3FhcD51Us2WVXDn1RM1GS5jjfHWkfAa41bwd+yN4Q06PUNG8faXAPHserazMNZSzsreHbGlxG3nMyf6vY7FcIQoRa579rLwjpHifU9bsvCnhKz1Pwp8KPHUD+LI5kaTyLc+H7e1R1dGGLlEgdXiXA2QWyjiPaOR+D\\u002fxq1D4matpVz4J1zU\\u002fDfi\\u002fxj8WLC6n8SWughv7E0aMi7k0mQwuz3EzwrBEZdnlzLGqMwZmQ9bpXwl0TSvhp47+FMWq6pdjx5cNcG1srfzXvrpI51nEjOqtc3KRsI2QiGIEgqkLO0jbSXs0td\\u002fy6kxaquyjt1Om\\u002fZV1O\\u002fv8AxX\\u002fbljLod\\u002f4a1HxfLYaVpyau4hl0Tdayac91C37uMeaLnehCuCjFssDXn9n+0N4s+Efw8m8J+FfEUvjXxB8RPG2ux6pPrhltri0S0kl2GXcS3lhQqrKG5UDFV\\u002f2c9Csfg38XtE+D3hzw5JJoXi3w9PJqcml6pcRPcRxJLeXVvOzhmimKBZVEMieUlxgGckBtBPDfwF+IEvhf49fCG6uLjTdH19pR4RutVuLe01tEnWVmuQQwnkSRljQII2dlXbkrupU4UYTbeqtoKftpqMYszfgn4A8LfHX4o6f8OPG0N9Y6ZpFrrENhpOualJLbalNJazbbpVdhArwsU24UyFiz7spg\\u002fLtp8B\\u002fjp8G\\u002f2nLX4NiTVNN1TV\\u002fGQ0iy8PrAXksV+1B4JJl6DcrSykpg7U3HjAP3f+1Rrvgn4e6h4K8Y2Xw5GqQy2U1ndxaCIrLzBDLJDHb26sjyRt1kbawVvN3jIcV5h8IZvFPxa\\u002fal8L\\u002fHbxjJc6MvhW7u7jWdUmnMZ88QTT+ZalpGIkuICrEtuWNpHUMPKjA6qDlUi2\\u002fhMq0VCVr2a3fc85\\u002faxuPAPiH9kO28TeGbqKTxr4MuL6G78QaVL5c9rGdRuJpJgG+9IyxtHEcmTymzu+dicSw+CGteIvhlqfx6+Btnfxa14l0m61\\u002fQN1nAEurK1KJcWbxKixiaN4Z2DxKCUDDqWJxPj\\u002feH4r+FfE\\u002fwtn8N3cWk6Fq76p4fjBdfse1HV5GaN9xwODnzG+dzkkA16B4D8VfEX4fJ8MBZuusWnhq1lS5srmdJEtbu7hJvpZJCAIY\\u002fL8wIYSRlnbI24OEYqlTfMrtNnVWmsRUThpZI6Dwl8XNN8ZfCLwXrnxP+G994asLPW9It2fw79lDw6Y7wRT3NrbYBM8v2ws3cgLu7V6z4e13Sb\\u002fxFqfgnwvqcum+DPhz4xa08P3IvNmoQafPa285jnhb5mk8mZyJPvJ5iq33a8yh8ceHvCfxjm13xv8MYPEGn6bqlzf3Xhq9uP9GN2VWNoRtiaBjE32SQELtItjnLNmu2\\u002fZ\\u002fu9Y8Lz6X\\u002fAMJVZy6pf+OtT1HUp7jWppIHmupN7IkzRAEzHBG5gThmO1YyAPPrLS9jqgm52bPrnTh4PHhd\\u002fHY8TWV54bsVt7jVTp1wwlhkRI1kEkJ+V\\u002fLkBwFxuxtU7RXHfF74n+F4vEFl4d8N6RZaxM+uXE0y3NwLmS0xb21tLczrNuVliCSnJOBJuX+KtzW9Hh8O+HI\\u002fh1onjiGXS7zXJb6C8gANxdXMsTyzI\\u002fAGGuZJSuw5QSEhcMpHBWni1dV1fwbr+n+DNNtbRtT8SaNrhs\\u002f9Es7pjGxaCcRsXaYPaySLIoCqW+VfnwPIqwU1ex6VCsqdSNzxX9o345a38JPDOveO18I3Wv6jqVpf2TzuVEVoZbGWNQyKACsiMzFP4QYyOlfik0UkF68SK26KQjrk5BP6cnnuQfSv2K\\u002faT8Z+FfF\\u002f7O97oegWum\\u002f2RaCZjEFeS7shLBctCkz+Y3msWWXDYVUCbCBlS\\u002f48ahiHV7hTuIFww3evPr09eBX1nC8eWhNLe54HE0nKrFx2Oo0zWrm5ji\\u002ftBzKtvE3zRnDvxwPzxX6\\u002ff8EjtL0nU\\u002f2LrxL7xNYWP23xHPbRX4n82VSXgAHlfwJHtZ39ia\\u002fH\\u002fwAONBHcwQXRIiPyuVG4gHgn8ua\\u002fXz\\u002fgjHHb+GP2dE8V3NtaatYprGpKLCSFXle4cQJGCJAQFbjO0b8DC4JyPR4gSeBdu6PJyW\\u002f17TsfXWjeIdG0TUfCd14mSWGxuNTu9N1G4htyPNha1kaWTeAd\\u002fmOZJo37xlB1Ap3wr1jw18Ovhq3wv1CwaPXNRuov7R1GCzVGsEaJ5fs0rIAflZd4Y\\u002fNIAAelc5ea3p9qum6vBpJuPD17fSWU2Hlf7KsjNFDcIWAwFA8oEbgiYVVwp3P+MeqXemfDqf4h\\u002fD68t729utbhkTSZZG+ztLJNNBkICrSMytKqOQqhnD\\u002fMUBPwdrOx9m6bmk2bkPjXxPr9jPoWieD57dp544Lu\\u002fuWT7PeQlJC7NngL5TeVtXmPNal34H8I2NhJr3gZ4ba80vVdHnmjjti+wT3CQ4cdcLDLJk\\u002f3B\\u002fs15pq3xPsPBnxQ0zwBKl5dWNxo\\u002fl3MSMVmsbmWaKK3kWVXYKW84KxJAVZAzABiD6pa3+p+AfhEPGmowQ6rrFkIbPVksYFSe+lKKryMoxkIM4HPzYxgHBionGOgRUW7DfEGgeDdO8DQan418LTyjTb271G7W1vW821uGDvuTvLgMEYDl9o9a858zwj4y8DXOu+B7K+kW7PmW2t6NfMRdq1xGsUuBxDIrxqj7Oqxjsor0DXteuvH3hbU\\u002fsNvcS6raBxqUFnceRPY28tv5KGNmBIl3SON3GNqsMnAPJeAPhrpvwsttS+GFvpkWi+HLDWPM0O3spLhZltmhV3R2MjBRFMzndgmRkZmBDYVw5owbZU7ydkRa3aXug6nKni\\u002fTpRY6z4Vjmk1SObYzOkkmZM5GDulWQKeSGUdqqfBLW\\u002fCHgL4tX3j34kade3eutBd3Wm2kzNNFNcwYwVzu3OwSRsjlViK5wxrn\\u002fFcXi7VJItB1+BdVsWjS4msruMNC+LmWR0bIyu63a3dlDcGMBQuMVu\\u002fBDTPAWofE3S\\u002fAPhXxbdQ65NqtxczXT3pEBnMbCdYmddyARXUirhtu51GMk41heHvIynqrM5qLwzr3iSDVrbxfFYtrdxYT3M32m7ZZ4dQlS4kjtbYqcNOkqAqoHAVR1IqTxfd+PLDW08V2PhJ9UvFs7e7t1u1CTWEyW6K\\u002flY6kyvnb2ZAOhFJ48S18M32maVp\\u002fiaaK38Pa1qXiG+khhSS6\\u002ftCzgZ82wfhXl24A\\u002fiq94L+KmlfEiS81fS5ZpNU0jRdL1d7ZrQRwXEZu1mCuo\\u002f1R2KkcgHXe7dQK6eWpOPMzPmjBNI6TxB8Nfh7rugadb6doTWehaX4Ou5CLlQLueefbIZZIz\\u002frcq5c\\u002fwB3aKk+FviiPTvhvoPw91mRtVe6juI9ftr9QStqty4t5Ucfxf6Lcxsf4Qy1J8R9a8c\\u002fGfxgvxC0aGzj1hdSeXT9Nli228ltcwp5UJI+9JHDCi7sEFhnGAKydO0T4afD\\u002fwAWWnhPSdOv4LvU7\\u002fUZsRXAllt3jS3lj8wdNrTfwrgYnkYjLCktVZk3Ukm9z1nTPiD4p+D+rah8Q\\u002fhbpser2i6fBaX\\u002fAIfjO6S\\u002ftxcSkSo3aWKIySEe6jtXM+KZfEWqeGPiZ8dtJ1CY6n4i0PTHlmQKJLuytySbYbfmQCMSOB3Y5rhvh9deKL74xanqaXkug6bY2VnqNjGZGMtvO0bRzW5jPBVozKcDnEgPavW9N+Hd7aeLNK8IaaYLi3jvra6mmedv9K05YJIjtB4wzyBj6EVSnUou0SfZQqpye5yHgTxz8SvEXiFvhl4razs7uz8JPYzQQIJIS8kcY80HsfKbI2+pzXGfGHwLY+D\\u002fABBe2\\u002fhXw4skeq6VNp2q3bsXaSI27wecc8ggbCPpXsU\\u002fgLTvh7o97qx0K4uUaD7M\\u002fwBinQSQ2+7ZDtz6cJ\\u002fwCuX0TxRaRfE+5vdT0p7XWr7QZ4P+Efv\\u002fAJ\\u002fKR0eKKTjjLNukP1rRTqX5ujJkqdmnuaH7N954Z8CeFtG8c+LtRtvs+l266daarqDhftuoSxCNCM\\u002fxZiQH3xWp4X+HfhOP4h2dt4t8RTX\\u002fAIkmuXv9avLpQjSBpGZGXHXaUCA+pFcx4X+AHg+Xwta\\u002fCz4163qWqCO10\\u002fUb0FykSXm92hCbOCyqoVx6YroIfCmkab8f7T44al45vLTUbjQ38PWWlwRqyRStOMsQ3T7hIP8AtmqkqaTu9TJyaastD1X4kalqV58So\\u002fATQuNJvtDT\\u002fhGrm0JKQanb\\u002fMYpQOPmj3MM8ZU1y3hvxMNH+K+k6xrfiGAataxhLzTtm3d5khQ716ngE8ccV0NvFfz+LH8K+FWlm02wYzI802yTdEBuJccPuBYfpVC+0bQfFnjvxBr9jpduL+10iZGvLhNoW7UFUDAcgDIPHUkVneDsiuSyvex5F+0J4m3\\u002fABo1vUvh\\u002fps0OmXs4lkvFnP+kXAVVdlB6KcA4+lFWvGfgaXx58KdC+HXxCs4rLxRoVw0mqXWlviSQSJlQ2AeMEdeflFFatw7GXs\\u002fM+S7P4Zaiq3P7RXha2fXNY8UeBltvGPh7UvEDP8Aaov7MZD5UOC0F291BFGjLv2faA5XbuZfb\\u002fg\\u002f4k8ZeNfBHiH4K+Mtb1jTNG1a1s9Pn1GfSxJd+X8hltBEJFZEWVpVjlC58uN9xyormPhHqV38T9BPwqe31caZ4h1qxW\\u002ffR9XUTf2MHVrq0YJ8xKQXa+aV\\u002fdl3TaSa5D4B\\u002ftSvqd3efBXxN4ysbP4j2mlx6hc2TySQ2xdJSUaedfllCIsZlI7Nl+tdNZVZxbi7uJFN0oTSfUveKv2TtO\\u002fZc+JWkeJNd1rTtTbxK0TQ2b3UtvLGlm263QRwHdGZyzOzKX8tPLOXwpOV8JvGOpeJ\\u002fAtkvwpivNK8Z6b8TXgsYtcgl26dbFGknjG4FrmS62iMOu8NHEuQCWJ9M+K938FfiBezftKfEP4t3GneKm0I+GNSvrLUAtvpV\\u002fAqG7vYYv8AlgYzJD5hXmNUlDf6tqy\\u002fDsXxP8D6o2lfC3Rp7rW9T0q6ltNWmu4ZrSGaJLaG0M+SA4vGV9yLyWlmkfqtRGfNBSerG4yU2nojkP2fPiHF4c8AW+q\\u002fGH4Y3vh\\u002fW9S1K7ln0q6kAjm85P3Uc87fPFjfvRVRZCqMGQbVWruv\\u002fAr4n\\u002fDnxTf+O9E8MaPd6BHZWrW2lagWRWuVuYxHeM6xr5EpiLLHHFHJmSEFioLvGftYfHTwJ+y3c6zEPhdpUeoQeILNLC9fXYryHUdRMMkV9alVJEU1pPKzJn5jEoT+Fq9R8I+JbPxp4VttO8d3t02va\\u002fb2skcdyvlvBdbWu12RuDj7si7h1UMv8NTONSEOdqyZcJU5y5U7s4D436peeKfg4PDOufCm+v8AxDr1te6ZoWoeHkWWKK6iC7pIZQcRr58Stu+80SKFGHVT84y\\u002fCV9A+MK6D4rldR4k0poLDQ4ryZl0i9htXe5+3RhCf3zmYhcwjZLGzMq4Vftn+2\\u002fHV9aeI7Txj4sksNZfUYmtda0vRpTZ6DZykkRJJgKJprQuN54BjZjwa+Ufij4s0e++NFn4r8SW62EOsadeWC3V3sma1YOsVvceb0RJEDq7j5cYboxrtwcr02onLiY\\u002fvE5LQwvi18U\\u002fD2m+PU+GOn+EI9M0e81RdT1LSPDWxbq7vLTTbe2tbe1klyGgIja4YEncbifaZcLVjS9V0bxV8IdH8P8AxbPhzRf7GttOS\\u002f8AEmgQzQRxwsuoKklwrbldZ5LtNyghmaCJMDfx5x4R8C\\u002fDnxJ4XvZ\\u002fih4vt4\\u002fG2meNZr3wdOlylna3OmxlvPjFxkIE3JvjPaMOV+UrXoPhO88aeNPg5rPwU+FXg\\u002fSL+4vvEelXrm5NvFBdQJDczxRXcrEqEjYPKMcHLM\\u002fWt69OHs072aM8NOSm3Y0fCWq6HpviW+0uw1e1v3sdPkuYbK8RyHa1haWOOURqxmYhl8zCx5UEDopOj4e8daRqmkQeHPEmv2YsLjULa2eynvVjm+3mzSKW5aZygG+JCiyQmRPMTBK+ZWX4V8Q\\u002fCvxWmjfFTwlqRXXdc1C2ttfsvE0qytHbeSjPqTyP98TNKfl6eXHk8gVa02+k0q5uPFXjzwB4h0vR5PEtrLbyWKxmODQJh5Vxa2p6zNG\\u002fyrIvO0YHIFedXp2W530aqqS95HvGm\\u002fGzRLe81H4d6lpd5aW9trdrpWjXCSR+XeSKzCK4tmXfszIh65bor7SQBX8VeE9D+IPwD0jw18TdS1PTfFPh\\u002fwCJmsSagvhyxIFwLiSa4aOEJlsPC6zgv80asVY5Kq3M6X4Z8JXvgXT9Q8KoII9PEdtpKxXyreyTkxRwTKehCBAzZ5BEuf4q9F8ZeJvCvj74dWWha4J9G8fR61PcT69p97HaR3MrymCyDTN+7\\u002f49LWNXkk++Yj3Y15M7wT5dz1KUeaolLY+dv2qfhvoXgj4OrF\\u002fwiWr6XaXBv5dW1dkgSS5W7OIrfylcuWRd8jO6Im2MBQCTX45axconiO6jk4VLl1Q7cbVBIHXtjGMcda\\u002fcr49eJIfFug6nr2l+Kr3VJp5DNZ6RpUBdUylwjvJIn3ooyr5I4YKSOtfhz4htWi8U6lYxQOYzdup2c\\u002fKHwvzHkjgY9Rg96+k4XqznGalueDxNCNNw5djZ8PzxNNEyTMrK4bac4VR15AOPrX7Df8Epx4V8N\\u002fst3kf9qS6xf65f+VBpOnKzNFcL5V0h6AgkKvzL82IyB1r8ffDlhsj+1SWrLIsnDYyN456dzkCv2O\\u002f4I53Pg23\\u002fAGU7eK+8bHQdT1LWb4HX3tC0KuixBbdXH3WIbaw74xXocQuUcCrd0edkXL9cd+zPqb+2byT4aWMUnha71i10O6iS6jjC7vNjmdlICNhUVdwHT5y3fNcZ8S\\u002fEb+FNG0nxBJ4av4JPt0VoIGgijZbaLzyWYIZMDfcJwQSojHHzZHZeG\\u002fEtl\\u002fwj8+q+F5INUs9Su5LiezX91BMqw7PtBduN4ETBl6gEY5ryHxJ4T8Uan4t0\\u002fwAE28moeH08QPK11q9gS8elpMYbeKaQryFd5wS3ZhzyRXx0VzNp7n1M24RT6FDSvCr\\u002fAPCI6r8WfB2r3lt4k0W3juzpN1bbkmsmimYK5bcX\\u002fwBJtoXD4+UQp06V6d8A\\u002finoXiz4U6Z4l1i8kiluIku7iZYXMjNKnyyN8owMBmChcjYDnBOfNtKtfiF4x+DcXjxNQlOnaPf3fha11cqElv4oZpoomdT0Q+XkDu7IO1djaeJNb8P\\u002fAA58N+E9ambVbe8sbY6i8tr+9DK4j2hV5VMAkDuCamrBtaoKUo3uj0H4K69ovhfxh4i0vVra7m1nTFhm1K4miBuXidNiu6hgHDO0eCBxsAPWrPxD1CXW9Ru3n1vyxo8ImitY3UOQ4k2lmYqCoXcScn5g3HzcU9K8U6T411a08UxaSwW6uYtO1SbyZFaNRGZmRz\\u002fsgkfUVFFrEtuL+\\u002f8AEdrb65ZXWqJHDYJsUSqYd0Uchb721wTz1znvWTd6hpDm5R3hmyXWfhILW0vI5Ydd0q3e0muYWV5g\\u002fmmSRVJ3D7yHOc7SuOM1xdn4E1HwNLpfhDw5CdTtrlz9ruWRFe2cO0onZ8lgvyxpxxu684qHxsmh3Xwy1Txlpuo31hfrdW0LaVHJ5ieQVEe1T0VY978jht3+xXZaRruseK7G\\u002fwDE\\u002fgZWNxd3Nt9ltLxgvlfZ4jFcu2eqSKqHH94L6VVOE1Hn6DnOLfI9zx74rfDHxr4mm0LxRqLQ2G\\u002fVZb3W7mOcoJY7eUszqCDs2pIyc\\u002fLtbnpXc+GNS8N\\u002fB8ai3hq1ttRbXLq306WSzk2vG1smZEbePmC48k4\\u002fiGMEg1qTeBNB0PwPqui+LtRd7nUNPmWVLZy0coeECS2U9EOzGT2IB7V57a+Adb0vVrvSvHF7cT6SuqW+sR6haMfNaMeXHLEFH3JJEDZPfy8966qUvaRcb7HPOKjLb5nS\\u002fDJfiH4h\\u002fac8Uavqvh0f8I7pXhia90UQ3GyASNOIFjQDhmT7Q3A+4p7gAnQuPF\\u002fh74zQ6tqcF3Yahrul6nBbJcaISs9xmKJthUc\\u002f6wDcR1B\\u002f2a9B0b\\u002fhHtc0S7g8M+GZY475N2rSFiQkZjQjaT1ALKVHua5bQvhHYaXo+sa38K9Qgs9am8Qx6h4TvVXm2vHhEN00y98IqCtJSpTi9LNIyftU+6J\\u002fiB8I9Z1aDV9K1VEtriae0uNb2FvNW3MYeFYpByfkjkjHfPtmt7xZ4l1q28PeG9c8FeK4tXuPD19FazX1t8qyRyyKrwEnhgmQMjuOa09Q8WS+BtRtrbX7C41DUYS9rfXhbBurdo8XCbe2wyPIg9AawPAOjfDfwy9p8PNUvpNQ0FLlZY2t18opbujZlP03Ej3Brm56koqXRHQlGPTc2\\u002fg54q8PfEb4I+JJviC1xaXut6XHZXds8pM1ssYdkkj7GRgwz\\u002ftVN4m8O6TYaJafErwzBPqGs2dpYpHbXRBuDHFKCWZuzFc7lHXzPasvSfBPhvwF48ttBt\\u002fHkb2F3r0cT20iZ8mYxkMu\\u002fwBiAAPda6XUYNP8J6HfeK9USH7BZeIY7C2ktm3vPLOioAR6Ljg+mK1TklzLZmMoU27PcfefGfwh4rD6XpcoUXM1rcRyNHl\\u002ftoaRpEweVQFkTHQgGuXUXHh0afefEDXLV9QF55V5qKpiAXDkiID6tjH0NY+m+BpNP8bs88EV3HbFriKRY9pTfI5XJ9QuKz9a8N+E\\u002fih4ZufCvi7xjdJAL2BfsFs5824YBpQ7Y9G8pfo1XFqejM5wUdj6F8aaU\\u002fh\\u002fU7Pwo+qxx6nHbxTXkqSMu6Rhyw29QdpOPeuC1DxDrur+Otd8E6FP\\u002fZlz\\u002fwAJdDfXN9Om77TaLGH8tFPJVthB98VsfD7xJofxUTRde8dX4k1\\u002fTYkhN4jlYLscgFwf4uMVzfxF8U6bd6rH8Q\\u002fE1wNIubXV57Kzkt1wt35LMuVPuAfwY04KKloTLma940rqUaih+IOmWJWbWbiVLhLpdjqIHMakjtu+Y4\\u002fuhaKt2t9fa\\u002foNgtsFuZJkkuJUtzlIwXO38SDk\\u002fWihzaY1T0PiH9kD4paVqMlj4T\\u002fZr+MmoX+nyLJpOr6ZYwPZR2N0HEtmsTQlEtJ84y0AjWRZJXxuZy2V8Y9J8GeEfHtp8RP2V7KxtLjX9QF7rs2pRXk2o2lq0nlyeVbSSEvKqNJ5kaleULdRkd94Bk0zxFZWvxK+Ltl4c8MWOv6ympGTwzokljHC9mDcR2+2CRDcCSZYkzIEcNJGqymOYER6Brtx4gt\\u002fDvii38EeMF0qPxtqJ1u6hslR9MgjiZbbfh3luESfzZZiki7oyGLsMxN3RcueVjjai4rmOZ8b+Lvi38a7Hw\\u002ffWXgOK\\u002f0PUdEtjZanb2RW6txe2nm3U0qtI65IinykiOoieLO47mbR+FfhP4AXGnaKPAMeo6lo2v32m6lqngKLU3hupVim3214JmB852G195\\u002feA24IyrsG5jx9rniDwB4nT4jad8X\\u002fAA9qFj4g0KC4vr7w9K+n2mllILaKKNBHue7t5Y5JZpY1NsywgKs+RuPJ\\u002ftYeEPGfwq8dRajpWm3V1qOq6bY2+j+NPD63EWn6fqtlavFKLeKQiPZF5YCuZGLJ5JC4Rkp+wjKK5SvbWVmbf7Z3hvRbj9q61n8W6QuoeJ9N8YPpsukTant0yKW6ikuLGRnKs95ehD5skpYYCrGcD731d8NvhRN8V\\u002fAWkXP7NnxWm1fxX8Pb+az8W+D9duTGuqO+37RNEzuTJOsRGA2+MM7FfLZlYfPPhX4ba\\u002f8AH\\u002f4ahviJ4lQ+OtM1bR\\u002fEl9rl\\u002fpqtDe29raPGLiPyzGVllCW4KSCPzAu3exBAPA37MHw++AupeFfC\\u002fjP4zeIfDLeP5dSGm6\\u002fZ+IpCzQQRfaZTBcRqzWsg+x24aM\\u002f6xAE2J5mYyqoVoxjfVdDKl7Sndo9T8D\\u002fH74Z6sPEvgLxUJ\\u002fD3iDwnIIX0fXJzDf8A2dnWMXGyfcBNHJsX7zAk7lK72J88vfB\\u002fws1zW7a8u7+TSPDM2lX39lpDp6RPYssl5JHLKUAJMkcfmb27um4BiGqX9tbx2nxKF18R9bsIdQGswQWfhPxLe6ArT39lcPDEizPEN6rGyK+xvMYFs7\\u002fl41PgCreGfghd\\u002fAj4165aw6xZrfaZ4f8AEzKITLOHENxZkysHLyZlWIEsroiDCNlaqlCEHdKxrKc5w1Pmex+B+p+DvhlceJtc+KOlarfNEINA0vU7AbtLeW5aKWATDLyzyIitgsNsMmzBGSOf+H3ibxR8IviVpWoaPeomgosmq6tp13P5raTbeWbYrGzjzDm38zchfDZ2kEBRX1Z4t8D6F8Dte0jxv8O9Pa80KTw5dSTeFtfi89bd0c2xu5FZTiYsY0iXOUVBjgmvl7VfDfgj4yfEvWtPsrG98PixWQeIrye78y31C1ZFkkigdV+d25SJOrllzwSR6UZ05xalsec41ITUoPXsbcng3SvEOo3\\u002fAIi0vweupp401K1XQ\\u002fDb60xmkTEMEtlbtHJGXWRJphJGcMsVvsRkyQfabz48eEtU0DT\\u002fAIXeJ\\u002fiINH8P+Er2Xw54h0We0le10u5i1GS4aDyA2+dEKqoDvkDyyrKSSYvgJ8P\\u002fANn3Tdb8E+PfA2i6bbazbanbTwzeKZPMtpGbZcRmyjhjeWWYRNLM7+XGr\\u002fYwg\\u002f1vzcfqngnUYvF3jrwzqh07w9J4o1ibVNdmk8yV5ZQzPE0aoPMjifYS7bN25lB2ruB8zFUlOyR6eGqpN8yse1fDLxB4FsP2d9R+IvifX7G\\u002fttdmun0XUNQkhuLmwtIpHVZpoyMpuklCGSLbucE44rivHPjr4lQfBjxhofivwo86+HvEqR+F9d0+1ilBtZ3hhnjhYr5cgLxS71CKRJufOCM+MeEL7RNUsZ\\u002fD1v8ADmeKHW\\u002fClzfyaXb24gaFrJvLmtwxcZtGuQzqwG\\u002fK4VSScel+I4\\u002fFHg\\u002f4bafpJubufwzqmmLfMbiLeLXVC+0M00bH5Tsc7WVSwEbkuXLVxToKB6GHqyxFaMejdjlfitr\\u002fAIX0XTvFnhKw8VaZdrLpdqBLbaF5RImgfzvs4GBG8RUAuBh9zntX5GeIPIg8Y3kd6zW\\u002flXTrLGG3YIYgjPc8c+9frV8Sfi\\u002fpth4Yntv7AsWvJpliur6ddkvkIGCnZ91Fbc52L0wCfvV+Tfi5mu\\u002fiFqmoXYWUzajK7y4AXd5hbIA\\u002fP8a9vh1OLm3G2xzcX4Grg4U1P1NrRru2uPLTS5pCnmD94eP\\u002fANf0r9Rv+CW9z4ok\\u002fZesfA9hrV7HFf8AiOe8ksYpmj8uCQxwiRQrLuYycgN8p8rBFflToGlyzXRmaRhhdsY8zaM5JBz264\\u002fGv1r\\u002fAOCenxC+H2g\\u002fDzTkOjyaXP4niS2tDLGJEtbW1bL7JTINrsUUL0yeM8128QSf1ayifP5Ek8U9T7B8E+GfAGi+C4vDs+q3+n3Wr6nNaaTbwxBoZADJN5TBjlFctnJO3cNx+Y1zOvfDjVrq\\u002fbwfqOofbLuS6WP7ILMW8lq0qzMs6MG2rCHd3I6DcW64rS8HavZaponk6ncrJDpdxLNaRW8PmS3SvucSuhXATc5QAE7dgOeK6jVdK0vxPZXt9rzxlPstta6lqCTlJoppEaKFCMEYyQu3cMBc96+FvUi02fXyjB6XOL\\u002f4R3X\\u002fAIZR3PwM8beIItd0nVdMOsTQrcyKyTRtKkSxSBtxl85nmCHBPlDH3sGj4uuNJ1jxzqnhTx5rTXD3MlnZaXfTWAjWxgjiid57gR4EjZJZlG0FIjk5YsE+KngDXvh5b6jrs2oXutvYTs9tHDMqOgiZdjEEneViZsDcPncHtXMa\\u002fe6j42+HMHxA8P8AiOGaw1aK8t7qeceXdSFgsEUsiKRjAm2sE3fLHJnO7FdcW6quYS\\u002fdfBueswalcweDbi18H6Kz+HtW8OQ3bxwSbzLcgtlCx5O4GPBGDs28CuM8LX\\u002firUdb05IvC9xdmLUY5dR0u\\u002fj2Rpc7G2ghOWQR\\u002fIc9WGO9HwkvNa8JWEdhbeLhcWWmbLm9cPmV1DlyqqyneAFXawPEaqpztyeq8W2zeL4L7VNA1W+a6vbdI7WTTnGQZJSWlEgYcrI2FBGNpNZTppSsi6TbjcdDo2q3OmT6JpmnWK2GoKzedPc4dFyELnPIZvlUL2KEd6PBsdn8I\\u002fE0\\u002fhDxhcwQCzhmgsNThuA8F3GyfJknuVaRQnYg1jJ4t8LeG7M6j4g1Z2vH1CNYbOSQZtwOFOAAJAxEgI3ZygPaur+JmgeGf7UTxHqetWVtpZSC7hzIG8yWJHiVuB2dW3cD5sLznNZ2lzcqN5OMYXYzxz4k0MRL4S+N2ki30+a7lXTNc0+ACF508mSMOB9xhGXz6lh61U8aeKj4m1vyPC8Mtra21mfNuigWbyFWQR9fXaXH90sB3rk\\u002fjfqTfDHwjrmvalp1zJpn2GKZFW5Fw8vlTptdUyNswYbTjkrx2q\\u002fe3ui+Avhhfv8AGy6u9Bur22s7bRrq9t8q9xc8QGV1J8qMsArK3QN71bpTglJGanGadmdT8NPj1p3hzwlb6N8Q9DfTAHNtbPFGCmogguOR\\u002fDtZQR7NU\\u002fiu08P+FvF9r448PeLpbe512OSK4kuJB9mtkleIIY0Pf9zIT7lR3rl\\u002fCOqaZ4nvofAHjaydPEeh222fS7pFSGKFi6CaNxwcrtYNXY6VaeBp\\u002fH9n4X1vwzcalpuj+IoLiGB5FYosNu7qh\\u002fvKzuu73Ira8U7p\\u002fI50ny2bJfij4z1Rdal+Gd\\u002fJHf61L4aa40TV7SEFJEZGOHI\\u002f5aBcyH+6MjvXE+BPCev+K\\u002fDdtbm9nsLyW7gspWupifJ3bzGCD13AxnHq5ro\\u002fjcsXwx0vw2bS0mF5r3jS41C9SBlLWVu4aNLUn+FdkSqR3LY71r3\\u002fAIo8L+A\\u002fBOj6le6Zd3N54\\u002f8AGkenxrDKHFsy2x8rp90lVC57kgdq0UL62sJTu0i58dvEGieBtANrbaaU+zajbQ3M08W6RIpGUpchu+Xxj0xTLfTvivGdGu9biilm0nTkn0uCAs0V8sbGINIDwJGYHNbuseIdQ8UatrngzxN4Xtr7RplJN7Mn7xLmCU+TCnrHtGc\\u002f3jXL23xU1bRtXl1G0sLwwWn+jwmblFf774HoWYj8KmbcY8sdxxXM3I0tRu9ah1SHxYukSW6O7TavY+XudNiquwr\\u002fAHWLn865j9rHwvqnwGudE8SeHbKaDS5fEEeteINZ8vLKrqwSzQdlBABH0r2D4WaKvxM1jxL8Z\\u002fBGqSanBfrFaS6FKNptSkSkgDsCWPNM+K\\u002fiTx78QvD1j4f\\u002fALK0+6DXr\\u002f8AEiu03gxxtjzCf9nHT1NVS5Iy97Yyqc0vh3LmqeGNIuLafW\\u002fD+ixJYS6FZyafJENi3Mpj3TKB\\u002fewSfxrw74ueItG+KXw2T4S+GSmi6jomsDV9OlZCUmEp2lXx157e1e7+PfGPh\\u002f4bXngH4beIpGWTULB7iJwm1UkB2v8AL\\u002fu5x9KpeC\\u002fAXw9t\\u002fiTqeuyeHYL5r1CUE0eEhUMzk49eQM+1aQnTpO8jKUJ1VofNWo+Lfin8JPFN58LPhPqYvNRit7e91ZbuMstuXU5VM9FJIOPaivqfxr4D8LW\\u002fiJvGFl4ZgMmoRbWlEOXZQxxn8qKydalc2VKokfGHw1+GHj3wJ8I9M8YaHc\\u002f2vrmk+Er618OjVL+1gtr3Xrm1\\u002fwBHt23MVmtlkgd3dsMcx7gggNcn8O5dI1Ox0PRX8W6FYRaaJH8daDo9wGKfab1FS3kQyZAhVppPOUny\\u002fwB0pDb8j0n4l+FtX8d+H\\u002fDF6lidAtrTxWLfwpcQanNbNb6bqaQwyPtJ2vdKkbgwspSNYpXwChrwX4r+JPCHg+38TeFtC8ceIdOm0jUtP03UpoL2NLXW7vUY4pvNuoePtFvC0S25ZssIpWAKkmvQoydTm7nFVUYryJPiV8BvCvhDVvEP7Qnx3aTT08Q+JrvR9Ot7OzML34S1HlQ20LAJDJmZQTxGVi8sEyAxi34dk8C6V4Q8b\\u002fCdvEWsaNomq6KmlapPq1pNK2gX77I7qZI5MhY7cuI0kQnCS+a+F2FqHjW6+JvxP+HnhvwL8WvFWoWa\\u002fFqC3u9U8RwKwhs9Lu5Fu0nkuU4eYboVkQ8AQRr95mJbomof8Kz0a18G6Uup6x4i0LVodKu7i8WO8eCSKNh9pa0kBXzJVlknjdP7jOnzNLWs+d00m7Mil7PmbaJ\\u002fH2leP\\u002fgbdeKvj54I8dyaV4T0jXI9C1S\\u002f1O5hvo9SsLoQxHy40YmQxFITHwNweOUHarA+p6D+1Fp\\u002fjHwF4ok+Kl94W8O6PoGmWlsni2\\u002f00S506WxljupUifhZpZDHCoQlQRu3nBx4t8QtP+HXij4b6Z8NfEXjPUpbvStVso9b1u4s1S7vpjI07wRMQGnh3XfmO5LSBWRMjbg8j8TLPXdZtLDwN4yMWu6hoOmTWOraZoSmSK4j84yJFP5gKz3PzW6q6\\u002fMoiYNyKS5ZcvMaN3XuHvXhH9ob4VftI6l4G074DfECzSx8OeC7LSYNOu0Rrhrtd1ugnglKsqxjaTK2F2sHG4ISOK+InjrRfjl4gufhVF4J1SfUNX8SDT5rG5gK39nfo8ouLu2fO1nSRZ2wpZPvAMRlq8w0\\u002fUPgb8A\\u002fhZL8WPAOnWOjapcWs1tHYahZC2k1G7hjZg0MhAL7WjkYgfdZkCcKK9F8aeOfG934f8L6l8LddtrA6T4XjvLmPWdMWbURqTSR\\u002fwCiRSnkkNcOJWHAAcDkmtoxXPzQ2MHL3eWT1Od8N\\u002fGC+8GeD9IsfDXiS51ax06VtB1Hwtq1u80se6F3tLiaRQVcz7owrMykSqNgfaSLmj\\u002fALSfh18NDqfwtv21e+vr3S9Q8PWWvMiyabZeXdSTyy255uIpblLeJXTORDJgA5rV+GZ1bwz47T4bvb3eo6f8AGnVb208RT2482ayv0KQypGH\\u002fAOPVLdnYbSQfLkUk\\u002fJHXq\\u002fwY+GmsWmr3c9\\u002fp1zFp\\u002fg+\\u002fTwPHM0qzwapBFLqDzxi5HMkYzBIspy\\u002fIjzgVTrJRcuxMaV5pbnhmjeLV8UeGfCFuNU0i81vVp7jRb7TdG014Lmx0qcR26zQRPtMLxlcxZGTHGCTlxXY\\u002fDLT1ks9EsPinruiX0sOhQ6x4zuJbxmN\\u002fJpszTR20Vyiskl3KqvGSrBd21cggkZf7ScWk\\u002fs5\\u002fFBvFlnpix\\u002f2L4b1zSzemcPvFxZXdtayEL0KSTIFB6AiuiTSrP4lfs86NokHixdes9S8ZwapPYSQLOIrgRxTrG8v+s2lzKNrfLhxtqa0JSoqUWXR5Y1WpI811LSj8N\\u002fiv4j8bLf68uieINXludAhksftDaZobzzW0jXCxlisqBJC8YBJaNW2\\u002fPk+3\\u002fES+8T\\u002fsy\\u002fCXQfBsni3Sr668U60dUtbSFS8kEZhjUzSQuA0cRQwxqjgMHV8DGa6nx74S8VftI+J9T8C\\u002fCiyvfCl5pHhY6ZZ+E7mOO5sYtMa6Ebskh+UKwRyT\\u002fdjVfuil\\u002faQ\\u002fZ1+AnxQ+JE3jLwmLPTZPD3h5reOBFw920EAQvhfutIUJA7\\u002fL3zXnTjKac5vRHtZTKMczpUoreS\\u002fM+QPjLNq\\u002finT7vUPEGptMHdw6iAIxUkoVwOihh096\\u002fMrxbpcNl4w1S3EpQW93IsasM9GOBX6j+K7bTdW1XUi8MpjmCSo0WcJl8mN8\\u002fwAQ7\\u002fhX5q\\u002fH3TLbTPjV4is7By1vFqDhGHc5B\\u002frXrcPz99xPqPFKnJUKMumxFolrNqARYzGhZFXfwFB9SSRiv2D\\u002fAGcfCXhLW\\u002f2Nfhjrdh4Mjjmf4e\\u002fZ9fngiEsy3FvfvJbzxRgnLkM2f7zc9q\\u002fIHwNJc210EYRskk6FlkxgjPQ56\\u002fSv2M\\u002fZYvkvf2NNC1OxiiRLbw1byXsNpdhWggb5VCY5ZyvLAfdGK7c+vKhC\\u002fc\\u002fLsj5fbysfU3wNl0UaDHqPjrSLFNVl8S3UNj552SmKNEDiQdg5Unb\\u002fAAliK7vUofAZ+B+u\\u002fD\\u002f+y1g1bVtRW5lkvCQ0bRzEq2R0KqvHu5rwfX\\u002fGPwM1z4Ux+FvFviy8j19dVFvezbN1zG0rQMJ1PfOxSXPILkd69HvfCX\\u002fCe6PNFN9sa+0aeBI7yEbVuISCPK3\\u002fAPLQBg5J7ECvh5JwfMj6tNT9xnB+K9D13T\\u002fBuoeLo9SPk21yralYRsXljhZ4oQQhB8wnIDDv5mO9eZeENf1ibxxdaPpng\\u002fUF0\\u002fR4EurfRkRXTy5PlJZmAyH+4T6g+lfR194i8P8AwfGk6vpMEEt5ZvFc3NvJyLqEj95CM8bmjDhc8BsHtXzx8dLLUtO\\u002fa18c\\u002fFv9ny6a58M6pa6bdafZQzhY11CV41uomB6RcqwUcbwT3rpoNSg+cyrNqaSN230d9fu9L1vxb4butLM1m1vp2mxN95I95VpXHBUFMN6Yau30\\u002fwAOXnhGSbTPDM4P9lvHc2d0k29L+0RsnHqS7SMR6kVh6p8aovDn7Q7+DIdftY21C1f+z9Mu9pI8sDcEPcNubHsBXYfDvU9C1HQ77wzo2om1i0y5lh1PVHVVaB1G4WwB4woJ68fNS5pwfPbRDUbxaucTp3g\\u002fStJ8dSarrWiLf2w1Gyk0uPPmSynDMz7ey5kx9YRWdd6vB4g8ZX\\u002fheDT\\u002fACrTw\\u002fn7RBN8yCSSdpZGf0BlkHHrj0rovEd7fXXiTVYbOXybX+1F07TbiOXAuI\\u002fILI0eOrKpBwOODXnPjh\\u002fEWg\\u002fEQaZCltbtYLp0UmojIDyB8vLID1LBW\\u002fI0KXNPmS3GlKMLNXOm1fwToum\\u002fEWzn+KcupW8ml6ja6jbeH8ttluVlMsi7X\\u002f1kbCHk\\u002fdAkPtSft++LvCP7R+qz6V4W1adb3xVZWLy6ekn7tLeMlnRR\\u002fDJtzlhx1Pat\\u002fwDaf+KsXxS+Jll8QdX063sI7nRxFp0xfEUkcG55DG3cFQ4PoAarfED4X\\u002fBG28NQeJPAeqfa9et9JuJ7ddNcvGYZAJAGI\\u002fuh2Q+6GtY80ZpshKO6VmReFPij8LPE\\u002fgcHW9at9Ju9NnsdNfUpZf8AS2hEjeXGW\\u002fiRQ+T6bv8Aar6K+HXwN8CaZfXXiLQNamvZrySCFJlmz5kYUbWX3AwT7Yr4c8QQ+IYfA03hHU\\u002fCtgukz38N3cidB5sd4six+YG64YBVx\\u002fsivuH4E6HY\\u002fD3RvCXhyXVvtVu2gJqL32\\u002fhbs8mH8F20OEI6kubvZlf4t+HPDHxK0y+8E6\\u002f4Cmt7C011LPT9Rgyr52KVuAR2DAk\\u002fSuK+F974IvfiH\\u002farrM3hzTriTT4YJYz8s8IKPdoT3OQN3sfWvcPFXxG0vwhoj3unaQuo308M032VTkAAFgPxGK+Zv2s\\u002fjQfgxpeh\\u002fEHSvD0E84a4nuLCBcI8EqrvZvdXO6umnD2isjmlPklqd94zXSbzxBYeNdC165udIt7i5hkitnBAZzgSSZ67cFaydB1x9X8K31leukpe+uVbcg3hXbgMB+Wfas2Hxe\\u002fiPwpotlY6db6ddaxpM95p8ecAyN8uD\\u002ftE7iPbNdHqei6Z4J03T\\u002fEmgWZZ9YvYbbVBK3zl8H96vsTk\\u002fjXM478251e0aVo7HoP7MPxE0z4caH4tFroWE0qK2llCtzK7DaBj8z+FdB8FYdO8VeGf+Fk3EbPfETsc\\u002ffjjaTJQfgK8H0wfEy71zQ7PQI0F5qXjaTRdXif92pSK2M0SEdy0e3n\\u002fbr0v4V\\u002fE688VePfFPhuPw7PpMOianFpeo2Qb5YLtQ5kAPpyn50ezcqTsZXh7R3PTfjD4X+GPxX13wt4wax3X+n6fcxabO8eDbiRQD8vrwa8A0qTxp8GooE+MXiWK6vdU1l7HRGtAVOCfkDKPQYP4V9d+GW8N+DL6w0WSIzxXkRZJXOfJzgAfiS1eb\\u002ftJ+E\\u002fDHi7VRYHRIZryKRZ7H5ceUw6Ee+RUzSdNNv5GeHsqnIlp3Oc0XVvE\\u002fjTSo9L0TTftFxpZMU7OxAOScnnuGBH4UU\\u002f4efEfSbLTJ7Pw9exK8V5MLkxjJEm75wf+Bg0VmoJr4Tocnf4j4L+OXxw1V9A0P8AaB+HPjC40HxRLqD6la6\\u002fr2qGT+zpGvJLT+z44ipyDaq3mBVQqwIlLByRX+JXhP4XfEy10HWdO1Dwj4L1zRIzolvpl\\u002frN3q7axNCXvUu57gvuljijUssRDLLIFQkIADx3jDx\\u002fdav+zxffEq28MaLDrnh3x9aw6dcy2JmixqET3cjPE7YZgIVjJ4Lh5Gblht6zU\\u002fCMHh79oLSvBvhh7aJfGUul6h4tnv7BJxcudNtr0xWyLsFlEtx5bosfKhCrM4bA9qnFL1PMm1LQofDbxRonhJdT8T6JpCQx\\u002fDqGBNB0XxDcPdT3SprY2y7Vj8qOOZIY3byIoH8wtIxkDZqvbN4f0z4St43+I2iCTxJ421bVdc1yPU5gLqbVL2e6ikvrh4FCrAgtl2W7LuX7RKp8sh2ls6rocvh79rc+EXu0u9F8X+DzqMdnNCUlsrmFjExMsbKZUd0MhUhdu8qpHWtLRvhLbSz3njLWNZa5u9aM+s6zCsRWCe6lIiO1C7GNB5m7bk5bec5ckZyqNPUunTUnzdil4j+F+s\\u002fF0az4b8AeHdPv\\u002fDfgHw5YanZa5bTfZhaajNcQx3kyAquIm+zyNEqqu0B2+QqAbvh7w3PYSeKL\\u002fwAY+HZJrfS2ivJTbWVvqRN47GGebzCipDGqfYx9zBLJsjjLPMItJ8Y3vwT\\u002fAGSfi1q+kQi\\u002fuNOEVjbzXrZYxLcvvViB8yuPO+XoDOx5wBXVeM\\u002fiRN8HdEs4NI0K2ubbVPDWk63f6dISltNd3awqSyr8zKg6KzkevQYmNSSldGnsrq7Z82eNPBGmfFv9nzSPBPjV75rfwvrEd\\u002fdXLKxYpexvMt9lifOhQJ+6Df61XRCVK5bq\\u002fhd4c8V6f8fdT+GWjeJbPxBaeENL+yJexTPHcxymYRG63AKsZMY2sFIy7OcjOB0XxX8VwaH+z74H8S+DvDVlY30mt2+kahNcmS4+1Wb3G0xMCw4A6ddp6YGQcWfxZrXhb9qLxf8AAHR5IbKGfw7feIDrOn26xXLyR2SzPBJncHjcyuMDbtyDziumE5ewcTGcIe3R6H8YPBXg6JtG1P4a3unm4u5Ztbu7Y6h5cOovshK27SRSeYkDTW4LyAZ3rtJCsy13HhTxB4q+F\\u002fwaGkeKrDRJbPxT4kD348DamL63OoXcFxJHLIrxxtA4eCNF7HJLlgBn5J8RfE2P4cfCTRfjdp\\u002fhW0uNQ0\\u002fxDdeHtQtpWxFdwNfXU5KDH7ld0any\\u002fnAJbGFIQfZX7LHh\\u002fwAP3\\u002fiTxBcadpgtVlkZbi1ZhJAzpawgMqEDaP8ASTxk4KcEA4HN7N6c2xt7WzaW5xnxc8L\\u002fAAh+PPwci0G91mbRLu+8QQ3EV7e2aztctaRhbiM7I8pGyFz829WOcAEHPL+Ifgo\\u002f7PnwOHgOLwpHI9zrNtrZ8WeH\\u002fklSPKTpArFhyVTBG3CjI7hj6l+0l4E\\u002f4Z71rwTpngrxDdmTUIkN1cTqjFhPMSy4KkADJ9+etW\\u002f2jNOv7KfwR4G0vVWjtNR01ZrpZo\\u002fMV5d2wPjIxgHoCK61WcEktjm5OefM9ylZfGXxV4M8DQ2fhAWq6Z4oW0066u\\u002fsu2KOeZnysSRlSAUxwApLMx+YAkY3iL9nOz+HnjDw54isvE7XF38QLG4XXtHvtRkSTSJ93+jMyF23lV3qPuhhliCcEewfsr\\u002fs2eGvHdv8SPEniLXbu4TSvFf2fTLCVFMNtNZSO6TqBjk7sY7YHJqH9nrSrH9obR3+JPxEsLWfXFcXaXkdvgR7fMRY1XPChc9STkg54rxcTV5ITR7+VWljqfTVHxR4p8IpoPju90NtEnubXULjyLbbI2LhOQHZgSxJGMAcYr82f2s\\u002fA7eHP2mPF9j9g+zLZ6u6Lbg5A6cev581+v8A4a06LW\\u002fjZdWmotuWxvInh2DGFRDhRnOOnJHJr8vf2zNAGq\\u002ftF+LfFMl4y\\u002fbPFUkEtuATyGHz7s5yeOPavR4erP61Zvoj7XxNpRlkdGV9b\\u002fhY4D4N\\u002fCfx18UfEf8AYPgnw+t7dWsL3d1vYJFFDGu5mcnt0GO+4DvX6r\\u002fsG6zpfhr4H3XxR1HwBqi6h4kjlW00+Bfks7lrhFYLCePKZmCqOwI9a+Q\\u002f2Gf2bdBufipb3ms+Irue2QGW5soQYlucKHRXIY5Ckj8hX3\\u002f+z14k1L4XaTrus6JIJF0nVYoobSUZjkh85FCNnJyG2sGBBG3Hc1355io1ZxpJaI\\u002fJ8mw7pwdXqzN1BPDNponjm98U6Ot3rWg3bm88FC3W3uNQkmcqA0m1soSrufdF5r688J+NPE914Z8NpqXgKOxkitfJkgLphRGqAx\\u002fu8DJbIyo7c18n67oek654p8U+P9Qt3fWPEDR3N3eeacowZiiqOyKAAF9Sx6tX0v8As4z6n4s+Dth4j8R3wuL+yt8pP5eA26UZypJGeBzXzuLXupI9zD3c7szPF3wy0vw34h1aOCO5try4uIZ5kedriARSsHMcBYEoscZI\\u002fwB4Vzlv4A0my+HAfxJpdtcR3HihbGK40+0xLI90jyW244H7sEBS3bk12ceva5Y+O9S8RXGotdKdKWOC0nUFIgTg\\u002fXhAPpkd6zviX8VNR+HY0zwXpmjWk0GquNXWSZTmC5iCquB0K4ZsLxjNYqV4pM1knGTseBfFnSPg9J8ZNFjvbK5fVLXw8knh6a5GZHlWRlm3tkBWwi5U9mJ716Vp\\u002fgfXdT8Yax+z94puU0S61LSmu5LW\\u002ftV37ZoRuun2thz8w+m1T2rlfiT4a8P6zb698adasHl1KJrqC1ihl8tIXeFf3g4PQnO3pkCrPx48b6raLoXxg1xm1DX\\u002fABD4OsHvbwymLCxBlVFC9AcZPqa6abU1oc05NSszW0nS9N+Hvw00uzg0GSZvCoW1v5pk3eciRkxyK2T8xAJLerGqraXPa2uveI9Qhinn8QWsVokd\\u002fBlrdliBMinByWVxz\\u002ftV2HgP+y\\u002fGGna9Yz6aYYLvw9BdeWsxby5FRDkEjuTXVfC2Wz+Jmoadb6xpkKfZGl2sF3FisbYJz\\u002fuCsV3Z06WtE8M8Q+JvD9tpvgTww+lpq9t4e8MXVrq+l6na+W0N3PHKhReBkLI4bPqRXG\\u002fs3\\u002fDfx3+zdoFvJLrubeCzG2W7k3FWL7mi+gHA+le\\u002ffHi8jg+OWmarqNhb3QybfyzEEJ\\u002fdHDEr1ILA9P4RXC\\u002fA7wC+qfDq30TxfrsurSya1OVvJ4sMoLHjGT04\\u002fKurmUqTRyJNVLjtO8C+FfE\\u002fiPxDL8QIftWlWdui2VnhiRLNEG3Hb7YxXrPwvuLPXfAVlqPj7T59Pj0KZIVtAxUeWBjJPXDALXkZ8cat4W8ca2bCKF1mv\\u002fs06zJu34ZMNz0wBjHvX0J8Qbe2vfCTabdQA295AkjRIdu13IXdkdcdR9KztyWtsPm5rt7lbW9a0G28Iah8TJ9IklvdJuTHa29tk+Zbv8uef7qk\\u002fnXhXxH+DkP7QfjGHwbqPi2WHTAsInKDHmhoiWVffGVP1r0bxLrt78PvhT4j0zSiJV8OaKkNo8xJL9fmb36D8Ko\\u002fDf4c6ZqFlbfEH7bNHeReZdKiH5M4xtx6c1tFypO8XuZKmp\\u002fEc7qnxd+HPg\\u002fU9A8B3FpA97YGGKwuJXxErbvJK57Hvn3rpPHkfi+wg0XSvDenf2iJLiMXzySAGOMZJ256noAfQmvEPiv4P0TxH4P+IHim4t\\u002fKn8NeI9lgI\\u002fWMB1Oe3KDive\\u002f2f\\u002fGN54w8EaV4h1a2QyxxlQoY4P3lz+Qp1qKjaRVObneLO98AeKtJvre81uXwvNYNZ3guIYWVW2zRxiPzQezeXxn0Jqx4X0fSLuLxDfpqjW517UJNSurjeC5lIK8kfhWHa6w6zmCCAJHdgpKu7JI6dfpkfjT\\u002fABPpVgnxTXQ7BZLa1udNjj8uOT7mSnIyK4ZuSbSZ1wpxlqen6B4\\u002fXT7xF1KWVo5QFikdslTg8\\u002frWpJFdWa\\u002fb55475mDM02MlFPavGY\\u002fEl\\u002fa6nqPhV3MsNhLCts7kblBYZHT2FdjD4m1QeGZY7SbyTHCqbhzkbSazlSmknccXFs4r4v8AwT1TU9RjHw9gNuZWM98VT70jf\\u002fXzRXoOheI9ZvrLznvSsh275F4LfKD\\u002fADJP40V1wrSUUjOWGu73P\\u002f\\u002fZ\",\"type\":\"image\"}],                        {\"template\":{\"data\":{\"histogram2dcontour\":[{\"type\":\"histogram2dcontour\",\"colorbar\":{\"outlinewidth\":0,\"ticks\":\"\"},\"colorscale\":[[0.0,\"#0d0887\"],[0.1111111111111111,\"#46039f\"],[0.2222222222222222,\"#7201a8\"],[0.3333333333333333,\"#9c179e\"],[0.4444444444444444,\"#bd3786\"],[0.5555555555555556,\"#d8576b\"],[0.6666666666666666,\"#ed7953\"],[0.7777777777777778,\"#fb9f3a\"],[0.8888888888888888,\"#fdca26\"],[1.0,\"#f0f921\"]]}],\"choropleth\":[{\"type\":\"choropleth\",\"colorbar\":{\"outlinewidth\":0,\"ticks\":\"\"}}],\"histogram2d\":[{\"type\":\"histogram2d\",\"colorbar\":{\"outlinewidth\":0,\"ticks\":\"\"},\"colorscale\":[[0.0,\"#0d0887\"],[0.1111111111111111,\"#46039f\"],[0.2222222222222222,\"#7201a8\"],[0.3333333333333333,\"#9c179e\"],[0.4444444444444444,\"#bd3786\"],[0.5555555555555556,\"#d8576b\"],[0.6666666666666666,\"#ed7953\"],[0.7777777777777778,\"#fb9f3a\"],[0.8888888888888888,\"#fdca26\"],[1.0,\"#f0f921\"]]}],\"heatmap\":[{\"type\":\"heatmap\",\"colorbar\":{\"outlinewidth\":0,\"ticks\":\"\"},\"colorscale\":[[0.0,\"#0d0887\"],[0.1111111111111111,\"#46039f\"],[0.2222222222222222,\"#7201a8\"],[0.3333333333333333,\"#9c179e\"],[0.4444444444444444,\"#bd3786\"],[0.5555555555555556,\"#d8576b\"],[0.6666666666666666,\"#ed7953\"],[0.7777777777777778,\"#fb9f3a\"],[0.8888888888888888,\"#fdca26\"],[1.0,\"#f0f921\"]]}],\"heatmapgl\":[{\"type\":\"heatmapgl\",\"colorbar\":{\"outlinewidth\":0,\"ticks\":\"\"},\"colorscale\":[[0.0,\"#0d0887\"],[0.1111111111111111,\"#46039f\"],[0.2222222222222222,\"#7201a8\"],[0.3333333333333333,\"#9c179e\"],[0.4444444444444444,\"#bd3786\"],[0.5555555555555556,\"#d8576b\"],[0.6666666666666666,\"#ed7953\"],[0.7777777777777778,\"#fb9f3a\"],[0.8888888888888888,\"#fdca26\"],[1.0,\"#f0f921\"]]}],\"contourcarpet\":[{\"type\":\"contourcarpet\",\"colorbar\":{\"outlinewidth\":0,\"ticks\":\"\"}}],\"contour\":[{\"type\":\"contour\",\"colorbar\":{\"outlinewidth\":0,\"ticks\":\"\"},\"colorscale\":[[0.0,\"#0d0887\"],[0.1111111111111111,\"#46039f\"],[0.2222222222222222,\"#7201a8\"],[0.3333333333333333,\"#9c179e\"],[0.4444444444444444,\"#bd3786\"],[0.5555555555555556,\"#d8576b\"],[0.6666666666666666,\"#ed7953\"],[0.7777777777777778,\"#fb9f3a\"],[0.8888888888888888,\"#fdca26\"],[1.0,\"#f0f921\"]]}],\"surface\":[{\"type\":\"surface\",\"colorbar\":{\"outlinewidth\":0,\"ticks\":\"\"},\"colorscale\":[[0.0,\"#0d0887\"],[0.1111111111111111,\"#46039f\"],[0.2222222222222222,\"#7201a8\"],[0.3333333333333333,\"#9c179e\"],[0.4444444444444444,\"#bd3786\"],[0.5555555555555556,\"#d8576b\"],[0.6666666666666666,\"#ed7953\"],[0.7777777777777778,\"#fb9f3a\"],[0.8888888888888888,\"#fdca26\"],[1.0,\"#f0f921\"]]}],\"mesh3d\":[{\"type\":\"mesh3d\",\"colorbar\":{\"outlinewidth\":0,\"ticks\":\"\"}}],\"scatter\":[{\"fillpattern\":{\"fillmode\":\"overlay\",\"size\":10,\"solidity\":0.2},\"type\":\"scatter\"}],\"parcoords\":[{\"type\":\"parcoords\",\"line\":{\"colorbar\":{\"outlinewidth\":0,\"ticks\":\"\"}}}],\"scatterpolargl\":[{\"type\":\"scatterpolargl\",\"marker\":{\"colorbar\":{\"outlinewidth\":0,\"ticks\":\"\"}}}],\"bar\":[{\"error_x\":{\"color\":\"#2a3f5f\"},\"error_y\":{\"color\":\"#2a3f5f\"},\"marker\":{\"line\":{\"color\":\"#E5ECF6\",\"width\":0.5},\"pattern\":{\"fillmode\":\"overlay\",\"size\":10,\"solidity\":0.2}},\"type\":\"bar\"}],\"scattergeo\":[{\"type\":\"scattergeo\",\"marker\":{\"colorbar\":{\"outlinewidth\":0,\"ticks\":\"\"}}}],\"scatterpolar\":[{\"type\":\"scatterpolar\",\"marker\":{\"colorbar\":{\"outlinewidth\":0,\"ticks\":\"\"}}}],\"histogram\":[{\"marker\":{\"pattern\":{\"fillmode\":\"overlay\",\"size\":10,\"solidity\":0.2}},\"type\":\"histogram\"}],\"scattergl\":[{\"type\":\"scattergl\",\"marker\":{\"colorbar\":{\"outlinewidth\":0,\"ticks\":\"\"}}}],\"scatter3d\":[{\"type\":\"scatter3d\",\"line\":{\"colorbar\":{\"outlinewidth\":0,\"ticks\":\"\"}},\"marker\":{\"colorbar\":{\"outlinewidth\":0,\"ticks\":\"\"}}}],\"scattermapbox\":[{\"type\":\"scattermapbox\",\"marker\":{\"colorbar\":{\"outlinewidth\":0,\"ticks\":\"\"}}}],\"scatterternary\":[{\"type\":\"scatterternary\",\"marker\":{\"colorbar\":{\"outlinewidth\":0,\"ticks\":\"\"}}}],\"scattercarpet\":[{\"type\":\"scattercarpet\",\"marker\":{\"colorbar\":{\"outlinewidth\":0,\"ticks\":\"\"}}}],\"carpet\":[{\"aaxis\":{\"endlinecolor\":\"#2a3f5f\",\"gridcolor\":\"white\",\"linecolor\":\"white\",\"minorgridcolor\":\"white\",\"startlinecolor\":\"#2a3f5f\"},\"baxis\":{\"endlinecolor\":\"#2a3f5f\",\"gridcolor\":\"white\",\"linecolor\":\"white\",\"minorgridcolor\":\"white\",\"startlinecolor\":\"#2a3f5f\"},\"type\":\"carpet\"}],\"table\":[{\"cells\":{\"fill\":{\"color\":\"#EBF0F8\"},\"line\":{\"color\":\"white\"}},\"header\":{\"fill\":{\"color\":\"#C8D4E3\"},\"line\":{\"color\":\"white\"}},\"type\":\"table\"}],\"barpolar\":[{\"marker\":{\"line\":{\"color\":\"#E5ECF6\",\"width\":0.5},\"pattern\":{\"fillmode\":\"overlay\",\"size\":10,\"solidity\":0.2}},\"type\":\"barpolar\"}],\"pie\":[{\"automargin\":true,\"type\":\"pie\"}]},\"layout\":{\"autotypenumbers\":\"strict\",\"colorway\":[\"#636efa\",\"#EF553B\",\"#00cc96\",\"#ab63fa\",\"#FFA15A\",\"#19d3f3\",\"#FF6692\",\"#B6E880\",\"#FF97FF\",\"#FECB52\"],\"font\":{\"color\":\"#2a3f5f\"},\"hovermode\":\"closest\",\"hoverlabel\":{\"align\":\"left\"},\"paper_bgcolor\":\"white\",\"plot_bgcolor\":\"#E5ECF6\",\"polar\":{\"bgcolor\":\"#E5ECF6\",\"angularaxis\":{\"gridcolor\":\"white\",\"linecolor\":\"white\",\"ticks\":\"\"},\"radialaxis\":{\"gridcolor\":\"white\",\"linecolor\":\"white\",\"ticks\":\"\"}},\"ternary\":{\"bgcolor\":\"#E5ECF6\",\"aaxis\":{\"gridcolor\":\"white\",\"linecolor\":\"white\",\"ticks\":\"\"},\"baxis\":{\"gridcolor\":\"white\",\"linecolor\":\"white\",\"ticks\":\"\"},\"caxis\":{\"gridcolor\":\"white\",\"linecolor\":\"white\",\"ticks\":\"\"}},\"coloraxis\":{\"colorbar\":{\"outlinewidth\":0,\"ticks\":\"\"}},\"colorscale\":{\"sequential\":[[0.0,\"#0d0887\"],[0.1111111111111111,\"#46039f\"],[0.2222222222222222,\"#7201a8\"],[0.3333333333333333,\"#9c179e\"],[0.4444444444444444,\"#bd3786\"],[0.5555555555555556,\"#d8576b\"],[0.6666666666666666,\"#ed7953\"],[0.7777777777777778,\"#fb9f3a\"],[0.8888888888888888,\"#fdca26\"],[1.0,\"#f0f921\"]],\"sequentialminus\":[[0.0,\"#0d0887\"],[0.1111111111111111,\"#46039f\"],[0.2222222222222222,\"#7201a8\"],[0.3333333333333333,\"#9c179e\"],[0.4444444444444444,\"#bd3786\"],[0.5555555555555556,\"#d8576b\"],[0.6666666666666666,\"#ed7953\"],[0.7777777777777778,\"#fb9f3a\"],[0.8888888888888888,\"#fdca26\"],[1.0,\"#f0f921\"]],\"diverging\":[[0,\"#8e0152\"],[0.1,\"#c51b7d\"],[0.2,\"#de77ae\"],[0.3,\"#f1b6da\"],[0.4,\"#fde0ef\"],[0.5,\"#f7f7f7\"],[0.6,\"#e6f5d0\"],[0.7,\"#b8e186\"],[0.8,\"#7fbc41\"],[0.9,\"#4d9221\"],[1,\"#276419\"]]},\"xaxis\":{\"gridcolor\":\"white\",\"linecolor\":\"white\",\"ticks\":\"\",\"title\":{\"standoff\":15},\"zerolinecolor\":\"white\",\"automargin\":true,\"zerolinewidth\":2},\"yaxis\":{\"gridcolor\":\"white\",\"linecolor\":\"white\",\"ticks\":\"\",\"title\":{\"standoff\":15},\"zerolinecolor\":\"white\",\"automargin\":true,\"zerolinewidth\":2},\"scene\":{\"xaxis\":{\"backgroundcolor\":\"#E5ECF6\",\"gridcolor\":\"white\",\"linecolor\":\"white\",\"showbackground\":true,\"ticks\":\"\",\"zerolinecolor\":\"white\",\"gridwidth\":2},\"yaxis\":{\"backgroundcolor\":\"#E5ECF6\",\"gridcolor\":\"white\",\"linecolor\":\"white\",\"showbackground\":true,\"ticks\":\"\",\"zerolinecolor\":\"white\",\"gridwidth\":2},\"zaxis\":{\"backgroundcolor\":\"#E5ECF6\",\"gridcolor\":\"white\",\"linecolor\":\"white\",\"showbackground\":true,\"ticks\":\"\",\"zerolinecolor\":\"white\",\"gridwidth\":2}},\"shapedefaults\":{\"line\":{\"color\":\"#2a3f5f\"}},\"annotationdefaults\":{\"arrowcolor\":\"#2a3f5f\",\"arrowhead\":0,\"arrowwidth\":1},\"geo\":{\"bgcolor\":\"white\",\"landcolor\":\"#E5ECF6\",\"subunitcolor\":\"white\",\"showland\":true,\"showlakes\":true,\"lakecolor\":\"white\"},\"title\":{\"x\":0.05},\"mapbox\":{\"style\":\"light\"}}},\"xaxis\":{\"showticklabels\":false},\"yaxis\":{\"showticklabels\":false},\"title\":{\"text\":\"Pothole ID: p1268 | Class: 2 | Bags Used: 1.0\"}},                        {\"responsive\": true}                    ).then(function(){\n",
       "                            \n",
       "var gd = document.getElementById('b4a54f53-6a25-4bdd-acba-8037eb25f1aa');\n",
       "var x = new MutationObserver(function (mutations, observer) {{\n",
       "        var display = window.getComputedStyle(gd).display;\n",
       "        if (!display || display === 'none') {{\n",
       "            console.log([gd, 'removed!']);\n",
       "            Plotly.purge(gd);\n",
       "            observer.disconnect();\n",
       "        }}\n",
       "}});\n",
       "\n",
       "// Listen for the removal of the full notebook cells\n",
       "var notebookContainer = gd.closest('#notebook-container');\n",
       "if (notebookContainer) {{\n",
       "    x.observe(notebookContainer, {childList: true});\n",
       "}}\n",
       "\n",
       "// Listen for the clearing of the current output cell\n",
       "var outputEl = gd.closest('.output');\n",
       "if (outputEl) {{\n",
       "    x.observe(outputEl, {childList: true});\n",
       "}}\n",
       "\n",
       "                        })                };                });            </script>        </div>"
      ]
     },
     "metadata": {},
     "output_type": "display_data"
    }
   ],
   "source": [
    "def convert_image_to_base64(image):\n",
    "    _, buffer = cv2.imencode('.jpg', image)\n",
    "    image_base64 = base64.b64encode(buffer).decode('utf-8')\n",
    "    return f'data:image/jpeg;base64,{image_base64}'\n",
    "\n",
    "# Function to update the plot with a random image from the selected class\n",
    "def update_plot(class_label):\n",
    "    class_df = df[df['class'] == class_label]\n",
    "    sample = class_df.sample(1).iloc[0]\n",
    "    image_path = f\"data/pothole_images/{sample['pothole_id']}.jpg\"\n",
    "    image = cv2.imread(image_path)\n",
    "    \n",
    "    image_base64 = convert_image_to_base64(image)\n",
    "    \n",
    "    fig.update_traces(go.Image(source=image_base64))\n",
    "    fig.update_layout(title=f\"Pothole ID: {sample['pothole_id']} | Class: {class_label} | Bags Used: {sample['bags_used']}\")\n",
    "    \n",
    "    # Clear and re-display the button, selector, and plot\n",
    "    clear_output(wait=True)\n",
    "    display(class_selector, random_button)\n",
    "    display(fig)\n",
    "\n",
    "# Create a dropdown selector for classes\n",
    "class_selector = widgets.Dropdown(\n",
    "    options=[(f\"Class {int(cls)}\", cls) for cls in df['class'].unique()],\n",
    "    description='Select Class:'\n",
    ")\n",
    "\n",
    "# Create a button to randomly sample an image from the selected class\n",
    "random_button = widgets.Button(description=\"Sample Image\")\n",
    "\n",
    "# Initialize Plotly figure with a default image\n",
    "initial_sample = df[df['class'] == df['class'].unique()[0]].iloc[0]\n",
    "initial_image_path = f\"data/pothole_images/{initial_sample['pothole_id']}.jpg\"\n",
    "initial_image = cv2.imread(initial_image_path)\n",
    "initial_image_base64 = convert_image_to_base64(initial_image)\n",
    "\n",
    "fig = go.Figure(go.Image(source=initial_image_base64))\n",
    "fig.update_layout(title=f\"Pothole ID: {initial_sample['pothole_id']} | Class: {initial_sample['class']} | Bags Used: {initial_sample['bags_used']}\",\n",
    "                  xaxis=dict(showticklabels=False), yaxis=dict(showticklabels=False))\n",
    "\n",
    "# Set up the callback for the button\n",
    "def on_button_click(b):\n",
    "    update_plot(class_selector.value)\n",
    "\n",
    "random_button.on_click(on_button_click)\n",
    "\n",
    "# Display the dropdown and button\n",
    "display(class_selector, random_button)\n",
    "\n",
    "# Display the initial figure\n",
    "display(fig)"
   ]
  },
  {
   "cell_type": "markdown",
   "id": "9342a62b",
   "metadata": {},
   "source": [
    "## Predicting Pothole Class Using ResNet"
   ]
  },
  {
   "cell_type": "code",
   "execution_count": 18,
   "id": "6a718c29",
   "metadata": {},
   "outputs": [],
   "source": [
    "image_dir = 'data/train_images'"
   ]
  },
  {
   "cell_type": "code",
   "execution_count": 19,
   "id": "bc191ed2",
   "metadata": {},
   "outputs": [],
   "source": [
    "class ResNetWithRatio(nn.Module):\n",
    "    def __init__(self, num_classes):\n",
    "        super(ResNetWithRatio, self).__init__()\n",
    "        self.resnet = models.resnet18(pretrained=True)\n",
    "        self.resnet.fc = nn.Identity()  # Remove the classification layer\n",
    "        \n",
    "        # Fully connected layers\n",
    "        self.fc1 = nn.Linear(512 + 1, 256)  # 512 from ResNet + 1 from mm_to_pixel_ratio\n",
    "        self.fc2 = nn.Linear(256, 128)\n",
    "        self.fc3 = nn.Linear(128, num_classes)\n",
    "    \n",
    "    def forward(self, images, ratios):\n",
    "        features = self.resnet(images)\n",
    "        x = torch.cat((features, ratios), dim=1)\n",
    "        x = nn.ReLU()(self.fc1(x))\n",
    "        x = nn.ReLU()(self.fc2(x))\n",
    "        x = self.fc3(x)\n",
    "        return x\n",
    "\n",
    "# Determine the number of classes\n",
    "num_classes = df['class'].nunique()"
   ]
  },
  {
   "cell_type": "code",
   "execution_count": 20,
   "id": "5cc305f8",
   "metadata": {},
   "outputs": [
    {
     "name": "stderr",
     "output_type": "stream",
     "text": [
      "/Users/christiaanhildebrand/anaconda3/envs/Main/lib/python3.11/site-packages/torchvision/models/_utils.py:208: UserWarning:\n",
      "\n",
      "The parameter 'pretrained' is deprecated since 0.13 and may be removed in the future, please use 'weights' instead.\n",
      "\n",
      "/Users/christiaanhildebrand/anaconda3/envs/Main/lib/python3.11/site-packages/torchvision/models/_utils.py:223: UserWarning:\n",
      "\n",
      "Arguments other than a weight enum or `None` for 'weights' are deprecated since 0.13 and may be removed in the future. The current behavior is equivalent to passing `weights=ResNet18_Weights.IMAGENET1K_V1`. You can also use `weights=ResNet18_Weights.DEFAULT` to get the most up-to-date weights.\n",
      "\n"
     ]
    }
   ],
   "source": [
    "# Instantiate the model\n",
    "model = ResNetWithRatio(num_classes=num_classes)\n",
    "\n",
    "# Load model\n",
    "#model.load_state_dict(torch.load('Prediction Model/pothole_classification_resnet_model.pth'))\n",
    "#model.train()"
   ]
  },
  {
   "cell_type": "code",
   "execution_count": 21,
   "id": "a7ab60f1",
   "metadata": {},
   "outputs": [],
   "source": [
    "class PotholeDataset(Dataset):\n",
    "    def __init__(self, dataframe, image_dir, transform=None):\n",
    "        self.dataframe = dataframe\n",
    "        self.image_dir = image_dir\n",
    "        self.transform = transform\n",
    "    \n",
    "    def __len__(self):\n",
    "        return len(self.dataframe)\n",
    "    \n",
    "    def __getitem__(self, idx):\n",
    "        # Get the image path\n",
    "        pothole_id = self.dataframe.iloc[idx]['pothole_id']\n",
    "        image_path = os.path.join(self.image_dir, f'{pothole_id}.jpg')\n",
    "        \n",
    "        # Load the image\n",
    "        image = Image.open(image_path).convert('RGB')\n",
    "        \n",
    "        # Get the mm_to_pixel_ratio and class\n",
    "        mm_to_pixel_ratio = self.dataframe.iloc[idx]['mm_to_pixel_ratio']\n",
    "        class_label = self.dataframe.iloc[idx]['class']\n",
    "        \n",
    "        # Apply transformations if any\n",
    "        if self.transform:\n",
    "            image = self.transform(image)\n",
    "        \n",
    "        # Convert mm_to_pixel_ratio to tensor\n",
    "        mm_to_pixel_ratio = torch.tensor([mm_to_pixel_ratio], dtype=torch.float32)\n",
    "        \n",
    "        return image, mm_to_pixel_ratio, class_label\n",
    "\n",
    "# Define transformations for the images\n",
    "transform = transforms.Compose([\n",
    "    transforms.Resize((224, 224)),\n",
    "    transforms.RandomHorizontalFlip(),  # Randomly flip the image horizontally\n",
    "    transforms.RandomRotation(10),      # Randomly rotate the image by up to 10 degrees\n",
    "    transforms.ColorJitter(brightness=0.2, contrast=0.2, saturation=0.2, hue=0.2),  # Randomly change brightness, contrast, saturation, and hue\n",
    "    transforms.ToTensor(),\n",
    "    transforms.Normalize(mean=[0.485, 0.456, 0.406], std=[0.229, 0.224, 0.225])\n",
    "])\n",
    "\n",
    "# Create the dataset\n",
    "dataset = PotholeDataset(df, image_dir, transform=transform)"
   ]
  },
  {
   "cell_type": "code",
   "execution_count": 22,
   "id": "399122a0",
   "metadata": {},
   "outputs": [],
   "source": [
    "train_loader = DataLoader(dataset, batch_size=32, shuffle=True)"
   ]
  },
  {
   "cell_type": "code",
   "execution_count": 43,
   "id": "b1c6222d",
   "metadata": {},
   "outputs": [
    {
     "name": "stdout",
     "output_type": "stream",
     "text": [
      "Epoch [1/10], Loss: 1.1190702181596022\n",
      "Epoch [2/10], Loss: 1.139569034943214\n",
      "Epoch [3/10], Loss: 1.1258767751547007\n"
     ]
    },
    {
     "ename": "KeyboardInterrupt",
     "evalue": "",
     "output_type": "error",
     "traceback": [
      "\u001b[0;31m---------------------------------------------------------------------------\u001b[0m",
      "\u001b[0;31mKeyboardInterrupt\u001b[0m                         Traceback (most recent call last)",
      "Cell \u001b[0;32mIn[43], line 12\u001b[0m\n\u001b[1;32m     10\u001b[0m outputs \u001b[38;5;241m=\u001b[39m model(images, mm_to_pixel_ratios)\n\u001b[1;32m     11\u001b[0m loss \u001b[38;5;241m=\u001b[39m criterion(outputs, labels)\n\u001b[0;32m---> 12\u001b[0m \u001b[43mloss\u001b[49m\u001b[38;5;241;43m.\u001b[39;49m\u001b[43mbackward\u001b[49m\u001b[43m(\u001b[49m\u001b[43m)\u001b[49m\n\u001b[1;32m     13\u001b[0m optimizer\u001b[38;5;241m.\u001b[39mstep()\n\u001b[1;32m     14\u001b[0m running_loss \u001b[38;5;241m+\u001b[39m\u001b[38;5;241m=\u001b[39m loss\u001b[38;5;241m.\u001b[39mitem()\n",
      "File \u001b[0;32m~/anaconda3/envs/Main/lib/python3.11/site-packages/torch/_tensor.py:521\u001b[0m, in \u001b[0;36mTensor.backward\u001b[0;34m(self, gradient, retain_graph, create_graph, inputs)\u001b[0m\n\u001b[1;32m    511\u001b[0m \u001b[38;5;28;01mif\u001b[39;00m has_torch_function_unary(\u001b[38;5;28mself\u001b[39m):\n\u001b[1;32m    512\u001b[0m     \u001b[38;5;28;01mreturn\u001b[39;00m handle_torch_function(\n\u001b[1;32m    513\u001b[0m         Tensor\u001b[38;5;241m.\u001b[39mbackward,\n\u001b[1;32m    514\u001b[0m         (\u001b[38;5;28mself\u001b[39m,),\n\u001b[0;32m   (...)\u001b[0m\n\u001b[1;32m    519\u001b[0m         inputs\u001b[38;5;241m=\u001b[39minputs,\n\u001b[1;32m    520\u001b[0m     )\n\u001b[0;32m--> 521\u001b[0m \u001b[43mtorch\u001b[49m\u001b[38;5;241;43m.\u001b[39;49m\u001b[43mautograd\u001b[49m\u001b[38;5;241;43m.\u001b[39;49m\u001b[43mbackward\u001b[49m\u001b[43m(\u001b[49m\n\u001b[1;32m    522\u001b[0m \u001b[43m    \u001b[49m\u001b[38;5;28;43mself\u001b[39;49m\u001b[43m,\u001b[49m\u001b[43m \u001b[49m\u001b[43mgradient\u001b[49m\u001b[43m,\u001b[49m\u001b[43m \u001b[49m\u001b[43mretain_graph\u001b[49m\u001b[43m,\u001b[49m\u001b[43m \u001b[49m\u001b[43mcreate_graph\u001b[49m\u001b[43m,\u001b[49m\u001b[43m \u001b[49m\u001b[43minputs\u001b[49m\u001b[38;5;241;43m=\u001b[39;49m\u001b[43minputs\u001b[49m\n\u001b[1;32m    523\u001b[0m \u001b[43m\u001b[49m\u001b[43m)\u001b[49m\n",
      "File \u001b[0;32m~/anaconda3/envs/Main/lib/python3.11/site-packages/torch/autograd/__init__.py:289\u001b[0m, in \u001b[0;36mbackward\u001b[0;34m(tensors, grad_tensors, retain_graph, create_graph, grad_variables, inputs)\u001b[0m\n\u001b[1;32m    284\u001b[0m     retain_graph \u001b[38;5;241m=\u001b[39m create_graph\n\u001b[1;32m    286\u001b[0m \u001b[38;5;66;03m# The reason we repeat the same comment below is that\u001b[39;00m\n\u001b[1;32m    287\u001b[0m \u001b[38;5;66;03m# some Python versions print out the first line of a multi-line function\u001b[39;00m\n\u001b[1;32m    288\u001b[0m \u001b[38;5;66;03m# calls in the traceback and some print out the last line\u001b[39;00m\n\u001b[0;32m--> 289\u001b[0m \u001b[43m_engine_run_backward\u001b[49m\u001b[43m(\u001b[49m\n\u001b[1;32m    290\u001b[0m \u001b[43m    \u001b[49m\u001b[43mtensors\u001b[49m\u001b[43m,\u001b[49m\n\u001b[1;32m    291\u001b[0m \u001b[43m    \u001b[49m\u001b[43mgrad_tensors_\u001b[49m\u001b[43m,\u001b[49m\n\u001b[1;32m    292\u001b[0m \u001b[43m    \u001b[49m\u001b[43mretain_graph\u001b[49m\u001b[43m,\u001b[49m\n\u001b[1;32m    293\u001b[0m \u001b[43m    \u001b[49m\u001b[43mcreate_graph\u001b[49m\u001b[43m,\u001b[49m\n\u001b[1;32m    294\u001b[0m \u001b[43m    \u001b[49m\u001b[43minputs\u001b[49m\u001b[43m,\u001b[49m\n\u001b[1;32m    295\u001b[0m \u001b[43m    \u001b[49m\u001b[43mallow_unreachable\u001b[49m\u001b[38;5;241;43m=\u001b[39;49m\u001b[38;5;28;43;01mTrue\u001b[39;49;00m\u001b[43m,\u001b[49m\n\u001b[1;32m    296\u001b[0m \u001b[43m    \u001b[49m\u001b[43maccumulate_grad\u001b[49m\u001b[38;5;241;43m=\u001b[39;49m\u001b[38;5;28;43;01mTrue\u001b[39;49;00m\u001b[43m,\u001b[49m\n\u001b[1;32m    297\u001b[0m \u001b[43m\u001b[49m\u001b[43m)\u001b[49m\n",
      "File \u001b[0;32m~/anaconda3/envs/Main/lib/python3.11/site-packages/torch/autograd/graph.py:768\u001b[0m, in \u001b[0;36m_engine_run_backward\u001b[0;34m(t_outputs, *args, **kwargs)\u001b[0m\n\u001b[1;32m    766\u001b[0m     unregister_hooks \u001b[38;5;241m=\u001b[39m _register_logging_hooks_on_whole_graph(t_outputs)\n\u001b[1;32m    767\u001b[0m \u001b[38;5;28;01mtry\u001b[39;00m:\n\u001b[0;32m--> 768\u001b[0m     \u001b[38;5;28;01mreturn\u001b[39;00m \u001b[43mVariable\u001b[49m\u001b[38;5;241;43m.\u001b[39;49m\u001b[43m_execution_engine\u001b[49m\u001b[38;5;241;43m.\u001b[39;49m\u001b[43mrun_backward\u001b[49m\u001b[43m(\u001b[49m\u001b[43m  \u001b[49m\u001b[38;5;66;43;03m# Calls into the C++ engine to run the backward pass\u001b[39;49;00m\n\u001b[1;32m    769\u001b[0m \u001b[43m        \u001b[49m\u001b[43mt_outputs\u001b[49m\u001b[43m,\u001b[49m\u001b[43m \u001b[49m\u001b[38;5;241;43m*\u001b[39;49m\u001b[43margs\u001b[49m\u001b[43m,\u001b[49m\u001b[43m \u001b[49m\u001b[38;5;241;43m*\u001b[39;49m\u001b[38;5;241;43m*\u001b[39;49m\u001b[43mkwargs\u001b[49m\n\u001b[1;32m    770\u001b[0m \u001b[43m    \u001b[49m\u001b[43m)\u001b[49m  \u001b[38;5;66;03m# Calls into the C++ engine to run the backward pass\u001b[39;00m\n\u001b[1;32m    771\u001b[0m \u001b[38;5;28;01mfinally\u001b[39;00m:\n\u001b[1;32m    772\u001b[0m     \u001b[38;5;28;01mif\u001b[39;00m attach_logging_hooks:\n",
      "\u001b[0;31mKeyboardInterrupt\u001b[0m: "
     ]
    }
   ],
   "source": [
    "optimizer = optim.Adam(model.parameters(), lr=0.001)\n",
    "criterion = nn.CrossEntropyLoss()\n",
    "\n",
    "# Training loop\n",
    "for epoch in range(10):  # Number of epochs\n",
    "    model.train()\n",
    "    running_loss = 0.0\n",
    "    for images, mm_to_pixel_ratios, labels in train_loader:\n",
    "        optimizer.zero_grad()\n",
    "        outputs = model(images, mm_to_pixel_ratios)\n",
    "        loss = criterion(outputs, labels)\n",
    "        loss.backward()\n",
    "        optimizer.step()\n",
    "        running_loss += loss.item()\n",
    "\n",
    "    print(f'Epoch [{epoch + 1}/10], Loss: {running_loss/len(train_loader)}')"
   ]
  },
  {
   "cell_type": "code",
   "execution_count": 24,
   "id": "95d0ae03",
   "metadata": {},
   "outputs": [],
   "source": [
    "torch.save(model.state_dict(), 'Prediction Model/pothole_classification_resnet_model.pth')"
   ]
  },
  {
   "cell_type": "code",
   "execution_count": 44,
   "id": "3633e79d",
   "metadata": {},
   "outputs": [
    {
     "data": {
      "text/plain": [
       "ResNetWithRatio(\n",
       "  (resnet): ResNet(\n",
       "    (conv1): Conv2d(3, 64, kernel_size=(7, 7), stride=(2, 2), padding=(3, 3), bias=False)\n",
       "    (bn1): BatchNorm2d(64, eps=1e-05, momentum=0.1, affine=True, track_running_stats=True)\n",
       "    (relu): ReLU(inplace=True)\n",
       "    (maxpool): MaxPool2d(kernel_size=3, stride=2, padding=1, dilation=1, ceil_mode=False)\n",
       "    (layer1): Sequential(\n",
       "      (0): BasicBlock(\n",
       "        (conv1): Conv2d(64, 64, kernel_size=(3, 3), stride=(1, 1), padding=(1, 1), bias=False)\n",
       "        (bn1): BatchNorm2d(64, eps=1e-05, momentum=0.1, affine=True, track_running_stats=True)\n",
       "        (relu): ReLU(inplace=True)\n",
       "        (conv2): Conv2d(64, 64, kernel_size=(3, 3), stride=(1, 1), padding=(1, 1), bias=False)\n",
       "        (bn2): BatchNorm2d(64, eps=1e-05, momentum=0.1, affine=True, track_running_stats=True)\n",
       "      )\n",
       "      (1): BasicBlock(\n",
       "        (conv1): Conv2d(64, 64, kernel_size=(3, 3), stride=(1, 1), padding=(1, 1), bias=False)\n",
       "        (bn1): BatchNorm2d(64, eps=1e-05, momentum=0.1, affine=True, track_running_stats=True)\n",
       "        (relu): ReLU(inplace=True)\n",
       "        (conv2): Conv2d(64, 64, kernel_size=(3, 3), stride=(1, 1), padding=(1, 1), bias=False)\n",
       "        (bn2): BatchNorm2d(64, eps=1e-05, momentum=0.1, affine=True, track_running_stats=True)\n",
       "      )\n",
       "    )\n",
       "    (layer2): Sequential(\n",
       "      (0): BasicBlock(\n",
       "        (conv1): Conv2d(64, 128, kernel_size=(3, 3), stride=(2, 2), padding=(1, 1), bias=False)\n",
       "        (bn1): BatchNorm2d(128, eps=1e-05, momentum=0.1, affine=True, track_running_stats=True)\n",
       "        (relu): ReLU(inplace=True)\n",
       "        (conv2): Conv2d(128, 128, kernel_size=(3, 3), stride=(1, 1), padding=(1, 1), bias=False)\n",
       "        (bn2): BatchNorm2d(128, eps=1e-05, momentum=0.1, affine=True, track_running_stats=True)\n",
       "        (downsample): Sequential(\n",
       "          (0): Conv2d(64, 128, kernel_size=(1, 1), stride=(2, 2), bias=False)\n",
       "          (1): BatchNorm2d(128, eps=1e-05, momentum=0.1, affine=True, track_running_stats=True)\n",
       "        )\n",
       "      )\n",
       "      (1): BasicBlock(\n",
       "        (conv1): Conv2d(128, 128, kernel_size=(3, 3), stride=(1, 1), padding=(1, 1), bias=False)\n",
       "        (bn1): BatchNorm2d(128, eps=1e-05, momentum=0.1, affine=True, track_running_stats=True)\n",
       "        (relu): ReLU(inplace=True)\n",
       "        (conv2): Conv2d(128, 128, kernel_size=(3, 3), stride=(1, 1), padding=(1, 1), bias=False)\n",
       "        (bn2): BatchNorm2d(128, eps=1e-05, momentum=0.1, affine=True, track_running_stats=True)\n",
       "      )\n",
       "    )\n",
       "    (layer3): Sequential(\n",
       "      (0): BasicBlock(\n",
       "        (conv1): Conv2d(128, 256, kernel_size=(3, 3), stride=(2, 2), padding=(1, 1), bias=False)\n",
       "        (bn1): BatchNorm2d(256, eps=1e-05, momentum=0.1, affine=True, track_running_stats=True)\n",
       "        (relu): ReLU(inplace=True)\n",
       "        (conv2): Conv2d(256, 256, kernel_size=(3, 3), stride=(1, 1), padding=(1, 1), bias=False)\n",
       "        (bn2): BatchNorm2d(256, eps=1e-05, momentum=0.1, affine=True, track_running_stats=True)\n",
       "        (downsample): Sequential(\n",
       "          (0): Conv2d(128, 256, kernel_size=(1, 1), stride=(2, 2), bias=False)\n",
       "          (1): BatchNorm2d(256, eps=1e-05, momentum=0.1, affine=True, track_running_stats=True)\n",
       "        )\n",
       "      )\n",
       "      (1): BasicBlock(\n",
       "        (conv1): Conv2d(256, 256, kernel_size=(3, 3), stride=(1, 1), padding=(1, 1), bias=False)\n",
       "        (bn1): BatchNorm2d(256, eps=1e-05, momentum=0.1, affine=True, track_running_stats=True)\n",
       "        (relu): ReLU(inplace=True)\n",
       "        (conv2): Conv2d(256, 256, kernel_size=(3, 3), stride=(1, 1), padding=(1, 1), bias=False)\n",
       "        (bn2): BatchNorm2d(256, eps=1e-05, momentum=0.1, affine=True, track_running_stats=True)\n",
       "      )\n",
       "    )\n",
       "    (layer4): Sequential(\n",
       "      (0): BasicBlock(\n",
       "        (conv1): Conv2d(256, 512, kernel_size=(3, 3), stride=(2, 2), padding=(1, 1), bias=False)\n",
       "        (bn1): BatchNorm2d(512, eps=1e-05, momentum=0.1, affine=True, track_running_stats=True)\n",
       "        (relu): ReLU(inplace=True)\n",
       "        (conv2): Conv2d(512, 512, kernel_size=(3, 3), stride=(1, 1), padding=(1, 1), bias=False)\n",
       "        (bn2): BatchNorm2d(512, eps=1e-05, momentum=0.1, affine=True, track_running_stats=True)\n",
       "        (downsample): Sequential(\n",
       "          (0): Conv2d(256, 512, kernel_size=(1, 1), stride=(2, 2), bias=False)\n",
       "          (1): BatchNorm2d(512, eps=1e-05, momentum=0.1, affine=True, track_running_stats=True)\n",
       "        )\n",
       "      )\n",
       "      (1): BasicBlock(\n",
       "        (conv1): Conv2d(512, 512, kernel_size=(3, 3), stride=(1, 1), padding=(1, 1), bias=False)\n",
       "        (bn1): BatchNorm2d(512, eps=1e-05, momentum=0.1, affine=True, track_running_stats=True)\n",
       "        (relu): ReLU(inplace=True)\n",
       "        (conv2): Conv2d(512, 512, kernel_size=(3, 3), stride=(1, 1), padding=(1, 1), bias=False)\n",
       "        (bn2): BatchNorm2d(512, eps=1e-05, momentum=0.1, affine=True, track_running_stats=True)\n",
       "      )\n",
       "    )\n",
       "    (avgpool): AdaptiveAvgPool2d(output_size=(1, 1))\n",
       "    (fc): Identity()\n",
       "  )\n",
       "  (fc1): Linear(in_features=513, out_features=256, bias=True)\n",
       "  (fc2): Linear(in_features=256, out_features=128, bias=True)\n",
       "  (fc3): Linear(in_features=128, out_features=5, bias=True)\n",
       ")"
      ]
     },
     "execution_count": 44,
     "metadata": {},
     "output_type": "execute_result"
    }
   ],
   "source": [
    "model.eval()"
   ]
  },
  {
   "cell_type": "code",
   "execution_count": 84,
   "id": "2f0c2e63",
   "metadata": {},
   "outputs": [
    {
     "name": "stdout",
     "output_type": "stream",
     "text": [
      "Predicted Class: 1\n",
      "True Class: 1\n"
     ]
    }
   ],
   "source": [
    "def sample_and_predict(model, dataset, df):\n",
    "    # Randomly select an index\n",
    "    random_index = np.random.randint(0, len(dataset))\n",
    "    \n",
    "    # Get the sample from the dataset\n",
    "    sample_image, sample_pixel_ratio, true_class = dataset[random_index]\n",
    "    \n",
    "    # Add batch dimension\n",
    "    sample_image = sample_image.unsqueeze(0)  # Shape: [1, 3, H, W]\n",
    "    sample_pixel_ratio = sample_pixel_ratio.unsqueeze(0)  # Shape: [1, 1]\n",
    "    \n",
    "    # Make a prediction\n",
    "    with torch.no_grad():\n",
    "        outputs = model(sample_image, sample_pixel_ratio)\n",
    "        _, predicted_class = torch.max(outputs, 1)\n",
    "    \n",
    "    # Convert tensors to CPU and detach\n",
    "    predicted_class = predicted_class.item()\n",
    "    \n",
    "    # Print the predicted and true classes\n",
    "    print(f\"Predicted Class: {predicted_class}\")\n",
    "    print(f\"True Class: {true_class}\")\n",
    "\n",
    "# Example usage:\n",
    "sample_and_predict(model, dataset, df)"
   ]
  },
  {
   "cell_type": "code",
   "execution_count": null,
   "id": "6b2708ed",
   "metadata": {},
   "outputs": [],
   "source": []
  }
 ],
 "metadata": {
  "kernelspec": {
   "display_name": "Main",
   "language": "python",
   "name": "main"
  },
  "language_info": {
   "codemirror_mode": {
    "name": "ipython",
    "version": 3
   },
   "file_extension": ".py",
   "mimetype": "text/x-python",
   "name": "python",
   "nbconvert_exporter": "python",
   "pygments_lexer": "ipython3",
   "version": "3.11.4"
  }
 },
 "nbformat": 4,
 "nbformat_minor": 5
}
