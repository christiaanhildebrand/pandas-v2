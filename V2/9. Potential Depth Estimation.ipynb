{
 "cells": [
  {
   "cell_type": "code",
   "execution_count": 8,
   "id": "3dcafdc7",
   "metadata": {},
   "outputs": [],
   "source": [
    "import tensorflow as tf, tensorflow\n",
    "from tensorflow import keras\n",
    "import torch\n",
    "import cv2\n",
    "import numpy\n",
    "import os,sys,time\n",
    "from ultralytics import YOLO\n",
    "import numpy as np"
   ]
  },
  {
   "cell_type": "code",
   "execution_count": 1,
   "id": "76eaec42",
   "metadata": {},
   "outputs": [
    {
     "ename": "NameError",
     "evalue": "name 'keras' is not defined",
     "output_type": "error",
     "traceback": [
      "\u001b[0;31m---------------------------------------------------------------------------\u001b[0m",
      "\u001b[0;31mNameError\u001b[0m                                 Traceback (most recent call last)",
      "Cell \u001b[0;32mIn[1], line 1\u001b[0m\n\u001b[0;32m----> 1\u001b[0m depthModel \u001b[38;5;241m=\u001b[39m \u001b[43mkeras\u001b[49m\u001b[38;5;241m.\u001b[39mmodels\u001b[38;5;241m.\u001b[39mload_model(\u001b[38;5;124m\"\u001b[39m\u001b[38;5;124mmodels/depth estimation/modelforDepth.h5\u001b[39m\u001b[38;5;124m\"\u001b[39m)\n\u001b[1;32m      3\u001b[0m \u001b[38;5;66;03m# Load your custom YOLO model for pothole detection\u001b[39;00m\n\u001b[1;32m      4\u001b[0m model \u001b[38;5;241m=\u001b[39m YOLO(\u001b[38;5;124m'\u001b[39m\u001b[38;5;124mDONT TOUCH THESE MODELS/pothole_id.pt\u001b[39m\u001b[38;5;124m'\u001b[39m)\n",
      "\u001b[0;31mNameError\u001b[0m: name 'keras' is not defined"
     ]
    }
   ],
   "source": [
    "depthModel = keras.models.load_model(\"models/depth estimation/modelforDepth.h5\")\n",
    "\n",
    "# Load your custom YOLO model for pothole detection\n",
    "model = YOLO('DONT TOUCH THESE MODELS/pothole_id.pt')\n",
    "\n",
    "# Function to preprocess the image for the depth model\n",
    "def imgArray(img):\n",
    "    img = tf.expand_dims(img, axis=-1)  # Add channel dimension (for grayscale image)\n",
    "    img = tf.image.convert_image_dtype(img, tf.float32)\n",
    "    img = tf.image.resize(img, [128, 128])\n",
    "    return np.expand_dims(img, axis=0)  # Add batch dimension\n",
    "\n",
    "# Load your pothole image\n",
    "img = cv2.imread(\"Combined Data/train_images/p39.jpg\")\n",
    "\n",
    "# Perform object detection to identify potholes\n",
    "result = model(img)\n",
    "\n",
    "# Get the bounding box coordinates from the result\n",
    "boxes = result[0].boxes.xyxy  # Get xyxy coordinates\n",
    "scores = result[0].boxes.conf  # Get confidence scores\n",
    "\n",
    "fontScale = 1\n",
    "color = (0, 0, 255)\n",
    "thickness = 2\n",
    "font = cv2.FONT_HERSHEY_SIMPLEX\n",
    "\n",
    "for i, box in enumerate(boxes):\n",
    "    if scores[i] > 0:  # Check if confidence is greater than 0\n",
    "        # Crop the detected pothole region\n",
    "        x1, y1, x2, y2 = map(int, box)\n",
    "        img1 = img[y1:y2, x1:x2]\n",
    "\n",
    "        # Convert to grayscale\n",
    "        img_ = cv2.cvtColor(img1, cv2.COLOR_BGR2GRAY)\n",
    "        bluredImg = cv2.GaussianBlur(img_, (3, 3), 4400)\n",
    "        _, thresh = cv2.threshold(bluredImg, 120, 255, cv2.THRESH_BINARY)\n",
    "        \n",
    "        # Load and preprocess the image for the depth model\n",
    "        toFindDepth = imgArray(thresh)\n",
    "        \n",
    "        # Predict depth\n",
    "        arr = depthModel.predict(toFindDepth)\n",
    "        dep = arr[0][0][0][0]  # Assuming the depth model outputs depth directly\n",
    "        \n",
    "        # Annotate the original image with the depth value\n",
    "        img = cv2.putText(img, f\"{dep:.2f} cm\", (x1 - 5, y1 - 5),\n",
    "                          font, fontScale, color, thickness, cv2.LINE_AA)\n",
    "        img = cv2.rectangle(img, (x1, y1), (x2, y2), (255, 0, 0), 2)\n",
    "\n",
    "# Convert the image from BGR to RGB for plotting\n",
    "img_rgb = cv2.cvtColor(img, cv2.COLOR_BGR2RGB)\n",
    "\n",
    "# Plot the final annotated image using Matplotlib\n",
    "plt.figure(figsize=(10, 10))\n",
    "plt.imshow(img_rgb)\n",
    "plt.axis('off')  # Hide axes\n",
    "plt.show()"
   ]
  },
  {
   "cell_type": "code",
   "execution_count": null,
   "id": "ace10c20",
   "metadata": {},
   "outputs": [],
   "source": []
  }
 ],
 "metadata": {
  "kernelspec": {
   "display_name": "Main",
   "language": "python",
   "name": "main"
  },
  "language_info": {
   "codemirror_mode": {
    "name": "ipython",
    "version": 3
   },
   "file_extension": ".py",
   "mimetype": "text/x-python",
   "name": "python",
   "nbconvert_exporter": "python",
   "pygments_lexer": "ipython3",
   "version": "3.11.4"
  }
 },
 "nbformat": 4,
 "nbformat_minor": 5
}
