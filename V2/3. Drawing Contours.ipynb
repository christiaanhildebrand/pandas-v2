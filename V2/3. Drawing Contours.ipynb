{
 "cells": [
  {
   "cell_type": "code",
   "execution_count": null,
   "id": "07790fd8",
   "metadata": {},
   "outputs": [],
   "source": [
    "import os\n",
    "import pandas as pd\n",
    "import cv2\n",
    "import matplotlib.pyplot as plt\n",
    "import numpy as np\n",
    "import shutil\n",
    "import random\n",
    "from PIL import Image\n",
    "from ipywidgets import interact, IntSlider\n",
    "from ultralytics import YOLO"
   ]
  },
  {
   "cell_type": "markdown",
   "id": "ace1525f",
   "metadata": {},
   "source": [
    "# Creating Contours"
   ]
  },
  {
   "cell_type": "code",
   "execution_count": null,
   "id": "08de6ac5",
   "metadata": {},
   "outputs": [],
   "source": [
    "input_dir = 'Contours/original images/images'\n",
    "output_dir = 'Contours/original images/labels'"
   ]
  },
  {
   "cell_type": "code",
   "execution_count": null,
   "id": "9818cc9e",
   "metadata": {},
   "outputs": [],
   "source": [
    "os.makedirs(output_dir, exist_ok=True)"
   ]
  },
  {
   "cell_type": "code",
   "execution_count": null,
   "id": "29b41244",
   "metadata": {},
   "outputs": [],
   "source": [
    "def draw_contour(event, x, y, flags, param):\n",
    "    global drawing, current_contour\n",
    "\n",
    "    if event == cv2.EVENT_LBUTTONDOWN:\n",
    "        drawing = True\n",
    "        current_contour.append((x, y))\n",
    "    elif event == cv2.EVENT_MOUSEMOVE:\n",
    "        if drawing:\n",
    "            current_contour.append((x, y))\n",
    "    elif event == cv2.EVENT_LBUTTONUP:\n",
    "        drawing = False\n",
    "        current_contour.append((x, y))\n",
    "\n",
    "def convert_to_yolo_format(contour, img_width, img_height):\n",
    "    yolo_contour = []\n",
    "    for point in contour:\n",
    "        x = point[0] / img_width\n",
    "        y = point[1] / img_height\n",
    "        yolo_contour.append(x)\n",
    "        yolo_contour.append(y)\n",
    "    return yolo_contour\n",
    "\n",
    "# Function to load the list of already processed images\n",
    "def load_processed_images(output_dir):\n",
    "    processed_images = set()\n",
    "    for label_file in os.listdir(output_dir):\n",
    "        if label_file.endswith('.txt'):\n",
    "            processed_images.add(label_file.replace('.txt', ''))\n",
    "    return processed_images\n",
    "\n",
    "# Load the list of already processed images\n",
    "processed_images = load_processed_images(output_dir)\n",
    "\n",
    "# Iterate through images in the input directory\n",
    "for image_name in os.listdir(input_dir):\n",
    "    image_base_name = os.path.splitext(image_name)[0]\n",
    "    \n",
    "    if image_base_name in processed_images:\n",
    "        print(f\"Skipping {image_name}, already processed.\")\n",
    "        continue\n",
    "\n",
    "    if image_name.endswith(('.jpg', '.jpeg', '.png')):\n",
    "        image_path = os.path.join(input_dir, image_name)\n",
    "        image = cv2.imread(image_path)\n",
    "        img_height, img_width = image.shape[:2]\n",
    "        \n",
    "        contours = []\n",
    "        current_contour = []\n",
    "        drawing = False\n",
    "\n",
    "        # Create a window and set a mouse callback to draw the contour\n",
    "        cv2.namedWindow(image_name)\n",
    "        cv2.setMouseCallback(image_name, draw_contour)\n",
    "\n",
    "        while True:\n",
    "            temp_image = image.copy()\n",
    "            for contour in contours:\n",
    "                cv2.polylines(temp_image, [np.array(contour)], isClosed=True, color=(0, 255, 0), thickness=2)\n",
    "            \n",
    "            if len(current_contour) > 1:\n",
    "                cv2.polylines(temp_image, [np.array(current_contour)], isClosed=True, color=(255, 0, 0), thickness=2)\n",
    "            \n",
    "            cv2.imshow(image_name, temp_image)\n",
    "            key = cv2.waitKey(1) & 0xFF\n",
    "\n",
    "            if key == ord('n'):  # Press 'n' to finalize the current contour and start a new one\n",
    "                if len(current_contour) > 2:  # Ensure there is a valid contour\n",
    "                    contours.append(current_contour)\n",
    "                current_contour = []\n",
    "\n",
    "            elif key == ord('q'):  # Press 'q' to save and move to the next image\n",
    "                if len(current_contour) > 2:  # Finalize the last contour if it's valid\n",
    "                    contours.append(current_contour)\n",
    "                \n",
    "                if contours:  # Ensure there are contours to save\n",
    "                    label_path = os.path.join(output_dir, image_name.replace('.jpg', '.txt').replace('.jpeg', '.txt').replace('.png', '.txt'))\n",
    "                    with open(label_path, 'w') as f:\n",
    "                        for contour in contours:\n",
    "                            yolo_contour = convert_to_yolo_format(contour, img_width, img_height)\n",
    "                            f.write(f'0 {\" \".join(map(str, yolo_contour))}\\n')\n",
    "                break\n",
    "\n",
    "            elif key == ord('r'):  # Press 'r' to reset the current contour\n",
    "                current_contour = []\n",
    "\n",
    "        cv2.destroyAllWindows()\n",
    "\n",
    "print(\"Contour drawing complete.\")"
   ]
  },
  {
   "cell_type": "markdown",
   "id": "229b0fdc",
   "metadata": {},
   "source": [
    "## Adding images to labelled images"
   ]
  },
  {
   "cell_type": "code",
   "execution_count": null,
   "id": "775485fb",
   "metadata": {},
   "outputs": [],
   "source": [
    "base_dir = 'Contours/original images/'\n",
    "images_dir = os.path.join(base_dir, 'images')\n",
    "labels_dir = os.path.join(base_dir, 'labels')\n",
    "labelled_images_dir = os.path.join(base_dir, 'labelled_images')\n",
    "\n",
    "os.makedirs(labelled_images_dir, exist_ok=True)"
   ]
  },
  {
   "cell_type": "code",
   "execution_count": null,
   "id": "55c8f495",
   "metadata": {},
   "outputs": [],
   "source": [
    "for image_file in os.listdir(images_dir):\n",
    "    if image_file.endswith(('.jpg', '.jpeg', '.png')):\n",
    "        # Generate the corresponding label file name\n",
    "        label_file = os.path.splitext(image_file)[0] + '.txt'\n",
    "        \n",
    "        # Check if the corresponding label file exists in the labels directory\n",
    "        if os.path.exists(os.path.join(labels_dir, label_file)):\n",
    "            # Copy the image to the labelled_images directory\n",
    "            shutil.copy(os.path.join(images_dir, image_file), os.path.join(labelled_images_dir, image_file))\n",
    "\n",
    "print(\"Images with corresponding labels have been copied to the labelled_images directory.\")"
   ]
  },
  {
   "cell_type": "code",
   "execution_count": null,
   "id": "d0ceda3d",
   "metadata": {},
   "outputs": [],
   "source": []
  },
  {
   "cell_type": "code",
   "execution_count": null,
   "id": "6d885300",
   "metadata": {},
   "outputs": [],
   "source": []
  },
  {
   "cell_type": "code",
   "execution_count": null,
   "id": "579a6737",
   "metadata": {},
   "outputs": [],
   "source": []
  },
  {
   "cell_type": "code",
   "execution_count": null,
   "id": "407a7181",
   "metadata": {},
   "outputs": [],
   "source": []
  },
  {
   "cell_type": "code",
   "execution_count": null,
   "id": "29f7f176",
   "metadata": {},
   "outputs": [],
   "source": []
  },
  {
   "cell_type": "code",
   "execution_count": null,
   "id": "8cfd41d5",
   "metadata": {},
   "outputs": [],
   "source": []
  },
  {
   "cell_type": "code",
   "execution_count": null,
   "id": "e7d1e321",
   "metadata": {},
   "outputs": [],
   "source": [
    "labels_dir = 'Contours/original images/valid/labels'  # Directory containing the labels\n",
    "labelled_images_dir = 'Contours/original images/labelled_images'  # Directory containing the images\n",
    "target_images_dir = 'Contours/original images/valid/images'  # Directory to copy the images to\n",
    "\n",
    "# Ensure the target directory exists\n",
    "os.makedirs(target_images_dir, exist_ok=True)\n",
    "\n",
    "# Get the list of labels (assuming each label file corresponds to an image)\n",
    "label_files = os.listdir(labels_dir)\n",
    "\n",
    "# Iterate over each label file\n",
    "for label_file in label_files:\n",
    "    # Derive the corresponding image name (assuming the same name with .jpg extension)\n",
    "    image_name = label_file.replace('.txt', '.jpg')\n",
    "    \n",
    "    # Construct full image path\n",
    "    image_path = os.path.join(labelled_images_dir, image_name)\n",
    "    \n",
    "    # Check if the image exists in the labelled_images directory\n",
    "    if os.path.exists(image_path):\n",
    "        # Copy the image to the target directory\n",
    "        shutil.copy(image_path, os.path.join(target_images_dir, image_name))\n",
    "        print(f\"Copied: {image_name}\")\n",
    "    else:\n",
    "        print(f\"Image not found for label: {label_file}\")"
   ]
  },
  {
   "cell_type": "code",
   "execution_count": null,
   "id": "819e0508",
   "metadata": {},
   "outputs": [],
   "source": []
  }
 ],
 "metadata": {
  "kernelspec": {
   "display_name": "Main",
   "language": "python",
   "name": "main"
  },
  "language_info": {
   "codemirror_mode": {
    "name": "ipython",
    "version": 3
   },
   "file_extension": ".py",
   "mimetype": "text/x-python",
   "name": "python",
   "nbconvert_exporter": "python",
   "pygments_lexer": "ipython3",
   "version": "3.11.4"
  }
 },
 "nbformat": 4,
 "nbformat_minor": 5
}
